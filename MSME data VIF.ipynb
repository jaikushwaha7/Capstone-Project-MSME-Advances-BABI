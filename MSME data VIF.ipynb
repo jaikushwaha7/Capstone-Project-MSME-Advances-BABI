{
 "cells": [
  {
   "cell_type": "code",
   "execution_count": 1,
   "metadata": {},
   "outputs": [],
   "source": [
    "# Importing the libraries\n",
    "import numpy as np\n",
    "import matplotlib.pyplot as plt\n",
    "import pandas as pd"
   ]
  },
  {
   "cell_type": "code",
   "execution_count": 4,
   "metadata": {},
   "outputs": [],
   "source": [
    "# Importing the dataset\n",
    "df = pd.read_csv(\"MSME Data Modified_v1.9_featureEngineered.csv\")\n",
    "c = 29\n",
    "data = df.drop(df.columns[c], axis =1)\n",
    "X = df.drop(df.columns[c], axis =1)\n",
    "y = df['loan_default'].astype(int)"
   ]
  },
  {
   "cell_type": "code",
   "execution_count": 8,
   "metadata": {},
   "outputs": [
    {
     "name": "stdout",
     "output_type": "stream",
     "text": [
      "                                              feature          VIF\n",
      "0                                          sme_sector          inf\n",
      "38                               sector_name_Services          inf\n",
      "9                               PRI.SANCTIONED.AMOUNT  2166.858694\n",
      "10                               PRI.DISBURSED.AMOUNT  2165.741410\n",
      "15                              SEC.SANCTIONED.AMOUNT   802.589995\n",
      "16                               SEC.DISBURSED.AMOUNT   801.519896\n",
      "28                                  PERFORM_CNS.SCORE   173.159432\n",
      "45  PERFORM_CNS.SCORE.DESCRIPTION_Simplified_Not S...    95.368346\n",
      "3                                    disbursed_amount    36.038489\n",
      "4                                          asset_cost    33.725298\n",
      "39                                 sme_category_MICRO    27.339188\n",
      "40                                 sme_category_SMALL    27.196279\n",
      "47  PERFORM_CNS.SCORE.DESCRIPTION_Simplified_Very ...    26.749842\n",
      "8                                 PRI.CURRENT.BALANCE    15.961186\n",
      "5                                                 ltv    15.200219\n",
      "14                                SEC.CURRENT.BALANCE    10.440159\n",
      "23                                        Aadhar_flag     7.103304\n",
      "43  PERFORM_CNS.SCORE.DESCRIPTION_Simplified_Low Risk     6.886149\n",
      "25                                       VoterID_flag     6.312571\n",
      "12                                   SEC.ACTIVE.ACCTS     5.057687\n",
      "11                                    SEC.NO.OF.ACCTS     4.894467\n",
      "20                DELINQUENT.ACCTS.IN.LAST.SIX.MONTHS     4.551911\n",
      "21                                         Delinquent     4.230646\n",
      "46  PERFORM_CNS.SCORE.DESCRIPTION_Simplified_Very ...     3.857433\n",
      "6                                    PRI.ACTIVE.ACCTS     3.761349\n",
      "44  PERFORM_CNS.SCORE.DESCRIPTION_Simplified_Mediu...     3.234676\n",
      "7                                   PRI.OVERDUE.ACCTS     2.424587\n",
      "19                       NEW.ACCTS.IN.LAST.SIX.MONTHS     2.399527\n",
      "26                                       Driving_flag     1.873318\n",
      "36                                     state_name_cnt     1.835238\n",
      "34                                  district_name_cnt     1.788406\n",
      "1                                     bsr_activity_cd     1.758942\n",
      "31                                      scheme_cd_cnt     1.684143\n",
      "41                                    module_id_cdcc      1.513932\n",
      "13                                  SEC.OVERDUE.ACCTS     1.504825\n",
      "32                                  industry_name_cnt     1.343305\n",
      "18                                     SEC.INSTAL.AMT     1.154550\n",
      "35                                    region_name_cnt     1.129686\n",
      "2                                          bsr_org_cd     1.110518\n",
      "33                                    branch_name_cnt     1.094248\n",
      "29                                    Age_of_Customer     1.085123\n",
      "27                                      Passport_flag     1.061172\n",
      "17                                 PRIMARY.INSTAL.AMT     1.054369\n",
      "24                                           PAN_flag     1.053274\n",
      "42                      Employment.Type_Self employed     1.038604\n",
      "30                                        Age_of_Loan     1.015270\n",
      "37                                    open_dt_day_cnt     1.001634\n",
      "22                                  MobileNo_Avl_Flag     0.000000\n"
     ]
    }
   ],
   "source": [
    "from statsmodels.stats.outliers_influence import variance_inflation_factor \n",
    "\n",
    "# VIF dataframe \n",
    "vif_data = pd.DataFrame() \n",
    "vif_data[\"feature\"] = X.columns \n",
    "  \n",
    "# calculating VIF for each feature \n",
    "vif_data[\"VIF\"] = [variance_inflation_factor(X.values, i) \n",
    "                          for i in range(len(X.columns))] \n",
    "vif_data.sort_values(by='VIF', ascending=False, inplace=True)  \n",
    "print(vif_data)"
   ]
  },
  {
   "cell_type": "code",
   "execution_count": 9,
   "metadata": {},
   "outputs": [],
   "source": [
    "vif_data.to_csv('VIF_on_FeatEngg_Data.csv', index =False)"
   ]
  },
  {
   "cell_type": "markdown",
   "metadata": {},
   "source": [
    "### There are some guidelines we can use to determine whether our VIFs are in an acceptable range. A rule of thumb commonly used in practice is if a VIF is > 10, you have high multicollinearity. In our case, with values around 1, we are in good shape."
   ]
  },
  {
   "cell_type": "code",
   "execution_count": 11,
   "metadata": {},
   "outputs": [
    {
     "data": {
      "text/plain": [
       "'\\ndisbursed_amount\\nasset_cost\\nsme_category_MICRO\\nsme_category_SMALL\\nPERFORM_CNS.SCORE.DESCRIPTION_Simplified_Very Low Risk\\nPRI.CURRENT.BALANCE\\nltv\\nSEC.CURRENT.BALANCE\\n'"
      ]
     },
     "execution_count": 11,
     "metadata": {},
     "output_type": "execute_result"
    }
   ],
   "source": [
    "c= [38,10,16,28]\n",
    "\n",
    "#col_to_remove = ['sector_name_Services','PRI.DISBURSED.AMOUNT','SEC.DISBURSED.AMOUNT',]\n",
    "\n",
    "# \n",
    "# Important variable as per business perspective\n",
    "# \n",
    "'''\n",
    "disbursed_amount\n",
    "asset_cost\n",
    "sme_category_MICRO\n",
    "sme_category_SMALL\n",
    "PERFORM_CNS.SCORE.DESCRIPTION_Simplified_Very Low Risk\n",
    "PRI.CURRENT.BALANCE\n",
    "ltv\n",
    "SEC.CURRENT.BALANCE\n",
    "'''"
   ]
  },
  {
   "cell_type": "code",
   "execution_count": 12,
   "metadata": {},
   "outputs": [
    {
     "name": "stderr",
     "output_type": "stream",
     "text": [
      "D:\\Study\\Great Lakes\\INtro to python\\Anaconda\\lib\\site-packages\\statsmodels\\stats\\outliers_influence.py:193: RuntimeWarning: divide by zero encountered in double_scalars\n",
      "  vif = 1. / (1. - r_squared_i)\n",
      "D:\\Study\\Great Lakes\\INtro to python\\Anaconda\\lib\\site-packages\\statsmodels\\regression\\linear_model.py:1685: RuntimeWarning: divide by zero encountered in double_scalars\n",
      "  return 1 - self.ssr/self.centered_tss\n"
     ]
    },
    {
     "name": "stdout",
     "output_type": "stream",
     "text": [
      "                                              feature        VIF\n",
      "0                                          sme_sector        inf\n",
      "34                               sector_name_Services        inf\n",
      "3                                    disbursed_amount  36.030407\n",
      "4                                          asset_cost  33.716235\n",
      "9                               PRI.SANCTIONED.AMOUNT  16.877767\n",
      "8                                 PRI.CURRENT.BALANCE  15.904106\n",
      "5                                                 ltv  15.193750\n",
      "14                              SEC.SANCTIONED.AMOUNT  11.346469\n",
      "13                                SEC.CURRENT.BALANCE  10.302822\n",
      "40  PERFORM_CNS.SCORE.DESCRIPTION_Simplified_Not S...   7.990403\n",
      "21                                        Aadhar_flag   7.100161\n",
      "23                                       VoterID_flag   6.310764\n",
      "42  PERFORM_CNS.SCORE.DESCRIPTION_Simplified_Very ...   5.671954\n",
      "11                                   SEC.ACTIVE.ACCTS   4.970314\n",
      "10                                    SEC.NO.OF.ACCTS   4.876037\n",
      "18                DELINQUENT.ACCTS.IN.LAST.SIX.MONTHS   4.540854\n",
      "19                                         Delinquent   4.221183\n",
      "6                                    PRI.ACTIVE.ACCTS   3.611753\n",
      "38  PERFORM_CNS.SCORE.DESCRIPTION_Simplified_Low Risk   2.802321\n",
      "7                                   PRI.OVERDUE.ACCTS   2.402252\n",
      "17                       NEW.ACCTS.IN.LAST.SIX.MONTHS   2.369392\n",
      "39  PERFORM_CNS.SCORE.DESCRIPTION_Simplified_Mediu...   2.074413\n",
      "41  PERFORM_CNS.SCORE.DESCRIPTION_Simplified_Very ...   1.955912\n",
      "24                                       Driving_flag   1.872475\n",
      "32                                     state_name_cnt   1.833107\n",
      "30                                  district_name_cnt   1.785855\n",
      "1                                     bsr_activity_cd   1.758836\n",
      "27                                      scheme_cd_cnt   1.673547\n",
      "36                                    module_id_cdcc    1.511347\n",
      "12                                  SEC.OVERDUE.ACCTS   1.500562\n",
      "28                                  industry_name_cnt   1.342738\n",
      "16                                     SEC.INSTAL.AMT   1.152845\n",
      "31                                    region_name_cnt   1.129519\n",
      "35                                 sme_category_SMALL   1.111139\n",
      "2                                          bsr_org_cd   1.110303\n",
      "29                                    branch_name_cnt   1.093323\n",
      "25                                      Passport_flag   1.060830\n",
      "15                                 PRIMARY.INSTAL.AMT   1.053392\n",
      "22                                           PAN_flag   1.052883\n",
      "37                      Employment.Type_Self employed   1.024427\n",
      "26                                        Age_of_Loan   1.015095\n",
      "33                                    open_dt_day_cnt   1.001523\n",
      "20                                  MobileNo_Avl_Flag   0.000000\n"
     ]
    }
   ],
   "source": [
    "X = X.drop(X.columns[c],axis=1)\n",
    "# VIF dataframe \n",
    "vif_data = pd.DataFrame() \n",
    "vif_data[\"feature\"] = X.columns \n",
    "  \n",
    "# calculating VIF for each feature \n",
    "vif_data[\"VIF\"] = [variance_inflation_factor(X.values, i) \n",
    "                          for i in range(len(X.columns))] \n",
    "vif_data.sort_values(by='VIF', ascending=False, inplace=True)  \n",
    "print(vif_data)"
   ]
  },
  {
   "cell_type": "code",
   "execution_count": 13,
   "metadata": {},
   "outputs": [],
   "source": [
    "vif_data.to_csv('VIF_on_FeatEngg_Data_V2.csv', index =False)"
   ]
  },
  {
   "cell_type": "code",
   "execution_count": null,
   "metadata": {},
   "outputs": [],
   "source": []
  },
  {
   "cell_type": "code",
   "execution_count": null,
   "metadata": {},
   "outputs": [],
   "source": []
  },
  {
   "cell_type": "code",
   "execution_count": null,
   "metadata": {},
   "outputs": [],
   "source": []
  },
  {
   "cell_type": "code",
   "execution_count": null,
   "metadata": {},
   "outputs": [],
   "source": []
  },
  {
   "cell_type": "code",
   "execution_count": null,
   "metadata": {},
   "outputs": [],
   "source": []
  },
  {
   "cell_type": "code",
   "execution_count": null,
   "metadata": {},
   "outputs": [],
   "source": []
  },
  {
   "cell_type": "code",
   "execution_count": null,
   "metadata": {},
   "outputs": [],
   "source": []
  },
  {
   "cell_type": "code",
   "execution_count": null,
   "metadata": {},
   "outputs": [],
   "source": []
  },
  {
   "cell_type": "code",
   "execution_count": null,
   "metadata": {},
   "outputs": [],
   "source": []
  },
  {
   "cell_type": "code",
   "execution_count": null,
   "metadata": {},
   "outputs": [],
   "source": []
  }
 ],
 "metadata": {
  "kernelspec": {
   "display_name": "python3.7",
   "language": "python",
   "name": "python3.7"
  },
  "language_info": {
   "codemirror_mode": {
    "name": "ipython",
    "version": 3
   },
   "file_extension": ".py",
   "mimetype": "text/x-python",
   "name": "python",
   "nbconvert_exporter": "python",
   "pygments_lexer": "ipython3",
   "version": "3.7.6"
  }
 },
 "nbformat": 4,
 "nbformat_minor": 4
}
