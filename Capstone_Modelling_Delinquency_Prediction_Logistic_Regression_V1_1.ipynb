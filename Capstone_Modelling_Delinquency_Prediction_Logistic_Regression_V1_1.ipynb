{
 "cells": [
  {
   "cell_type": "code",
   "execution_count": 87,
   "metadata": {
    "colab": {
     "base_uri": "https://localhost:8080/"
    },
    "id": "haiKPR-o0WTa",
    "outputId": "e3e1e39f-686b-43e0-bf40-9add70e7f802"
   },
   "outputs": [
    {
     "name": "stdout",
     "output_type": "stream",
     "text": [
      "Drive already mounted at /content/drive; to attempt to forcibly remount, call drive.mount(\"/content/drive\", force_remount=True).\n"
     ]
    }
   ],
   "source": [
    "# Load the Drive helper and mount\n",
    "from google.colab import drive\n",
    "drive.mount('/content/drive')"
   ]
  },
  {
   "cell_type": "code",
   "execution_count": 88,
   "metadata": {
    "colab": {
     "base_uri": "https://localhost:8080/",
     "height": 178
    },
    "id": "jVGDJsS51O9S",
    "outputId": "0fd5eac3-5b8a-405e-a523-197908605e15"
   },
   "outputs": [
    {
     "ename": "FileNotFoundError",
     "evalue": "ignored",
     "output_type": "error",
     "traceback": [
      "\u001b[0;31m---------------------------------------------------------------------------\u001b[0m",
      "\u001b[0;31mFileNotFoundError\u001b[0m                         Traceback (most recent call last)",
      "\u001b[0;32m<ipython-input-88-7008deb6c856>\u001b[0m in \u001b[0;36m<module>\u001b[0;34m()\u001b[0m\n\u001b[1;32m      1\u001b[0m \u001b[0;32mimport\u001b[0m \u001b[0mos\u001b[0m\u001b[0;34m\u001b[0m\u001b[0;34m\u001b[0m\u001b[0m\n\u001b[0;32m----> 2\u001b[0;31m \u001b[0mos\u001b[0m\u001b[0;34m.\u001b[0m\u001b[0mchdir\u001b[0m\u001b[0;34m(\u001b[0m\u001b[0;34m\"drive/My Drive/Capstone Data\"\u001b[0m\u001b[0;34m)\u001b[0m\u001b[0;34m\u001b[0m\u001b[0;34m\u001b[0m\u001b[0m\n\u001b[0m",
      "\u001b[0;31mFileNotFoundError\u001b[0m: [Errno 2] No such file or directory: 'drive/My Drive/Capstone Data'"
     ]
    }
   ],
   "source": [
    "import os\n",
    "os.chdir(\"drive/My Drive/Capstone Data\")"
   ]
  },
  {
   "cell_type": "code",
   "execution_count": 89,
   "metadata": {
    "id": "fuMu5-Kk4NS7"
   },
   "outputs": [],
   "source": [
    "folder = os.path.join('/content/drive/My Drive/Capstone Data')"
   ]
  },
  {
   "cell_type": "code",
   "execution_count": 90,
   "metadata": {
    "colab": {
     "base_uri": "https://localhost:8080/",
     "height": 35
    },
    "id": "HezRtVBv1PKz",
    "outputId": "694fc945-1e1a-4fda-e42d-894131acea57"
   },
   "outputs": [
    {
     "data": {
      "application/vnd.google.colaboratory.intrinsic+json": {
       "type": "string"
      },
      "text/plain": [
       "'/content/drive/My Drive/Capstone Data'"
      ]
     },
     "execution_count": 90,
     "metadata": {
      "tags": []
     },
     "output_type": "execute_result"
    }
   ],
   "source": [
    "pwd()"
   ]
  },
  {
   "cell_type": "code",
   "execution_count": 91,
   "metadata": {
    "colab": {
     "base_uri": "https://localhost:8080/"
    },
    "id": "67sbUIkx1PM-",
    "outputId": "713c53ff-487e-4c2f-91e2-b0d3351c84a3"
   },
   "outputs": [
    {
     "name": "stdout",
     "output_type": "stream",
     "text": [
      "'Capstone MSME EDA V1 (1).7_clean_NoNa_EDA.rmd'\n",
      "'Capstone MSME EDA V1.3.rmd'\n",
      "'Capstone MSME EDA V1.4.rmd'\n",
      "'Capstone MSME EDA V1.5.ipynb'\n",
      "'Capstone MSME EDA V1.5.rmd'\n",
      "'Capstone MSME EDA V1.6 NA Imputation (1).rmd'\n",
      "'Capstone MSME EDA V1.6 NA Imputation.rmd'\n",
      "'Capstone MSME EDA V1.7_clean_imputed_knn.rmd'\n",
      "'Capstone MSME EDA V1.7_clean_impute_knn'\n",
      "'Capstone MSME EDA V1.7_clean_impute_knn.rmd'\n",
      "'Capstone MSME EDA V1.7_clean_NoNa_EDA.rmd'\n",
      "'Capstone MSME EDA V1.9 feature engineering.ipynb'\n",
      "'Capstone MSME EDA V1.9 feature engineering v1.1.ipynb'\n",
      "'Capstone MSME EDA V1.9 feature selection v1.1.ipynb'\n",
      "'Capstone MSME pycaret modelling V1.1.ipynb'\n",
      "'Capstone Project _ Interim Report V1.14.docx'\n",
      "'Capstone Project _ Interim Report V1.14.pdf'\n",
      "'Feature Engineering- Handling Categorical Feature- Day 4.ipynb'\n",
      " ltfs_data\n",
      "'MSME data'\n",
      "'MSME Data Modified_v1.1.xlsx'\n",
      "'MSME Data Modified_v1.2.xlsx'\n",
      "'MSME Data Modified_v1.3.xlsx'\n",
      "'MSME Data Modified_v1.4.1.csv'\n",
      "'MSME Data Modified_v1.4.2.csv'\n",
      "'MSME Data Modified_v1.5_clean_with_NA.csv'\n",
      "'MSME Data Modified_v1.6_impute_median.csv'\n",
      "'MSME Data Modified_v1.9_featureEngineered.csv'\n",
      "'MSME table conversion.R'\n",
      " type-1-2-errors.png\n"
     ]
    }
   ],
   "source": [
    "!ls"
   ]
  },
  {
   "cell_type": "code",
   "execution_count": 1,
   "metadata": {
    "id": "Y7GEUYwG1PPE"
   },
   "outputs": [],
   "source": [
    "import matplotlib.pyplot as plt\n",
    "import numpy as np\n",
    "from sklearn.linear_model import LogisticRegression\n",
    "from sklearn.metrics import classification_report, confusion_matrix"
   ]
  },
  {
   "cell_type": "code",
   "execution_count": 2,
   "metadata": {
    "id": "sUwCl-BT1PTa"
   },
   "outputs": [],
   "source": [
    "import pandas as pd\n",
    "df=pd.read_csv(\"MSME Data Modified_v1.9_featureEngineered.csv\")"
   ]
  },
  {
   "cell_type": "code",
   "execution_count": 3,
   "metadata": {
    "colab": {
     "base_uri": "https://localhost:8080/",
     "height": 232
    },
    "id": "CXGt__2Z1PVY",
    "outputId": "2f2048b2-a359-497c-89be-4b47ce3bbdb4"
   },
   "outputs": [
    {
     "data": {
      "text/html": [
       "<div>\n",
       "<style scoped>\n",
       "    .dataframe tbody tr th:only-of-type {\n",
       "        vertical-align: middle;\n",
       "    }\n",
       "\n",
       "    .dataframe tbody tr th {\n",
       "        vertical-align: top;\n",
       "    }\n",
       "\n",
       "    .dataframe thead th {\n",
       "        text-align: right;\n",
       "    }\n",
       "</style>\n",
       "<table border=\"1\" class=\"dataframe\">\n",
       "  <thead>\n",
       "    <tr style=\"text-align: right;\">\n",
       "      <th></th>\n",
       "      <th>sme_sector</th>\n",
       "      <th>bsr_activity_cd</th>\n",
       "      <th>bsr_org_cd</th>\n",
       "      <th>disbursed_amount</th>\n",
       "      <th>asset_cost</th>\n",
       "      <th>ltv</th>\n",
       "      <th>PRI.ACTIVE.ACCTS</th>\n",
       "      <th>PRI.OVERDUE.ACCTS</th>\n",
       "      <th>PRI.CURRENT.BALANCE</th>\n",
       "      <th>PRI.SANCTIONED.AMOUNT</th>\n",
       "      <th>...</th>\n",
       "      <th>sector_name_Services</th>\n",
       "      <th>sme_category_MICRO</th>\n",
       "      <th>sme_category_SMALL</th>\n",
       "      <th>module_id_cdcc</th>\n",
       "      <th>Employment.Type_Self employed</th>\n",
       "      <th>PERFORM_CNS.SCORE.DESCRIPTION_Simplified_Low Risk</th>\n",
       "      <th>PERFORM_CNS.SCORE.DESCRIPTION_Simplified_Medium Risk</th>\n",
       "      <th>PERFORM_CNS.SCORE.DESCRIPTION_Simplified_Not Scored</th>\n",
       "      <th>PERFORM_CNS.SCORE.DESCRIPTION_Simplified_Very High Risk</th>\n",
       "      <th>PERFORM_CNS.SCORE.DESCRIPTION_Simplified_Very Low Risk</th>\n",
       "    </tr>\n",
       "  </thead>\n",
       "  <tbody>\n",
       "    <tr>\n",
       "      <th>0</th>\n",
       "      <td>2</td>\n",
       "      <td>55101</td>\n",
       "      <td>13</td>\n",
       "      <td>541190</td>\n",
       "      <td>839010</td>\n",
       "      <td>67.94</td>\n",
       "      <td>1</td>\n",
       "      <td>0</td>\n",
       "      <td>0</td>\n",
       "      <td>550000</td>\n",
       "      <td>...</td>\n",
       "      <td>1</td>\n",
       "      <td>1</td>\n",
       "      <td>0</td>\n",
       "      <td>1</td>\n",
       "      <td>1</td>\n",
       "      <td>0</td>\n",
       "      <td>0</td>\n",
       "      <td>0</td>\n",
       "      <td>0</td>\n",
       "      <td>1</td>\n",
       "    </tr>\n",
       "    <tr>\n",
       "      <th>1</th>\n",
       "      <td>2</td>\n",
       "      <td>60203</td>\n",
       "      <td>11</td>\n",
       "      <td>441220</td>\n",
       "      <td>641430</td>\n",
       "      <td>70.62</td>\n",
       "      <td>0</td>\n",
       "      <td>0</td>\n",
       "      <td>0</td>\n",
       "      <td>0</td>\n",
       "      <td>...</td>\n",
       "      <td>1</td>\n",
       "      <td>1</td>\n",
       "      <td>0</td>\n",
       "      <td>0</td>\n",
       "      <td>0</td>\n",
       "      <td>0</td>\n",
       "      <td>0</td>\n",
       "      <td>1</td>\n",
       "      <td>0</td>\n",
       "      <td>0</td>\n",
       "    </tr>\n",
       "    <tr>\n",
       "      <th>2</th>\n",
       "      <td>1</td>\n",
       "      <td>31901</td>\n",
       "      <td>11</td>\n",
       "      <td>310040</td>\n",
       "      <td>451380</td>\n",
       "      <td>73.11</td>\n",
       "      <td>0</td>\n",
       "      <td>0</td>\n",
       "      <td>0</td>\n",
       "      <td>0</td>\n",
       "      <td>...</td>\n",
       "      <td>0</td>\n",
       "      <td>1</td>\n",
       "      <td>0</td>\n",
       "      <td>0</td>\n",
       "      <td>0</td>\n",
       "      <td>0</td>\n",
       "      <td>0</td>\n",
       "      <td>1</td>\n",
       "      <td>0</td>\n",
       "      <td>0</td>\n",
       "    </tr>\n",
       "    <tr>\n",
       "      <th>3</th>\n",
       "      <td>2</td>\n",
       "      <td>52101</td>\n",
       "      <td>12</td>\n",
       "      <td>473490</td>\n",
       "      <td>577260</td>\n",
       "      <td>84.88</td>\n",
       "      <td>1</td>\n",
       "      <td>0</td>\n",
       "      <td>60870</td>\n",
       "      <td>60870</td>\n",
       "      <td>...</td>\n",
       "      <td>1</td>\n",
       "      <td>1</td>\n",
       "      <td>0</td>\n",
       "      <td>0</td>\n",
       "      <td>1</td>\n",
       "      <td>0</td>\n",
       "      <td>0</td>\n",
       "      <td>1</td>\n",
       "      <td>0</td>\n",
       "      <td>0</td>\n",
       "    </tr>\n",
       "    <tr>\n",
       "      <th>4</th>\n",
       "      <td>2</td>\n",
       "      <td>55301</td>\n",
       "      <td>11</td>\n",
       "      <td>558090</td>\n",
       "      <td>696500</td>\n",
       "      <td>81.84</td>\n",
       "      <td>1</td>\n",
       "      <td>0</td>\n",
       "      <td>1733200</td>\n",
       "      <td>2500000</td>\n",
       "      <td>...</td>\n",
       "      <td>1</td>\n",
       "      <td>1</td>\n",
       "      <td>0</td>\n",
       "      <td>0</td>\n",
       "      <td>0</td>\n",
       "      <td>0</td>\n",
       "      <td>1</td>\n",
       "      <td>0</td>\n",
       "      <td>0</td>\n",
       "      <td>0</td>\n",
       "    </tr>\n",
       "  </tbody>\n",
       "</table>\n",
       "<p>5 rows × 49 columns</p>\n",
       "</div>"
      ],
      "text/plain": [
       "   sme_sector  bsr_activity_cd  bsr_org_cd  disbursed_amount  asset_cost  \\\n",
       "0           2            55101          13            541190      839010   \n",
       "1           2            60203          11            441220      641430   \n",
       "2           1            31901          11            310040      451380   \n",
       "3           2            52101          12            473490      577260   \n",
       "4           2            55301          11            558090      696500   \n",
       "\n",
       "     ltv  PRI.ACTIVE.ACCTS  PRI.OVERDUE.ACCTS  PRI.CURRENT.BALANCE  \\\n",
       "0  67.94                 1                  0                    0   \n",
       "1  70.62                 0                  0                    0   \n",
       "2  73.11                 0                  0                    0   \n",
       "3  84.88                 1                  0                60870   \n",
       "4  81.84                 1                  0              1733200   \n",
       "\n",
       "   PRI.SANCTIONED.AMOUNT  ...  sector_name_Services  sme_category_MICRO  \\\n",
       "0                 550000  ...                     1                   1   \n",
       "1                      0  ...                     1                   1   \n",
       "2                      0  ...                     0                   1   \n",
       "3                  60870  ...                     1                   1   \n",
       "4                2500000  ...                     1                   1   \n",
       "\n",
       "   sme_category_SMALL  module_id_cdcc   Employment.Type_Self employed  \\\n",
       "0                   0                1                              1   \n",
       "1                   0                0                              0   \n",
       "2                   0                0                              0   \n",
       "3                   0                0                              1   \n",
       "4                   0                0                              0   \n",
       "\n",
       "   PERFORM_CNS.SCORE.DESCRIPTION_Simplified_Low Risk  \\\n",
       "0                                                  0   \n",
       "1                                                  0   \n",
       "2                                                  0   \n",
       "3                                                  0   \n",
       "4                                                  0   \n",
       "\n",
       "   PERFORM_CNS.SCORE.DESCRIPTION_Simplified_Medium Risk  \\\n",
       "0                                                  0      \n",
       "1                                                  0      \n",
       "2                                                  0      \n",
       "3                                                  0      \n",
       "4                                                  1      \n",
       "\n",
       "   PERFORM_CNS.SCORE.DESCRIPTION_Simplified_Not Scored  \\\n",
       "0                                                  0     \n",
       "1                                                  1     \n",
       "2                                                  1     \n",
       "3                                                  1     \n",
       "4                                                  0     \n",
       "\n",
       "   PERFORM_CNS.SCORE.DESCRIPTION_Simplified_Very High Risk  \\\n",
       "0                                                  0         \n",
       "1                                                  0         \n",
       "2                                                  0         \n",
       "3                                                  0         \n",
       "4                                                  0         \n",
       "\n",
       "   PERFORM_CNS.SCORE.DESCRIPTION_Simplified_Very Low Risk  \n",
       "0                                                  1       \n",
       "1                                                  0       \n",
       "2                                                  0       \n",
       "3                                                  0       \n",
       "4                                                  0       \n",
       "\n",
       "[5 rows x 49 columns]"
      ]
     },
     "execution_count": 3,
     "metadata": {},
     "output_type": "execute_result"
    }
   ],
   "source": [
    "df.head(5)"
   ]
  },
  {
   "cell_type": "code",
   "execution_count": 10,
   "metadata": {
    "colab": {
     "base_uri": "https://localhost:8080/"
    },
    "id": "k_7DhYg_KrEP",
    "outputId": "ac6b6675-cf85-474b-bdb6-d90cc078da01"
   },
   "outputs": [
    {
     "name": "stdout",
     "output_type": "stream",
     "text": [
      "<class 'pandas.core.frame.DataFrame'>\n",
      "RangeIndex: 32191 entries, 0 to 32190\n",
      "Data columns (total 49 columns):\n",
      " #   Column                                                   Non-Null Count  Dtype  \n",
      "---  ------                                                   --------------  -----  \n",
      " 0   sme_sector                                               32191 non-null  int64  \n",
      " 1   bsr_activity_cd                                          32191 non-null  int64  \n",
      " 2   bsr_org_cd                                               32191 non-null  int64  \n",
      " 3   disbursed_amount                                         32191 non-null  int64  \n",
      " 4   asset_cost                                               32191 non-null  int64  \n",
      " 5   ltv                                                      32191 non-null  float64\n",
      " 6   PRI.ACTIVE.ACCTS                                         32191 non-null  int64  \n",
      " 7   PRI.OVERDUE.ACCTS                                        32191 non-null  int64  \n",
      " 8   PRI.CURRENT.BALANCE                                      32191 non-null  int64  \n",
      " 9   PRI.SANCTIONED.AMOUNT                                    32191 non-null  int64  \n",
      " 10  PRI.DISBURSED.AMOUNT                                     32191 non-null  int64  \n",
      " 11  SEC.NO.OF.ACCTS                                          32191 non-null  int64  \n",
      " 12  SEC.ACTIVE.ACCTS                                         32191 non-null  int64  \n",
      " 13  SEC.OVERDUE.ACCTS                                        32191 non-null  int64  \n",
      " 14  SEC.CURRENT.BALANCE                                      32191 non-null  int64  \n",
      " 15  SEC.SANCTIONED.AMOUNT                                    32191 non-null  int64  \n",
      " 16  SEC.DISBURSED.AMOUNT                                     32191 non-null  int64  \n",
      " 17  PRIMARY.INSTAL.AMT                                       32191 non-null  int64  \n",
      " 18  SEC.INSTAL.AMT                                           32191 non-null  int64  \n",
      " 19  NEW.ACCTS.IN.LAST.SIX.MONTHS                             32191 non-null  int64  \n",
      " 20  DELINQUENT.ACCTS.IN.LAST.SIX.MONTHS                      32191 non-null  int64  \n",
      " 21  Delinquent                                               32191 non-null  int64  \n",
      " 22  MobileNo_Avl_Flag                                        32191 non-null  int64  \n",
      " 23  Aadhar_flag                                              32191 non-null  int64  \n",
      " 24  PAN_flag                                                 32191 non-null  int64  \n",
      " 25  VoterID_flag                                             32191 non-null  int64  \n",
      " 26  Driving_flag                                             32191 non-null  int64  \n",
      " 27  Passport_flag                                            32191 non-null  int64  \n",
      " 28  PERFORM_CNS.SCORE                                        32191 non-null  int64  \n",
      " 29  loan_default                                             32191 non-null  int64  \n",
      " 30  Age_of_Customer                                          32191 non-null  int64  \n",
      " 31  Age_of_Loan                                              32191 non-null  int64  \n",
      " 32  scheme_cd_cnt                                            32191 non-null  int64  \n",
      " 33  industry_name_cnt                                        32191 non-null  int64  \n",
      " 34  branch_name_cnt                                          32191 non-null  int64  \n",
      " 35  district_name_cnt                                        32191 non-null  int64  \n",
      " 36  region_name_cnt                                          32191 non-null  int64  \n",
      " 37  state_name_cnt                                           32191 non-null  int64  \n",
      " 38  open_dt_day_cnt                                          32191 non-null  int64  \n",
      " 39  sector_name_Services                                     32191 non-null  int64  \n",
      " 40  sme_category_MICRO                                       32191 non-null  int64  \n",
      " 41  sme_category_SMALL                                       32191 non-null  int64  \n",
      " 42  module_id_cdcc                                           32191 non-null  int64  \n",
      " 43  Employment.Type_Self employed                            32191 non-null  int64  \n",
      " 44  PERFORM_CNS.SCORE.DESCRIPTION_Simplified_Low Risk        32191 non-null  int64  \n",
      " 45  PERFORM_CNS.SCORE.DESCRIPTION_Simplified_Medium Risk     32191 non-null  int64  \n",
      " 46  PERFORM_CNS.SCORE.DESCRIPTION_Simplified_Not Scored      32191 non-null  int64  \n",
      " 47  PERFORM_CNS.SCORE.DESCRIPTION_Simplified_Very High Risk  32191 non-null  int64  \n",
      " 48  PERFORM_CNS.SCORE.DESCRIPTION_Simplified_Very Low Risk   32191 non-null  int64  \n",
      "dtypes: float64(1), int64(48)\n",
      "memory usage: 12.0 MB\n"
     ]
    }
   ],
   "source": [
    "df.info()"
   ]
  },
  {
   "cell_type": "code",
   "execution_count": 18,
   "metadata": {
    "id": "Ode1AtBe5kai"
   },
   "outputs": [],
   "source": [
    "c = [21,29,20]\n",
    "X = df.drop(df.columns[c], axis =1)\n",
    "y = df['Delinquent'].astype(int)"
   ]
  },
  {
   "cell_type": "code",
   "execution_count": 19,
   "metadata": {
    "id": "M96oUjcc4gUD"
   },
   "outputs": [],
   "source": [
    "from sklearn.model_selection import train_test_split\n",
    "X_train, X_test, y_train, y_test   = train_test_split(X, y, test_size=0.2, random_state=1)"
   ]
  },
  {
   "cell_type": "code",
   "execution_count": 20,
   "metadata": {
    "colab": {
     "base_uri": "https://localhost:8080/",
     "height": 232
    },
    "id": "cAIVS2beL0OC",
    "outputId": "1c82b34f-8cad-4342-daa3-57ce63e45fc7"
   },
   "outputs": [
    {
     "data": {
      "text/html": [
       "<div>\n",
       "<style scoped>\n",
       "    .dataframe tbody tr th:only-of-type {\n",
       "        vertical-align: middle;\n",
       "    }\n",
       "\n",
       "    .dataframe tbody tr th {\n",
       "        vertical-align: top;\n",
       "    }\n",
       "\n",
       "    .dataframe thead th {\n",
       "        text-align: right;\n",
       "    }\n",
       "</style>\n",
       "<table border=\"1\" class=\"dataframe\">\n",
       "  <thead>\n",
       "    <tr style=\"text-align: right;\">\n",
       "      <th></th>\n",
       "      <th>sme_sector</th>\n",
       "      <th>bsr_activity_cd</th>\n",
       "      <th>bsr_org_cd</th>\n",
       "      <th>disbursed_amount</th>\n",
       "      <th>asset_cost</th>\n",
       "      <th>ltv</th>\n",
       "      <th>PRI.ACTIVE.ACCTS</th>\n",
       "      <th>PRI.OVERDUE.ACCTS</th>\n",
       "      <th>PRI.CURRENT.BALANCE</th>\n",
       "      <th>PRI.SANCTIONED.AMOUNT</th>\n",
       "      <th>...</th>\n",
       "      <th>sector_name_Services</th>\n",
       "      <th>sme_category_MICRO</th>\n",
       "      <th>sme_category_SMALL</th>\n",
       "      <th>module_id_cdcc</th>\n",
       "      <th>Employment.Type_Self employed</th>\n",
       "      <th>PERFORM_CNS.SCORE.DESCRIPTION_Simplified_Low Risk</th>\n",
       "      <th>PERFORM_CNS.SCORE.DESCRIPTION_Simplified_Medium Risk</th>\n",
       "      <th>PERFORM_CNS.SCORE.DESCRIPTION_Simplified_Not Scored</th>\n",
       "      <th>PERFORM_CNS.SCORE.DESCRIPTION_Simplified_Very High Risk</th>\n",
       "      <th>PERFORM_CNS.SCORE.DESCRIPTION_Simplified_Very Low Risk</th>\n",
       "    </tr>\n",
       "  </thead>\n",
       "  <tbody>\n",
       "    <tr>\n",
       "      <th>0</th>\n",
       "      <td>2</td>\n",
       "      <td>55101</td>\n",
       "      <td>13</td>\n",
       "      <td>541190</td>\n",
       "      <td>839010</td>\n",
       "      <td>67.94</td>\n",
       "      <td>1</td>\n",
       "      <td>0</td>\n",
       "      <td>0</td>\n",
       "      <td>550000</td>\n",
       "      <td>...</td>\n",
       "      <td>1</td>\n",
       "      <td>1</td>\n",
       "      <td>0</td>\n",
       "      <td>1</td>\n",
       "      <td>1</td>\n",
       "      <td>0</td>\n",
       "      <td>0</td>\n",
       "      <td>0</td>\n",
       "      <td>0</td>\n",
       "      <td>1</td>\n",
       "    </tr>\n",
       "    <tr>\n",
       "      <th>1</th>\n",
       "      <td>2</td>\n",
       "      <td>60203</td>\n",
       "      <td>11</td>\n",
       "      <td>441220</td>\n",
       "      <td>641430</td>\n",
       "      <td>70.62</td>\n",
       "      <td>0</td>\n",
       "      <td>0</td>\n",
       "      <td>0</td>\n",
       "      <td>0</td>\n",
       "      <td>...</td>\n",
       "      <td>1</td>\n",
       "      <td>1</td>\n",
       "      <td>0</td>\n",
       "      <td>0</td>\n",
       "      <td>0</td>\n",
       "      <td>0</td>\n",
       "      <td>0</td>\n",
       "      <td>1</td>\n",
       "      <td>0</td>\n",
       "      <td>0</td>\n",
       "    </tr>\n",
       "    <tr>\n",
       "      <th>2</th>\n",
       "      <td>1</td>\n",
       "      <td>31901</td>\n",
       "      <td>11</td>\n",
       "      <td>310040</td>\n",
       "      <td>451380</td>\n",
       "      <td>73.11</td>\n",
       "      <td>0</td>\n",
       "      <td>0</td>\n",
       "      <td>0</td>\n",
       "      <td>0</td>\n",
       "      <td>...</td>\n",
       "      <td>0</td>\n",
       "      <td>1</td>\n",
       "      <td>0</td>\n",
       "      <td>0</td>\n",
       "      <td>0</td>\n",
       "      <td>0</td>\n",
       "      <td>0</td>\n",
       "      <td>1</td>\n",
       "      <td>0</td>\n",
       "      <td>0</td>\n",
       "    </tr>\n",
       "    <tr>\n",
       "      <th>3</th>\n",
       "      <td>2</td>\n",
       "      <td>52101</td>\n",
       "      <td>12</td>\n",
       "      <td>473490</td>\n",
       "      <td>577260</td>\n",
       "      <td>84.88</td>\n",
       "      <td>1</td>\n",
       "      <td>0</td>\n",
       "      <td>60870</td>\n",
       "      <td>60870</td>\n",
       "      <td>...</td>\n",
       "      <td>1</td>\n",
       "      <td>1</td>\n",
       "      <td>0</td>\n",
       "      <td>0</td>\n",
       "      <td>1</td>\n",
       "      <td>0</td>\n",
       "      <td>0</td>\n",
       "      <td>1</td>\n",
       "      <td>0</td>\n",
       "      <td>0</td>\n",
       "    </tr>\n",
       "    <tr>\n",
       "      <th>4</th>\n",
       "      <td>2</td>\n",
       "      <td>55301</td>\n",
       "      <td>11</td>\n",
       "      <td>558090</td>\n",
       "      <td>696500</td>\n",
       "      <td>81.84</td>\n",
       "      <td>1</td>\n",
       "      <td>0</td>\n",
       "      <td>1733200</td>\n",
       "      <td>2500000</td>\n",
       "      <td>...</td>\n",
       "      <td>1</td>\n",
       "      <td>1</td>\n",
       "      <td>0</td>\n",
       "      <td>0</td>\n",
       "      <td>0</td>\n",
       "      <td>0</td>\n",
       "      <td>1</td>\n",
       "      <td>0</td>\n",
       "      <td>0</td>\n",
       "      <td>0</td>\n",
       "    </tr>\n",
       "  </tbody>\n",
       "</table>\n",
       "<p>5 rows × 46 columns</p>\n",
       "</div>"
      ],
      "text/plain": [
       "   sme_sector  bsr_activity_cd  bsr_org_cd  disbursed_amount  asset_cost  \\\n",
       "0           2            55101          13            541190      839010   \n",
       "1           2            60203          11            441220      641430   \n",
       "2           1            31901          11            310040      451380   \n",
       "3           2            52101          12            473490      577260   \n",
       "4           2            55301          11            558090      696500   \n",
       "\n",
       "     ltv  PRI.ACTIVE.ACCTS  PRI.OVERDUE.ACCTS  PRI.CURRENT.BALANCE  \\\n",
       "0  67.94                 1                  0                    0   \n",
       "1  70.62                 0                  0                    0   \n",
       "2  73.11                 0                  0                    0   \n",
       "3  84.88                 1                  0                60870   \n",
       "4  81.84                 1                  0              1733200   \n",
       "\n",
       "   PRI.SANCTIONED.AMOUNT  ...  sector_name_Services  sme_category_MICRO  \\\n",
       "0                 550000  ...                     1                   1   \n",
       "1                      0  ...                     1                   1   \n",
       "2                      0  ...                     0                   1   \n",
       "3                  60870  ...                     1                   1   \n",
       "4                2500000  ...                     1                   1   \n",
       "\n",
       "   sme_category_SMALL  module_id_cdcc   Employment.Type_Self employed  \\\n",
       "0                   0                1                              1   \n",
       "1                   0                0                              0   \n",
       "2                   0                0                              0   \n",
       "3                   0                0                              1   \n",
       "4                   0                0                              0   \n",
       "\n",
       "   PERFORM_CNS.SCORE.DESCRIPTION_Simplified_Low Risk  \\\n",
       "0                                                  0   \n",
       "1                                                  0   \n",
       "2                                                  0   \n",
       "3                                                  0   \n",
       "4                                                  0   \n",
       "\n",
       "   PERFORM_CNS.SCORE.DESCRIPTION_Simplified_Medium Risk  \\\n",
       "0                                                  0      \n",
       "1                                                  0      \n",
       "2                                                  0      \n",
       "3                                                  0      \n",
       "4                                                  1      \n",
       "\n",
       "   PERFORM_CNS.SCORE.DESCRIPTION_Simplified_Not Scored  \\\n",
       "0                                                  0     \n",
       "1                                                  1     \n",
       "2                                                  1     \n",
       "3                                                  1     \n",
       "4                                                  0     \n",
       "\n",
       "   PERFORM_CNS.SCORE.DESCRIPTION_Simplified_Very High Risk  \\\n",
       "0                                                  0         \n",
       "1                                                  0         \n",
       "2                                                  0         \n",
       "3                                                  0         \n",
       "4                                                  0         \n",
       "\n",
       "   PERFORM_CNS.SCORE.DESCRIPTION_Simplified_Very Low Risk  \n",
       "0                                                  1       \n",
       "1                                                  0       \n",
       "2                                                  0       \n",
       "3                                                  0       \n",
       "4                                                  0       \n",
       "\n",
       "[5 rows x 46 columns]"
      ]
     },
     "execution_count": 20,
     "metadata": {},
     "output_type": "execute_result"
    }
   ],
   "source": [
    "X.head()"
   ]
  },
  {
   "cell_type": "code",
   "execution_count": 22,
   "metadata": {
    "colab": {
     "base_uri": "https://localhost:8080/"
    },
    "id": "Ej914clNL2px",
    "outputId": "62cd9cbf-d67c-4cdd-d965-4c1a90105598"
   },
   "outputs": [
    {
     "data": {
      "text/plain": [
       "0    0\n",
       "1    0\n",
       "2    0\n",
       "3    0\n",
       "4    0\n",
       "Name: Delinquent, dtype: int64"
      ]
     },
     "execution_count": 22,
     "metadata": {
      "tags": []
     },
     "output_type": "execute_result"
    }
   ],
   "source": [
    "y.head()"
   ]
  },
  {
   "cell_type": "code",
   "execution_count": 21,
   "metadata": {
    "id": "UaBO6njTL39w"
   },
   "outputs": [],
   "source": [
    "model = LogisticRegression(solver='liblinear', random_state=0)"
   ]
  },
  {
   "cell_type": "code",
   "execution_count": 22,
   "metadata": {
    "colab": {
     "base_uri": "https://localhost:8080/"
    },
    "id": "PIKIAHwVMduz",
    "outputId": "24c917e4-8efe-4928-a375-93e7365afc90"
   },
   "outputs": [
    {
     "name": "stderr",
     "output_type": "stream",
     "text": [
      "D:\\Study\\Great Lakes\\INtro to python\\Anaconda\\lib\\site-packages\\sklearn\\svm\\_base.py:977: ConvergenceWarning: Liblinear failed to converge, increase the number of iterations.\n",
      "  \"the number of iterations.\", ConvergenceWarning)\n"
     ]
    },
    {
     "data": {
      "text/plain": [
       "LogisticRegression(random_state=0, solver='liblinear')"
      ]
     },
     "execution_count": 22,
     "metadata": {},
     "output_type": "execute_result"
    }
   ],
   "source": [
    "model.fit(X_train,y_train)"
   ]
  },
  {
   "cell_type": "code",
   "execution_count": 25,
   "metadata": {
    "colab": {
     "base_uri": "https://localhost:8080/"
    },
    "id": "8-ZSqxPOMeOh",
    "outputId": "11012ef4-237c-429d-85e9-9dcebeb18721"
   },
   "outputs": [
    {
     "data": {
      "text/plain": [
       "array([0, 1])"
      ]
     },
     "execution_count": 25,
     "metadata": {
      "tags": []
     },
     "output_type": "execute_result"
    }
   ],
   "source": [
    "model.classes_"
   ]
  },
  {
   "cell_type": "code",
   "execution_count": 26,
   "metadata": {
    "colab": {
     "base_uri": "https://localhost:8080/"
    },
    "id": "tR9IfkVvMeUL",
    "outputId": "56e3af48-88b2-4aea-e7f4-95fa5c40874f"
   },
   "outputs": [
    {
     "data": {
      "text/plain": [
       "array([-5.93620407e-07])"
      ]
     },
     "execution_count": 26,
     "metadata": {
      "tags": []
     },
     "output_type": "execute_result"
    }
   ],
   "source": [
    "model.intercept_"
   ]
  },
  {
   "cell_type": "code",
   "execution_count": 8,
   "metadata": {
    "colab": {
     "base_uri": "https://localhost:8080/"
    },
    "id": "hIIUiQpqMeY-",
    "outputId": "fbda7119-c0d6-4bf2-b428-9f71c0f3f1a4"
   },
   "outputs": [
    {
     "data": {
      "text/plain": [
       "array([[-8.08369550e-07, -5.32357380e-06, -1.00441653e-05,\n",
       "        -3.35511957e-07, -1.47590210e-06, -5.38818172e-05,\n",
       "         2.52317405e-05,  1.12697750e-05, -4.24684937e-08,\n",
       "         2.38443849e-08,  4.62710635e-08,  2.68552361e-06,\n",
       "         1.43231936e-06,  7.05489569e-07, -4.58203346e-09,\n",
       "         6.26149308e-07, -5.62719960e-07,  7.05529150e-08,\n",
       "         6.04521064e-09,  5.97939928e-06,  1.92846618e-05,\n",
       "        -7.80630836e-07, -4.10084926e-07, -2.22051838e-07,\n",
       "        -4.60176926e-07, -1.77433174e-08,  3.41104819e-08,\n",
       "         1.44958790e-03, -1.13283622e-06, -4.30265345e-07,\n",
       "        -1.03209802e-05, -4.31960480e-07, -2.08553588e-06,\n",
       "        -7.57261357e-05, -3.97686364e-04, -8.16964850e-06,\n",
       "        -2.01271117e-04, -2.77387133e-08, -5.54958655e-07,\n",
       "        -2.18110222e-07, -4.03120640e-07, -3.29542893e-07,\n",
       "         1.12361939e-06,  1.89652851e-06, -6.06985385e-06,\n",
       "         1.83783324e-06, -3.97715965e-06]])"
      ]
     },
     "execution_count": 8,
     "metadata": {},
     "output_type": "execute_result"
    }
   ],
   "source": [
    "model.coef_"
   ]
  },
  {
   "cell_type": "code",
   "execution_count": 9,
   "metadata": {
    "colab": {
     "base_uri": "https://localhost:8080/"
    },
    "id": "WWig4z50Mef8",
    "outputId": "36064a56-ffcd-48c8-db13-94db4bdbc991"
   },
   "outputs": [
    {
     "data": {
      "text/plain": [
       "array([[0.95390327, 0.04609673],\n",
       "       [0.93767327, 0.06232673],\n",
       "       [0.85428889, 0.14571111],\n",
       "       ...,\n",
       "       [0.95485603, 0.04514397],\n",
       "       [0.96071826, 0.03928174],\n",
       "       [0.97516012, 0.02483988]])"
      ]
     },
     "execution_count": 9,
     "metadata": {},
     "output_type": "execute_result"
    }
   ],
   "source": [
    "model.predict_proba(X_train)"
   ]
  },
  {
   "cell_type": "code",
   "execution_count": 10,
   "metadata": {
    "id": "qFkGISM-Mek4"
   },
   "outputs": [],
   "source": [
    "pred =model.predict(X_train).reshape(-1,1)"
   ]
  },
  {
   "cell_type": "code",
   "execution_count": 11,
   "metadata": {
    "colab": {
     "base_uri": "https://localhost:8080/"
    },
    "id": "WZydOfWOMewK",
    "outputId": "9a7b6d66-1306-4886-880d-a9dd731d8c4c"
   },
   "outputs": [
    {
     "data": {
      "text/plain": [
       "0.9179584355875866"
      ]
     },
     "execution_count": 11,
     "metadata": {},
     "output_type": "execute_result"
    }
   ],
   "source": [
    " model.score(X, y)"
   ]
  },
  {
   "cell_type": "code",
   "execution_count": 38,
   "metadata": {
    "colab": {
     "base_uri": "https://localhost:8080/"
    },
    "id": "lgjxhXECOkGx",
    "outputId": "630f7471-9a1e-43b4-adea-9de94af741b4"
   },
   "outputs": [
    {
     "data": {
      "text/plain": [
       "(25752, 1)"
      ]
     },
     "execution_count": 38,
     "metadata": {
      "tags": []
     },
     "output_type": "execute_result"
    }
   ],
   "source": [
    "pred.shape"
   ]
  },
  {
   "cell_type": "code",
   "execution_count": 23,
   "metadata": {
    "colab": {
     "base_uri": "https://localhost:8080/"
    },
    "id": "8Ybb5VBVMeyM",
    "outputId": "55b373ec-4342-4889-ad7c-9ed8dd5807be"
   },
   "outputs": [
    {
     "data": {
      "text/plain": [
       "array([[23596,    81],\n",
       "       [ 2019,    56]], dtype=int64)"
      ]
     },
     "execution_count": 23,
     "metadata": {},
     "output_type": "execute_result"
    }
   ],
   "source": [
    "confusion_matrix(y_train, pred)"
   ]
  },
  {
   "cell_type": "code",
   "execution_count": 24,
   "metadata": {
    "colab": {
     "base_uri": "https://localhost:8080/",
     "height": 483
    },
    "id": "YsuzDuR4Oinf",
    "outputId": "a72a0689-ce25-4bd4-b960-ff0380ce922e"
   },
   "outputs": [
    {
     "data": {
      "image/png": "[encoded data removed]",
      "text/plain": [
       "<Figure size 576x576 with 1 Axes>"
      ]
     },
     "metadata": {
      "needs_background": "light"
     },
     "output_type": "display_data"
    }
   ],
   "source": [
    "cm = confusion_matrix(y_train, pred)\n",
    "\n",
    "fig, ax = plt.subplots(figsize=(8, 8))\n",
    "ax.imshow(cm)\n",
    "ax.grid(False)\n",
    "ax.xaxis.set(ticks=(0, 1), ticklabels=('Predicted 0s', 'Predicted 1s'))\n",
    "ax.yaxis.set(ticks=(0, 1), ticklabels=('Actual 0s', 'Actual 1s'))\n",
    "ax.set_ylim(1.5, -0.5)\n",
    "for i in range(2):\n",
    "    for j in range(2):\n",
    "        ax.text(j, i, cm[i, j], ha='center', va='center', color='red')\n",
    "plt.show()"
   ]
  },
  {
   "cell_type": "code",
   "execution_count": 25,
   "metadata": {
    "colab": {
     "base_uri": "https://localhost:8080/"
    },
    "id": "shpQcooZO09s",
    "outputId": "903e9015-5f2b-4959-c110-883e5d0a1a69"
   },
   "outputs": [
    {
     "name": "stdout",
     "output_type": "stream",
     "text": [
      "              precision    recall  f1-score   support\n",
      "\n",
      "           0       0.92      1.00      0.96     23677\n",
      "           1       0.41      0.03      0.05      2075\n",
      "\n",
      "    accuracy                           0.92     25752\n",
      "   macro avg       0.66      0.51      0.50     25752\n",
      "weighted avg       0.88      0.92      0.88     25752\n",
      "\n"
     ]
    }
   ],
   "source": [
    "print(classification_report(y_train, pred))"
   ]
  },
  {
   "cell_type": "code",
   "execution_count": 26,
   "metadata": {},
   "outputs": [
    {
     "name": "stdout",
     "output_type": "stream",
     "text": [
      "AUC: 0.7588768759343537\n"
     ]
    },
    {
     "data": {
      "image/png": "[encoded data removed]",
      "text/plain": [
       "<Figure size 432x288 with 1 Axes>"
      ]
     },
     "metadata": {
      "needs_background": "light"
     },
     "output_type": "display_data"
    }
   ],
   "source": [
    "from sklearn.metrics import roc_curve\n",
    "from sklearn.metrics import roc_auc_score\n",
    "from sklearn import metrics\n",
    "def plot_roc_curve(fpr, tpr,model):\n",
    "    plt.plot(fpr, tpr, color='orange', label='ROC')\n",
    "    plt.plot([0, 1], [0, 1], color='darkblue', linestyle='--')\n",
    "    auc = metrics.roc_auc_score(y_test, model.predict_proba(X_test)[:,1])\n",
    "    print('AUC:', auc)\n",
    "    plt.xlabel('False Positive Rate')\n",
    "    plt.ylabel('True Positive Rate')\n",
    "    plt.title('Receiver Operating Characteristic (ROC) Curve')\n",
    "    plt.legend()\n",
    "    plt.show( )\n",
    "    \n",
    "fpr, tpr, thresholds = roc_curve(y_test,model.predict_proba(X_test)[:,1] )\n",
    "plot_roc_curve(fpr,tpr,model)"
   ]
  },
  {
   "cell_type": "code",
   "execution_count": 42,
   "metadata": {
    "colab": {
     "base_uri": "https://localhost:8080/"
    },
    "id": "iXy3YRKBO1KL",
    "outputId": "d0fe1e65-6e4a-4bd3-fc2f-9e9361b45ba9"
   },
   "outputs": [
    {
     "name": "stderr",
     "output_type": "stream",
     "text": [
      "/usr/local/lib/python3.6/dist-packages/sklearn/svm/_base.py:947: ConvergenceWarning: Liblinear failed to converge, increase the number of iterations.\n",
      "  \"the number of iterations.\", ConvergenceWarning)\n"
     ]
    },
    {
     "data": {
      "text/plain": [
       "LogisticRegression(C=10.0, class_weight=None, dual=False, fit_intercept=True,\n",
       "                   intercept_scaling=1, l1_ratio=None, max_iter=100,\n",
       "                   multi_class='auto', n_jobs=None, penalty='l2',\n",
       "                   random_state=0, solver='liblinear', tol=0.0001, verbose=0,\n",
       "                   warm_start=False)"
      ]
     },
     "execution_count": 42,
     "metadata": {
      "tags": []
     },
     "output_type": "execute_result"
    }
   ],
   "source": [
    "#Improve the Model\n",
    "#You can improve your model by setting different parameters. For example, let’s work with the regularization strength \n",
    "#C equal to 10.0, instead of the default value of 1.0:\n",
    "model = LogisticRegression(solver='liblinear', C=10.0, random_state=0)\n",
    "model.fit(X_train, y_train)"
   ]
  },
  {
   "cell_type": "code",
   "execution_count": 43,
   "metadata": {
    "colab": {
     "base_uri": "https://localhost:8080/"
    },
    "id": "ghyeDJi_O1TF",
    "outputId": "512301ac-1a91-4453-e479-f59d247918be"
   },
   "outputs": [
    {
     "data": {
      "text/plain": [
       "array([-4.38904673e-07])"
      ]
     },
     "execution_count": 43,
     "metadata": {
      "tags": []
     },
     "output_type": "execute_result"
    }
   ],
   "source": [
    "model.intercept_"
   ]
  },
  {
   "cell_type": "code",
   "execution_count": 44,
   "metadata": {
    "colab": {
     "base_uri": "https://localhost:8080/"
    },
    "id": "_1pu_FR5O1ar",
    "outputId": "a518be1b-35a5-469e-9c22-8dd3a92e2092"
   },
   "outputs": [
    {
     "data": {
      "text/plain": [
       "array([[-4.53395350e-07, -5.18810760e-06, -5.65210969e-06,\n",
       "        -2.62622006e-07, -1.48318272e-06, -3.03080065e-05,\n",
       "         1.47109940e-05,  6.34520295e-06, -4.55076770e-08,\n",
       "         4.98745397e-08,  2.47502318e-08,  1.53846667e-06,\n",
       "         8.19333740e-07,  4.00230308e-07, -7.57651805e-09,\n",
       "         6.32734209e-07, -5.65793511e-07,  7.51433590e-08,\n",
       "         9.35163769e-09,  3.56346589e-06,  1.09070933e-05,\n",
       "        -4.38904673e-07, -2.17247901e-07, -1.22622548e-07,\n",
       "        -2.71838262e-07, -1.01351563e-08,  1.94101684e-08,\n",
       "         1.05511067e-03,  3.44131558e-07, -2.43026511e-07,\n",
       "        -1.01728814e-05, -2.84869299e-07, -1.84151983e-06,\n",
       "        -4.74503876e-05, -2.61032383e-04, -1.39760579e-05,\n",
       "        -1.94745464e-04, -1.44906771e-08, -3.15007931e-07,\n",
       "        -1.19877943e-07, -2.24077101e-07, -1.87948126e-07,\n",
       "         6.92762197e-07,  1.09826758e-06, -3.73906354e-06,\n",
       "         1.02413469e-06, -2.00862638e-06]])"
      ]
     },
     "execution_count": 44,
     "metadata": {
      "tags": []
     },
     "output_type": "execute_result"
    }
   ],
   "source": [
    "model.coef_"
   ]
  },
  {
   "cell_type": "code",
   "execution_count": 45,
   "metadata": {
    "colab": {
     "base_uri": "https://localhost:8080/"
    },
    "id": "dDXVpiysO1hf",
    "outputId": "3d6a63be-c95b-4222-9ed9-665adf05cfa9"
   },
   "outputs": [
    {
     "data": {
      "text/plain": [
       "array([[0.94971828, 0.05028172],\n",
       "       [0.93242924, 0.06757076],\n",
       "       [0.84414602, 0.15585398],\n",
       "       ...,\n",
       "       [0.94899606, 0.05100394],\n",
       "       [0.95111375, 0.04888625],\n",
       "       [0.97149556, 0.02850444]])"
      ]
     },
     "execution_count": 45,
     "metadata": {
      "tags": []
     },
     "output_type": "execute_result"
    }
   ],
   "source": [
    "model.predict_proba(X_train)"
   ]
  },
  {
   "cell_type": "code",
   "execution_count": 46,
   "metadata": {
    "colab": {
     "base_uri": "https://localhost:8080/"
    },
    "id": "q04xK82BO1nE",
    "outputId": "58f5d16d-8f0a-4a1a-eea7-27b8b5893a13"
   },
   "outputs": [
    {
     "data": {
      "text/plain": [
       "array([0, 0, 0, ..., 0, 0, 0])"
      ]
     },
     "execution_count": 46,
     "metadata": {
      "tags": []
     },
     "output_type": "execute_result"
    }
   ],
   "source": [
    "model.predict(X_train)"
   ]
  },
  {
   "cell_type": "code",
   "execution_count": 48,
   "metadata": {
    "colab": {
     "base_uri": "https://localhost:8080/"
    },
    "id": "1yboMcAeO1wc",
    "outputId": "0c2995a9-023d-4d3c-a06b-833fc134cf4a"
   },
   "outputs": [
    {
     "data": {
      "text/plain": [
       "0.9184141037589314"
      ]
     },
     "execution_count": 48,
     "metadata": {
      "tags": []
     },
     "output_type": "execute_result"
    }
   ],
   "source": [
    "model.score(X_train, y_train)"
   ]
  },
  {
   "cell_type": "code",
   "execution_count": 49,
   "metadata": {
    "colab": {
     "base_uri": "https://localhost:8080/"
    },
    "id": "U6-wmZ6MPaCd",
    "outputId": "4110c09e-8b4d-4ca3-ca43-8c4daeab149e"
   },
   "outputs": [
    {
     "data": {
      "text/plain": [
       "array([[23594,    83],\n",
       "       [ 2018,    57]])"
      ]
     },
     "execution_count": 49,
     "metadata": {
      "tags": []
     },
     "output_type": "execute_result"
    }
   ],
   "source": [
    "confusion_matrix(y_train, model.predict(X_train))"
   ]
  },
  {
   "cell_type": "code",
   "execution_count": 50,
   "metadata": {
    "colab": {
     "base_uri": "https://localhost:8080/"
    },
    "id": "k6qebkvIPahB",
    "outputId": "afd052c5-873b-4132-906a-568a585fc8f7"
   },
   "outputs": [
    {
     "name": "stdout",
     "output_type": "stream",
     "text": [
      "              precision    recall  f1-score   support\n",
      "\n",
      "           0       0.92      1.00      0.96     23677\n",
      "           1       0.41      0.03      0.05      2075\n",
      "\n",
      "    accuracy                           0.92     25752\n",
      "   macro avg       0.66      0.51      0.50     25752\n",
      "weighted avg       0.88      0.92      0.88     25752\n",
      "\n"
     ]
    }
   ],
   "source": [
    "print(classification_report(y_train, model.predict(X_train)))"
   ]
  },
  {
   "cell_type": "code",
   "execution_count": 52,
   "metadata": {
    "colab": {
     "base_uri": "https://localhost:8080/"
    },
    "id": "HK5Rr1GWPakG",
    "outputId": "38d3b1d9-921d-4a2f-a154-157104f56eb5"
   },
   "outputs": [
    {
     "data": {
      "text/plain": [
       "0    23677\n",
       "1     2075\n",
       "Name: Delinquent, dtype: int64"
      ]
     },
     "execution_count": 52,
     "metadata": {
      "tags": []
     },
     "output_type": "execute_result"
    }
   ],
   "source": [
    "y_train.value_counts()"
   ]
  },
  {
   "cell_type": "code",
   "execution_count": 60,
   "metadata": {
    "colab": {
     "base_uri": "https://localhost:8080/",
     "height": 279
    },
    "id": "g0l1i5WIPan8",
    "outputId": "0d440046-e2b0-4df8-ddd5-4b80592ee379"
   },
   "outputs": [
    {
     "data": {
      "image/png": "[encoded data removed]",
      "text/plain": [
       "<Figure size 432x288 with 1 Axes>"
      ]
     },
     "metadata": {
      "needs_background": "light",
      "tags": []
     },
     "output_type": "display_data"
    }
   ],
   "source": [
    "import seaborn as sns\n",
    "ax = sns.countplot(x =y_train.index,data=y_train,palette='hls')\n",
    "#for p in ax.patches:\n",
    "#        ax.annotate('%{:.1f}'.format(p.get_height()), (p.get_x()+0.1, p.get_height()+50))\n",
    "for p in ax.patches:\n",
    "        ax.annotate('{:.1f}%'.format(100*p.get_height()/len(y_train)), (p.get_x()+0.1, p.get_height()+5))\n",
    "plt.show()"
   ]
  },
  {
   "cell_type": "code",
   "execution_count": 64,
   "metadata": {
    "colab": {
     "base_uri": "https://localhost:8080/"
    },
    "id": "3tZ2tozPParI",
    "outputId": "24fc7c0d-50ed-440d-c197-3c6b7aa043fe"
   },
   "outputs": [
    {
     "data": {
      "text/plain": [
       "pandas.core.frame.DataFrame"
      ]
     },
     "execution_count": 64,
     "metadata": {
      "tags": []
     },
     "output_type": "execute_result"
    }
   ],
   "source": [
    "type(X_train)"
   ]
  },
  {
   "cell_type": "code",
   "execution_count": 27,
   "metadata": {
    "id": "jlXtGFDAPaud"
   },
   "outputs": [],
   "source": [
    "# Normalize the data\n",
    "from sklearn import preprocessing\n",
    "\n",
    "X_values = X.values #returns a numpy array\n",
    "min_max_scaler = preprocessing.MinMaxScaler()\n",
    "x_scaled = min_max_scaler.fit_transform(X_values)\n",
    "X = pd.DataFrame(x_scaled)"
   ]
  },
  {
   "cell_type": "code",
   "execution_count": 28,
   "metadata": {
    "colab": {
     "base_uri": "https://localhost:8080/",
     "height": 215
    },
    "id": "Nxf7mnJQPax0",
    "outputId": "181355db-0a5b-491f-fd51-8d90d465a892"
   },
   "outputs": [
    {
     "data": {
      "text/html": [
       "<div>\n",
       "<style scoped>\n",
       "    .dataframe tbody tr th:only-of-type {\n",
       "        vertical-align: middle;\n",
       "    }\n",
       "\n",
       "    .dataframe tbody tr th {\n",
       "        vertical-align: top;\n",
       "    }\n",
       "\n",
       "    .dataframe thead th {\n",
       "        text-align: right;\n",
       "    }\n",
       "</style>\n",
       "<table border=\"1\" class=\"dataframe\">\n",
       "  <thead>\n",
       "    <tr style=\"text-align: right;\">\n",
       "      <th></th>\n",
       "      <th>0</th>\n",
       "      <th>1</th>\n",
       "      <th>2</th>\n",
       "      <th>3</th>\n",
       "      <th>4</th>\n",
       "      <th>5</th>\n",
       "      <th>6</th>\n",
       "      <th>7</th>\n",
       "      <th>8</th>\n",
       "      <th>9</th>\n",
       "      <th>...</th>\n",
       "      <th>36</th>\n",
       "      <th>37</th>\n",
       "      <th>38</th>\n",
       "      <th>39</th>\n",
       "      <th>40</th>\n",
       "      <th>41</th>\n",
       "      <th>42</th>\n",
       "      <th>43</th>\n",
       "      <th>44</th>\n",
       "      <th>45</th>\n",
       "    </tr>\n",
       "  </thead>\n",
       "  <tbody>\n",
       "    <tr>\n",
       "      <th>0</th>\n",
       "      <td>1.0</td>\n",
       "      <td>0.546017</td>\n",
       "      <td>0.500000</td>\n",
       "      <td>0.041091</td>\n",
       "      <td>0.029461</td>\n",
       "      <td>0.646313</td>\n",
       "      <td>0.019231</td>\n",
       "      <td>0.0</td>\n",
       "      <td>0.021869</td>\n",
       "      <td>0.000939</td>\n",
       "      <td>...</td>\n",
       "      <td>1.0</td>\n",
       "      <td>1.0</td>\n",
       "      <td>0.0</td>\n",
       "      <td>1.0</td>\n",
       "      <td>1.0</td>\n",
       "      <td>0.0</td>\n",
       "      <td>0.0</td>\n",
       "      <td>0.0</td>\n",
       "      <td>0.0</td>\n",
       "      <td>1.0</td>\n",
       "    </tr>\n",
       "    <tr>\n",
       "      <th>1</th>\n",
       "      <td>1.0</td>\n",
       "      <td>0.597606</td>\n",
       "      <td>0.416667</td>\n",
       "      <td>0.030855</td>\n",
       "      <td>0.017050</td>\n",
       "      <td>0.681355</td>\n",
       "      <td>0.000000</td>\n",
       "      <td>0.0</td>\n",
       "      <td>0.021869</td>\n",
       "      <td>0.000000</td>\n",
       "      <td>...</td>\n",
       "      <td>1.0</td>\n",
       "      <td>1.0</td>\n",
       "      <td>0.0</td>\n",
       "      <td>0.0</td>\n",
       "      <td>0.0</td>\n",
       "      <td>0.0</td>\n",
       "      <td>0.0</td>\n",
       "      <td>1.0</td>\n",
       "      <td>0.0</td>\n",
       "      <td>0.0</td>\n",
       "    </tr>\n",
       "    <tr>\n",
       "      <th>2</th>\n",
       "      <td>0.0</td>\n",
       "      <td>0.311432</td>\n",
       "      <td>0.416667</td>\n",
       "      <td>0.017422</td>\n",
       "      <td>0.005112</td>\n",
       "      <td>0.713912</td>\n",
       "      <td>0.000000</td>\n",
       "      <td>0.0</td>\n",
       "      <td>0.021869</td>\n",
       "      <td>0.000000</td>\n",
       "      <td>...</td>\n",
       "      <td>0.0</td>\n",
       "      <td>1.0</td>\n",
       "      <td>0.0</td>\n",
       "      <td>0.0</td>\n",
       "      <td>0.0</td>\n",
       "      <td>0.0</td>\n",
       "      <td>0.0</td>\n",
       "      <td>1.0</td>\n",
       "      <td>0.0</td>\n",
       "      <td>0.0</td>\n",
       "    </tr>\n",
       "    <tr>\n",
       "      <th>3</th>\n",
       "      <td>1.0</td>\n",
       "      <td>0.515683</td>\n",
       "      <td>0.458333</td>\n",
       "      <td>0.034159</td>\n",
       "      <td>0.013019</td>\n",
       "      <td>0.867809</td>\n",
       "      <td>0.019231</td>\n",
       "      <td>0.0</td>\n",
       "      <td>0.021990</td>\n",
       "      <td>0.000104</td>\n",
       "      <td>...</td>\n",
       "      <td>1.0</td>\n",
       "      <td>1.0</td>\n",
       "      <td>0.0</td>\n",
       "      <td>0.0</td>\n",
       "      <td>1.0</td>\n",
       "      <td>0.0</td>\n",
       "      <td>0.0</td>\n",
       "      <td>1.0</td>\n",
       "      <td>0.0</td>\n",
       "      <td>0.0</td>\n",
       "    </tr>\n",
       "    <tr>\n",
       "      <th>4</th>\n",
       "      <td>1.0</td>\n",
       "      <td>0.548039</td>\n",
       "      <td>0.416667</td>\n",
       "      <td>0.042822</td>\n",
       "      <td>0.020509</td>\n",
       "      <td>0.828060</td>\n",
       "      <td>0.019231</td>\n",
       "      <td>0.0</td>\n",
       "      <td>0.025290</td>\n",
       "      <td>0.004270</td>\n",
       "      <td>...</td>\n",
       "      <td>1.0</td>\n",
       "      <td>1.0</td>\n",
       "      <td>0.0</td>\n",
       "      <td>0.0</td>\n",
       "      <td>0.0</td>\n",
       "      <td>0.0</td>\n",
       "      <td>1.0</td>\n",
       "      <td>0.0</td>\n",
       "      <td>0.0</td>\n",
       "      <td>0.0</td>\n",
       "    </tr>\n",
       "  </tbody>\n",
       "</table>\n",
       "<p>5 rows × 46 columns</p>\n",
       "</div>"
      ],
      "text/plain": [
       "    0         1         2         3         4         5         6    7   \\\n",
       "0  1.0  0.546017  0.500000  0.041091  0.029461  0.646313  0.019231  0.0   \n",
       "1  1.0  0.597606  0.416667  0.030855  0.017050  0.681355  0.000000  0.0   \n",
       "2  0.0  0.311432  0.416667  0.017422  0.005112  0.713912  0.000000  0.0   \n",
       "3  1.0  0.515683  0.458333  0.034159  0.013019  0.867809  0.019231  0.0   \n",
       "4  1.0  0.548039  0.416667  0.042822  0.020509  0.828060  0.019231  0.0   \n",
       "\n",
       "         8         9   ...   36   37   38   39   40   41   42   43   44   45  \n",
       "0  0.021869  0.000939  ...  1.0  1.0  0.0  1.0  1.0  0.0  0.0  0.0  0.0  1.0  \n",
       "1  0.021869  0.000000  ...  1.0  1.0  0.0  0.0  0.0  0.0  0.0  1.0  0.0  0.0  \n",
       "2  0.021869  0.000000  ...  0.0  1.0  0.0  0.0  0.0  0.0  0.0  1.0  0.0  0.0  \n",
       "3  0.021990  0.000104  ...  1.0  1.0  0.0  0.0  1.0  0.0  0.0  1.0  0.0  0.0  \n",
       "4  0.025290  0.004270  ...  1.0  1.0  0.0  0.0  0.0  0.0  1.0  0.0  0.0  0.0  \n",
       "\n",
       "[5 rows x 46 columns]"
      ]
     },
     "execution_count": 28,
     "metadata": {},
     "output_type": "execute_result"
    }
   ],
   "source": [
    "X.head()"
   ]
  },
  {
   "cell_type": "code",
   "execution_count": 29,
   "metadata": {
    "id": "gUBpShAVPa2h"
   },
   "outputs": [],
   "source": [
    "from sklearn.model_selection import train_test_split\n",
    "X_train, X_test, y_train, y_test   = train_test_split(X, y, test_size=0.2, random_state=1)"
   ]
  },
  {
   "cell_type": "code",
   "execution_count": 30,
   "metadata": {
    "id": "n0jAETYvPa67"
   },
   "outputs": [],
   "source": [
    "model = LogisticRegression(solver='liblinear', random_state=0)"
   ]
  },
  {
   "cell_type": "code",
   "execution_count": 31,
   "metadata": {
    "colab": {
     "base_uri": "https://localhost:8080/"
    },
    "id": "jL0_W_G6d_IF",
    "outputId": "f9fe3db7-fb65-4b8f-c84e-3c3e77460051"
   },
   "outputs": [
    {
     "data": {
      "text/plain": [
       "LogisticRegression(random_state=0, solver='liblinear')"
      ]
     },
     "execution_count": 31,
     "metadata": {},
     "output_type": "execute_result"
    }
   ],
   "source": [
    "model.fit(X_train,y_train)"
   ]
  },
  {
   "cell_type": "code",
   "execution_count": 75,
   "metadata": {
    "colab": {
     "base_uri": "https://localhost:8080/"
    },
    "id": "Iv1dXAnteDFE",
    "outputId": "affaa5b2-42a0-490b-8d82-9eec01fc5df5"
   },
   "outputs": [
    {
     "data": {
      "text/plain": [
       "array([-1.56954014])"
      ]
     },
     "execution_count": 75,
     "metadata": {
      "tags": []
     },
     "output_type": "execute_result"
    }
   ],
   "source": [
    "model.coef_\n",
    "model.intercept_"
   ]
  },
  {
   "cell_type": "code",
   "execution_count": 76,
   "metadata": {
    "colab": {
     "base_uri": "https://localhost:8080/"
    },
    "id": "nfXc_KJoeERZ",
    "outputId": "a0f69586-7abf-4a65-c563-0505184974d8"
   },
   "outputs": [
    {
     "data": {
      "text/plain": [
       "array([[0.99613056, 0.00386944],\n",
       "       [0.99644548, 0.00355452],\n",
       "       [0.99580329, 0.00419671],\n",
       "       ...,\n",
       "       [0.99489091, 0.00510909],\n",
       "       [0.99600055, 0.00399945],\n",
       "       [0.99505025, 0.00494975]])"
      ]
     },
     "execution_count": 76,
     "metadata": {
      "tags": []
     },
     "output_type": "execute_result"
    }
   ],
   "source": [
    "model.predict_proba(X_train)"
   ]
  },
  {
   "cell_type": "code",
   "execution_count": 32,
   "metadata": {
    "id": "YasoLYnJeEVZ"
   },
   "outputs": [],
   "source": [
    "pred = model.predict(X_train)"
   ]
  },
  {
   "cell_type": "code",
   "execution_count": 33,
   "metadata": {
    "colab": {
     "base_uri": "https://localhost:8080/"
    },
    "id": "G7dMK475eEYw",
    "outputId": "1e4c711e-99d8-4855-8885-950a432cd29e"
   },
   "outputs": [
    {
     "data": {
      "text/plain": [
       "array([[23460,   217],\n",
       "       [ 1663,   412]], dtype=int64)"
      ]
     },
     "execution_count": 33,
     "metadata": {},
     "output_type": "execute_result"
    }
   ],
   "source": [
    "confusion_matrix(y_train, model.predict(X_train))"
   ]
  },
  {
   "cell_type": "code",
   "execution_count": 34,
   "metadata": {
    "colab": {
     "base_uri": "https://localhost:8080/"
    },
    "id": "yRCt7DgteEbo",
    "outputId": "c8a71415-8167-4224-f5ee-b2cd1e326c51"
   },
   "outputs": [
    {
     "name": "stdout",
     "output_type": "stream",
     "text": [
      "              precision    recall  f1-score   support\n",
      "\n",
      "           0       0.93      0.99      0.96     23677\n",
      "           1       0.66      0.20      0.30      2075\n",
      "\n",
      "    accuracy                           0.93     25752\n",
      "   macro avg       0.79      0.59      0.63     25752\n",
      "weighted avg       0.91      0.93      0.91     25752\n",
      "\n"
     ]
    }
   ],
   "source": [
    "print(classification_report(y_train, model.predict(X_train)))"
   ]
  },
  {
   "cell_type": "code",
   "execution_count": 35,
   "metadata": {
    "colab": {
     "base_uri": "https://localhost:8080/",
     "height": 483
    },
    "id": "lAr0udEXeEec",
    "outputId": "3457e887-36cb-4a18-fafd-a0d0e44f777e"
   },
   "outputs": [
    {
     "data": {
      "image/png": "[encoded data removed]",
      "text/plain": [
       "<Figure size 576x576 with 1 Axes>"
      ]
     },
     "metadata": {
      "needs_background": "light"
     },
     "output_type": "display_data"
    }
   ],
   "source": [
    "cm = confusion_matrix(y_train, pred)\n",
    "\n",
    "fig, ax = plt.subplots(figsize=(8, 8))\n",
    "ax.imshow(cm)\n",
    "ax.grid(False)\n",
    "ax.xaxis.set(ticks=(0, 1), ticklabels=('Predicted 0s', 'Predicted 1s'))\n",
    "ax.yaxis.set(ticks=(0, 1), ticklabels=('Actual 0s', 'Actual 1s'))\n",
    "ax.set_ylim(1.5, -0.5)\n",
    "for i in range(2):\n",
    "    for j in range(2):\n",
    "        ax.text(j, i, cm[i, j], ha='center', va='center', color='red')\n",
    "plt.show()"
   ]
  },
  {
   "cell_type": "code",
   "execution_count": 36,
   "metadata": {},
   "outputs": [
    {
     "name": "stdout",
     "output_type": "stream",
     "text": [
      "AUC: 0.9229110981359623\n"
     ]
    },
    {
     "data": {
      "image/png": "[encoded data removed]",
      "text/plain": [
       "<Figure size 432x288 with 1 Axes>"
      ]
     },
     "metadata": {
      "needs_background": "light"
     },
     "output_type": "display_data"
    }
   ],
   "source": [
    "from sklearn.metrics import roc_curve\n",
    "from sklearn.metrics import roc_auc_score\n",
    "from sklearn import metrics\n",
    "def plot_roc_curve(fpr, tpr,model):\n",
    "    plt.plot(fpr, tpr, color='orange', label='ROC')\n",
    "    plt.plot([0, 1], [0, 1], color='darkblue', linestyle='--')\n",
    "    auc = metrics.roc_auc_score(y_test, model.predict_proba(X_test)[:,1])\n",
    "    print('AUC:', auc)\n",
    "    plt.xlabel('False Positive Rate')\n",
    "    plt.ylabel('True Positive Rate')\n",
    "    plt.title('Receiver Operating Characteristic (ROC) Curve')\n",
    "    plt.legend()\n",
    "    plt.show( )\n",
    "    \n",
    "fpr, tpr, thresholds = roc_curve(y_test,model.predict_proba(X_test)[:,1] )\n",
    "plot_roc_curve(fpr,tpr,model)"
   ]
  },
  {
   "cell_type": "code",
   "execution_count": null,
   "metadata": {
    "id": "cePgnd7MeEhx"
   },
   "outputs": [],
   "source": [
    "# Accuracy Increased after normalizing the data\n",
    "# F1 score also increased\n",
    "# But this is on training data\n",
    "# Let's check on test data"
   ]
  },
  {
   "cell_type": "code",
   "execution_count": 37,
   "metadata": {
    "colab": {
     "base_uri": "https://localhost:8080/"
    },
    "id": "qRtWlPU8eEk4",
    "outputId": "08b8680f-c964-4f16-924f-9ab499968ec6"
   },
   "outputs": [
    {
     "data": {
      "text/plain": [
       "array([[5852,   54],\n",
       "       [ 413,  120]], dtype=int64)"
      ]
     },
     "execution_count": 37,
     "metadata": {},
     "output_type": "execute_result"
    }
   ],
   "source": [
    "pred = model.predict(X_test)\n",
    "confusion_matrix(y_test, pred)"
   ]
  },
  {
   "cell_type": "code",
   "execution_count": 38,
   "metadata": {
    "colab": {
     "base_uri": "https://localhost:8080/"
    },
    "id": "Tup8TsRpeC_T",
    "outputId": "834eb219-7e6a-407b-d8de-4078b9a0651b"
   },
   "outputs": [
    {
     "name": "stdout",
     "output_type": "stream",
     "text": [
      "              precision    recall  f1-score   support\n",
      "\n",
      "           0       0.93      0.99      0.96      5906\n",
      "           1       0.69      0.23      0.34       533\n",
      "\n",
      "    accuracy                           0.93      6439\n",
      "   macro avg       0.81      0.61      0.65      6439\n",
      "weighted avg       0.91      0.93      0.91      6439\n",
      "\n"
     ]
    }
   ],
   "source": [
    "print(classification_report(y_test, pred))"
   ]
  },
  {
   "cell_type": "code",
   "execution_count": 83,
   "metadata": {
    "colab": {
     "base_uri": "https://localhost:8080/",
     "height": 483
    },
    "id": "8mHy6woqeCz0",
    "outputId": "38297daa-990e-4151-9ee4-02f73ea7193a"
   },
   "outputs": [
    {
     "data": {
      "image/png": "[encoded data removed]",
      "text/plain": [
       "<Figure size 576x576 with 1 Axes>"
      ]
     },
     "metadata": {
      "needs_background": "light",
      "tags": []
     },
     "output_type": "display_data"
    }
   ],
   "source": [
    "cm = confusion_matrix(y_test, pred)\n",
    "\n",
    "fig, ax = plt.subplots(figsize=(8, 8))\n",
    "ax.imshow(cm)\n",
    "ax.grid(False)\n",
    "ax.xaxis.set(ticks=(0, 1), ticklabels=('Predicted 0s', 'Predicted 1s'))\n",
    "ax.yaxis.set(ticks=(0, 1), ticklabels=('Actual 0s', 'Actual 1s'))\n",
    "ax.set_ylim(1.5, -0.5)\n",
    "for i in range(2):\n",
    "    for j in range(2):\n",
    "        ax.text(j, i, cm[i, j], ha='center', va='center', color='red')\n",
    "plt.show()"
   ]
  },
  {
   "cell_type": "code",
   "execution_count": 97,
   "metadata": {
    "colab": {
     "base_uri": "https://localhost:8080/",
     "height": 283
    },
    "id": "QK_7DX8Ad-1j",
    "outputId": "17c96463-06e2-4680-cd30-16f674c67b44"
   },
   "outputs": [
    {
     "data": {
      "image/png": "[encoded data removed]",
      "text/plain": [
       "<IPython.core.display.Image object>"
      ]
     },
     "execution_count": 97,
     "metadata": {
      "tags": []
     },
     "output_type": "execute_result"
    }
   ],
   "source": [
    "# Good thing about this model is that it is not predicting non delinquent customers as delinquent. i.e. false positive is 0\n",
    "from IPython.display import Image\n",
    "Image('type-1-2-errors.png')"
   ]
  },
  {
   "cell_type": "code",
   "execution_count": 98,
   "metadata": {
    "id": "3a7p-qS7d-Ju"
   },
   "outputs": [],
   "source": [
    "# Check For multicollinearity"
   ]
  },
  {
   "cell_type": "code",
   "execution_count": 99,
   "metadata": {
    "colab": {
     "base_uri": "https://localhost:8080/"
    },
    "id": "FnYl8xQ_Pa_m",
    "outputId": "9b97d9e6-23b5-4285-f214-3e7d93200c67"
   },
   "outputs": [
    {
     "name": "stderr",
     "output_type": "stream",
     "text": [
      "/usr/local/lib/python3.6/dist-packages/statsmodels/tools/_testing.py:19: FutureWarning: pandas.util.testing is deprecated. Use the functions in the public API at pandas.testing instead.\n",
      "  import pandas.util.testing as tm\n"
     ]
    }
   ],
   "source": [
    "# Import library for VIF\n",
    "from statsmodels.stats.outliers_influence import variance_inflation_factor\n",
    "\n",
    "def calc_vif(X):\n",
    "\n",
    "    # Calculating VIF\n",
    "    vif = pd.DataFrame()\n",
    "    vif[\"variables\"] = X.columns\n",
    "    vif[\"VIF\"] = [variance_inflation_factor(X.values, i) for i in range(X.shape[1])]\n",
    "\n",
    "    return(vif)"
   ]
  },
  {
   "cell_type": "code",
   "execution_count": 100,
   "metadata": {
    "id": "xs7nSqcHj2xT"
   },
   "outputs": [],
   "source": [
    "c = [21,29]\n",
    "X = df.drop(df.columns[c], axis =1)\n",
    "y = df['Delinquent'].astype(int)"
   ]
  },
  {
   "cell_type": "code",
   "execution_count": 104,
   "metadata": {
    "colab": {
     "base_uri": "https://localhost:8080/"
    },
    "id": "J3RvsL2Uj3B1",
    "outputId": "8b005aa1-3020-40ed-faa6-2c9bdee9771f"
   },
   "outputs": [
    {
     "name": "stderr",
     "output_type": "stream",
     "text": [
      "/usr/local/lib/python3.6/dist-packages/statsmodels/stats/outliers_influence.py:185: RuntimeWarning: divide by zero encountered in double_scalars\n",
      "  vif = 1. / (1. - r_squared_i)\n",
      "/usr/local/lib/python3.6/dist-packages/statsmodels/regression/linear_model.py:1636: RuntimeWarning: divide by zero encountered in double_scalars\n",
      "  return 1 - self.ssr/self.centered_tss\n"
     ]
    }
   ],
   "source": [
    "vif_df = calc_vif(X)"
   ]
  },
  {
   "cell_type": "code",
   "execution_count": 102,
   "metadata": {
    "id": "hJdqn9lEj3Mv"
   },
   "outputs": [],
   "source": [
    "### VIF starts at 1 and has no upper limit\n",
    "### VIF = 1, no correlation between the independent variable and the other variables\n",
    "### VIF exceeding 5 or 10 indicates high multicollinearity between this independent variable and the others"
   ]
  },
  {
   "cell_type": "code",
   "execution_count": 105,
   "metadata": {
    "colab": {
     "base_uri": "https://localhost:8080/",
     "height": 1000
    },
    "id": "YI3awyKKj3Ui",
    "outputId": "fe2ef5b5-90a3-4f43-b360-52cf25e8352c"
   },
   "outputs": [
    {
     "data": {
      "text/html": [
       "<div>\n",
       "<style scoped>\n",
       "    .dataframe tbody tr th:only-of-type {\n",
       "        vertical-align: middle;\n",
       "    }\n",
       "\n",
       "    .dataframe tbody tr th {\n",
       "        vertical-align: top;\n",
       "    }\n",
       "\n",
       "    .dataframe thead th {\n",
       "        text-align: right;\n",
       "    }\n",
       "</style>\n",
       "<table border=\"1\" class=\"dataframe\">\n",
       "  <thead>\n",
       "    <tr style=\"text-align: right;\">\n",
       "      <th></th>\n",
       "      <th>variables</th>\n",
       "      <th>VIF</th>\n",
       "    </tr>\n",
       "  </thead>\n",
       "  <tbody>\n",
       "    <tr>\n",
       "      <th>0</th>\n",
       "      <td>sme_sector</td>\n",
       "      <td>inf</td>\n",
       "    </tr>\n",
       "    <tr>\n",
       "      <th>1</th>\n",
       "      <td>bsr_activity_cd</td>\n",
       "      <td>1.758898</td>\n",
       "    </tr>\n",
       "    <tr>\n",
       "      <th>2</th>\n",
       "      <td>bsr_org_cd</td>\n",
       "      <td>1.110446</td>\n",
       "    </tr>\n",
       "    <tr>\n",
       "      <th>3</th>\n",
       "      <td>disbursed_amount</td>\n",
       "      <td>36.036852</td>\n",
       "    </tr>\n",
       "    <tr>\n",
       "      <th>4</th>\n",
       "      <td>asset_cost</td>\n",
       "      <td>33.723685</td>\n",
       "    </tr>\n",
       "    <tr>\n",
       "      <th>5</th>\n",
       "      <td>ltv</td>\n",
       "      <td>15.199669</td>\n",
       "    </tr>\n",
       "    <tr>\n",
       "      <th>6</th>\n",
       "      <td>PRI.ACTIVE.ACCTS</td>\n",
       "      <td>3.761274</td>\n",
       "    </tr>\n",
       "    <tr>\n",
       "      <th>7</th>\n",
       "      <td>PRI.OVERDUE.ACCTS</td>\n",
       "      <td>2.362154</td>\n",
       "    </tr>\n",
       "    <tr>\n",
       "      <th>8</th>\n",
       "      <td>PRI.CURRENT.BALANCE</td>\n",
       "      <td>15.944042</td>\n",
       "    </tr>\n",
       "    <tr>\n",
       "      <th>9</th>\n",
       "      <td>PRI.SANCTIONED.AMOUNT</td>\n",
       "      <td>2164.906611</td>\n",
       "    </tr>\n",
       "    <tr>\n",
       "      <th>10</th>\n",
       "      <td>PRI.DISBURSED.AMOUNT</td>\n",
       "      <td>2163.117365</td>\n",
       "    </tr>\n",
       "    <tr>\n",
       "      <th>11</th>\n",
       "      <td>SEC.NO.OF.ACCTS</td>\n",
       "      <td>4.893010</td>\n",
       "    </tr>\n",
       "    <tr>\n",
       "      <th>12</th>\n",
       "      <td>SEC.ACTIVE.ACCTS</td>\n",
       "      <td>5.054779</td>\n",
       "    </tr>\n",
       "    <tr>\n",
       "      <th>13</th>\n",
       "      <td>SEC.OVERDUE.ACCTS</td>\n",
       "      <td>1.504805</td>\n",
       "    </tr>\n",
       "    <tr>\n",
       "      <th>14</th>\n",
       "      <td>SEC.CURRENT.BALANCE</td>\n",
       "      <td>10.438448</td>\n",
       "    </tr>\n",
       "    <tr>\n",
       "      <th>15</th>\n",
       "      <td>SEC.SANCTIONED.AMOUNT</td>\n",
       "      <td>802.249584</td>\n",
       "    </tr>\n",
       "    <tr>\n",
       "      <th>16</th>\n",
       "      <td>SEC.DISBURSED.AMOUNT</td>\n",
       "      <td>801.121742</td>\n",
       "    </tr>\n",
       "    <tr>\n",
       "      <th>17</th>\n",
       "      <td>PRIMARY.INSTAL.AMT</td>\n",
       "      <td>1.054119</td>\n",
       "    </tr>\n",
       "    <tr>\n",
       "      <th>18</th>\n",
       "      <td>SEC.INSTAL.AMT</td>\n",
       "      <td>1.154416</td>\n",
       "    </tr>\n",
       "    <tr>\n",
       "      <th>19</th>\n",
       "      <td>NEW.ACCTS.IN.LAST.SIX.MONTHS</td>\n",
       "      <td>2.398062</td>\n",
       "    </tr>\n",
       "    <tr>\n",
       "      <th>20</th>\n",
       "      <td>DELINQUENT.ACCTS.IN.LAST.SIX.MONTHS</td>\n",
       "      <td>1.514127</td>\n",
       "    </tr>\n",
       "    <tr>\n",
       "      <th>21</th>\n",
       "      <td>MobileNo_Avl_Flag</td>\n",
       "      <td>0.000000</td>\n",
       "    </tr>\n",
       "    <tr>\n",
       "      <th>22</th>\n",
       "      <td>Aadhar_flag</td>\n",
       "      <td>7.103182</td>\n",
       "    </tr>\n",
       "    <tr>\n",
       "      <th>23</th>\n",
       "      <td>PAN_flag</td>\n",
       "      <td>1.053258</td>\n",
       "    </tr>\n",
       "    <tr>\n",
       "      <th>24</th>\n",
       "      <td>VoterID_flag</td>\n",
       "      <td>6.312264</td>\n",
       "    </tr>\n",
       "    <tr>\n",
       "      <th>25</th>\n",
       "      <td>Driving_flag</td>\n",
       "      <td>1.873253</td>\n",
       "    </tr>\n",
       "    <tr>\n",
       "      <th>26</th>\n",
       "      <td>Passport_flag</td>\n",
       "      <td>1.061138</td>\n",
       "    </tr>\n",
       "    <tr>\n",
       "      <th>27</th>\n",
       "      <td>PERFORM_CNS.SCORE</td>\n",
       "      <td>173.101181</td>\n",
       "    </tr>\n",
       "    <tr>\n",
       "      <th>28</th>\n",
       "      <td>Age_of_Customer</td>\n",
       "      <td>1.084861</td>\n",
       "    </tr>\n",
       "    <tr>\n",
       "      <th>29</th>\n",
       "      <td>Age_of_Loan</td>\n",
       "      <td>1.015268</td>\n",
       "    </tr>\n",
       "    <tr>\n",
       "      <th>30</th>\n",
       "      <td>scheme_cd_cnt</td>\n",
       "      <td>1.684040</td>\n",
       "    </tr>\n",
       "    <tr>\n",
       "      <th>31</th>\n",
       "      <td>industry_name_cnt</td>\n",
       "      <td>1.343140</td>\n",
       "    </tr>\n",
       "    <tr>\n",
       "      <th>32</th>\n",
       "      <td>branch_name_cnt</td>\n",
       "      <td>1.094226</td>\n",
       "    </tr>\n",
       "    <tr>\n",
       "      <th>33</th>\n",
       "      <td>district_name_cnt</td>\n",
       "      <td>1.788397</td>\n",
       "    </tr>\n",
       "    <tr>\n",
       "      <th>34</th>\n",
       "      <td>region_name_cnt</td>\n",
       "      <td>1.129653</td>\n",
       "    </tr>\n",
       "    <tr>\n",
       "      <th>35</th>\n",
       "      <td>state_name_cnt</td>\n",
       "      <td>1.835231</td>\n",
       "    </tr>\n",
       "    <tr>\n",
       "      <th>36</th>\n",
       "      <td>open_dt_day_cnt</td>\n",
       "      <td>1.001634</td>\n",
       "    </tr>\n",
       "    <tr>\n",
       "      <th>37</th>\n",
       "      <td>sector_name_Services</td>\n",
       "      <td>inf</td>\n",
       "    </tr>\n",
       "    <tr>\n",
       "      <th>38</th>\n",
       "      <td>sme_category_MICRO</td>\n",
       "      <td>27.339095</td>\n",
       "    </tr>\n",
       "    <tr>\n",
       "      <th>39</th>\n",
       "      <td>sme_category_SMALL</td>\n",
       "      <td>27.196203</td>\n",
       "    </tr>\n",
       "    <tr>\n",
       "      <th>40</th>\n",
       "      <td>module_id_cdcc</td>\n",
       "      <td>1.513929</td>\n",
       "    </tr>\n",
       "    <tr>\n",
       "      <th>41</th>\n",
       "      <td>Employment.Type_Self employed</td>\n",
       "      <td>1.038507</td>\n",
       "    </tr>\n",
       "    <tr>\n",
       "      <th>42</th>\n",
       "      <td>PERFORM_CNS.SCORE.DESCRIPTION_Simplified_Low Risk</td>\n",
       "      <td>6.860687</td>\n",
       "    </tr>\n",
       "    <tr>\n",
       "      <th>43</th>\n",
       "      <td>PERFORM_CNS.SCORE.DESCRIPTION_Simplified_Mediu...</td>\n",
       "      <td>3.228191</td>\n",
       "    </tr>\n",
       "    <tr>\n",
       "      <th>44</th>\n",
       "      <td>PERFORM_CNS.SCORE.DESCRIPTION_Simplified_Not S...</td>\n",
       "      <td>94.657130</td>\n",
       "    </tr>\n",
       "    <tr>\n",
       "      <th>45</th>\n",
       "      <td>PERFORM_CNS.SCORE.DESCRIPTION_Simplified_Very ...</td>\n",
       "      <td>3.849725</td>\n",
       "    </tr>\n",
       "    <tr>\n",
       "      <th>46</th>\n",
       "      <td>PERFORM_CNS.SCORE.DESCRIPTION_Simplified_Very ...</td>\n",
       "      <td>26.566668</td>\n",
       "    </tr>\n",
       "  </tbody>\n",
       "</table>\n",
       "</div>"
      ],
      "text/plain": [
       "                                            variables          VIF\n",
       "0                                          sme_sector          inf\n",
       "1                                     bsr_activity_cd     1.758898\n",
       "2                                          bsr_org_cd     1.110446\n",
       "3                                    disbursed_amount    36.036852\n",
       "4                                          asset_cost    33.723685\n",
       "5                                                 ltv    15.199669\n",
       "6                                    PRI.ACTIVE.ACCTS     3.761274\n",
       "7                                   PRI.OVERDUE.ACCTS     2.362154\n",
       "8                                 PRI.CURRENT.BALANCE    15.944042\n",
       "9                               PRI.SANCTIONED.AMOUNT  2164.906611\n",
       "10                               PRI.DISBURSED.AMOUNT  2163.117365\n",
       "11                                    SEC.NO.OF.ACCTS     4.893010\n",
       "12                                   SEC.ACTIVE.ACCTS     5.054779\n",
       "13                                  SEC.OVERDUE.ACCTS     1.504805\n",
       "14                                SEC.CURRENT.BALANCE    10.438448\n",
       "15                              SEC.SANCTIONED.AMOUNT   802.249584\n",
       "16                               SEC.DISBURSED.AMOUNT   801.121742\n",
       "17                                 PRIMARY.INSTAL.AMT     1.054119\n",
       "18                                     SEC.INSTAL.AMT     1.154416\n",
       "19                       NEW.ACCTS.IN.LAST.SIX.MONTHS     2.398062\n",
       "20                DELINQUENT.ACCTS.IN.LAST.SIX.MONTHS     1.514127\n",
       "21                                  MobileNo_Avl_Flag     0.000000\n",
       "22                                        Aadhar_flag     7.103182\n",
       "23                                           PAN_flag     1.053258\n",
       "24                                       VoterID_flag     6.312264\n",
       "25                                       Driving_flag     1.873253\n",
       "26                                      Passport_flag     1.061138\n",
       "27                                  PERFORM_CNS.SCORE   173.101181\n",
       "28                                    Age_of_Customer     1.084861\n",
       "29                                        Age_of_Loan     1.015268\n",
       "30                                      scheme_cd_cnt     1.684040\n",
       "31                                  industry_name_cnt     1.343140\n",
       "32                                    branch_name_cnt     1.094226\n",
       "33                                  district_name_cnt     1.788397\n",
       "34                                    region_name_cnt     1.129653\n",
       "35                                     state_name_cnt     1.835231\n",
       "36                                    open_dt_day_cnt     1.001634\n",
       "37                               sector_name_Services          inf\n",
       "38                                 sme_category_MICRO    27.339095\n",
       "39                                 sme_category_SMALL    27.196203\n",
       "40                                    module_id_cdcc      1.513929\n",
       "41                      Employment.Type_Self employed     1.038507\n",
       "42  PERFORM_CNS.SCORE.DESCRIPTION_Simplified_Low Risk     6.860687\n",
       "43  PERFORM_CNS.SCORE.DESCRIPTION_Simplified_Mediu...     3.228191\n",
       "44  PERFORM_CNS.SCORE.DESCRIPTION_Simplified_Not S...    94.657130\n",
       "45  PERFORM_CNS.SCORE.DESCRIPTION_Simplified_Very ...     3.849725\n",
       "46  PERFORM_CNS.SCORE.DESCRIPTION_Simplified_Very ...    26.566668"
      ]
     },
     "execution_count": 105,
     "metadata": {
      "tags": []
     },
     "output_type": "execute_result"
    }
   ],
   "source": [
    "vif_df"
   ]
  },
  {
   "cell_type": "code",
   "execution_count": 126,
   "metadata": {
    "colab": {
     "base_uri": "https://localhost:8080/",
     "height": 1000
    },
    "id": "31h_t-KUmOSy",
    "outputId": "853838d8-cee7-427c-9807-556df7545038"
   },
   "outputs": [
    {
     "data": {
      "text/html": [
       "<div>\n",
       "<style scoped>\n",
       "    .dataframe tbody tr th:only-of-type {\n",
       "        vertical-align: middle;\n",
       "    }\n",
       "\n",
       "    .dataframe tbody tr th {\n",
       "        vertical-align: top;\n",
       "    }\n",
       "\n",
       "    .dataframe thead th {\n",
       "        text-align: right;\n",
       "    }\n",
       "</style>\n",
       "<table border=\"1\" class=\"dataframe\">\n",
       "  <thead>\n",
       "    <tr style=\"text-align: right;\">\n",
       "      <th></th>\n",
       "      <th>variables</th>\n",
       "      <th>VIF</th>\n",
       "    </tr>\n",
       "  </thead>\n",
       "  <tbody>\n",
       "    <tr>\n",
       "      <th>0</th>\n",
       "      <td>sme_sector</td>\n",
       "      <td>inf</td>\n",
       "    </tr>\n",
       "    <tr>\n",
       "      <th>37</th>\n",
       "      <td>sector_name_Services</td>\n",
       "      <td>inf</td>\n",
       "    </tr>\n",
       "    <tr>\n",
       "      <th>9</th>\n",
       "      <td>PRI.SANCTIONED.AMOUNT</td>\n",
       "      <td>2164.906611</td>\n",
       "    </tr>\n",
       "    <tr>\n",
       "      <th>10</th>\n",
       "      <td>PRI.DISBURSED.AMOUNT</td>\n",
       "      <td>2163.117365</td>\n",
       "    </tr>\n",
       "    <tr>\n",
       "      <th>15</th>\n",
       "      <td>SEC.SANCTIONED.AMOUNT</td>\n",
       "      <td>802.249584</td>\n",
       "    </tr>\n",
       "    <tr>\n",
       "      <th>16</th>\n",
       "      <td>SEC.DISBURSED.AMOUNT</td>\n",
       "      <td>801.121742</td>\n",
       "    </tr>\n",
       "    <tr>\n",
       "      <th>27</th>\n",
       "      <td>PERFORM_CNS.SCORE</td>\n",
       "      <td>173.101181</td>\n",
       "    </tr>\n",
       "    <tr>\n",
       "      <th>44</th>\n",
       "      <td>PERFORM_CNS.SCORE.DESCRIPTION_Simplified_Not S...</td>\n",
       "      <td>94.657130</td>\n",
       "    </tr>\n",
       "    <tr>\n",
       "      <th>3</th>\n",
       "      <td>disbursed_amount</td>\n",
       "      <td>36.036852</td>\n",
       "    </tr>\n",
       "    <tr>\n",
       "      <th>4</th>\n",
       "      <td>asset_cost</td>\n",
       "      <td>33.723685</td>\n",
       "    </tr>\n",
       "    <tr>\n",
       "      <th>38</th>\n",
       "      <td>sme_category_MICRO</td>\n",
       "      <td>27.339095</td>\n",
       "    </tr>\n",
       "    <tr>\n",
       "      <th>39</th>\n",
       "      <td>sme_category_SMALL</td>\n",
       "      <td>27.196203</td>\n",
       "    </tr>\n",
       "    <tr>\n",
       "      <th>46</th>\n",
       "      <td>PERFORM_CNS.SCORE.DESCRIPTION_Simplified_Very ...</td>\n",
       "      <td>26.566668</td>\n",
       "    </tr>\n",
       "    <tr>\n",
       "      <th>8</th>\n",
       "      <td>PRI.CURRENT.BALANCE</td>\n",
       "      <td>15.944042</td>\n",
       "    </tr>\n",
       "    <tr>\n",
       "      <th>5</th>\n",
       "      <td>ltv</td>\n",
       "      <td>15.199669</td>\n",
       "    </tr>\n",
       "    <tr>\n",
       "      <th>14</th>\n",
       "      <td>SEC.CURRENT.BALANCE</td>\n",
       "      <td>10.438448</td>\n",
       "    </tr>\n",
       "    <tr>\n",
       "      <th>22</th>\n",
       "      <td>Aadhar_flag</td>\n",
       "      <td>7.103182</td>\n",
       "    </tr>\n",
       "    <tr>\n",
       "      <th>42</th>\n",
       "      <td>PERFORM_CNS.SCORE.DESCRIPTION_Simplified_Low Risk</td>\n",
       "      <td>6.860687</td>\n",
       "    </tr>\n",
       "    <tr>\n",
       "      <th>24</th>\n",
       "      <td>VoterID_flag</td>\n",
       "      <td>6.312264</td>\n",
       "    </tr>\n",
       "    <tr>\n",
       "      <th>12</th>\n",
       "      <td>SEC.ACTIVE.ACCTS</td>\n",
       "      <td>5.054779</td>\n",
       "    </tr>\n",
       "    <tr>\n",
       "      <th>11</th>\n",
       "      <td>SEC.NO.OF.ACCTS</td>\n",
       "      <td>4.893010</td>\n",
       "    </tr>\n",
       "    <tr>\n",
       "      <th>45</th>\n",
       "      <td>PERFORM_CNS.SCORE.DESCRIPTION_Simplified_Very ...</td>\n",
       "      <td>3.849725</td>\n",
       "    </tr>\n",
       "    <tr>\n",
       "      <th>6</th>\n",
       "      <td>PRI.ACTIVE.ACCTS</td>\n",
       "      <td>3.761274</td>\n",
       "    </tr>\n",
       "    <tr>\n",
       "      <th>43</th>\n",
       "      <td>PERFORM_CNS.SCORE.DESCRIPTION_Simplified_Mediu...</td>\n",
       "      <td>3.228191</td>\n",
       "    </tr>\n",
       "    <tr>\n",
       "      <th>19</th>\n",
       "      <td>NEW.ACCTS.IN.LAST.SIX.MONTHS</td>\n",
       "      <td>2.398062</td>\n",
       "    </tr>\n",
       "    <tr>\n",
       "      <th>7</th>\n",
       "      <td>PRI.OVERDUE.ACCTS</td>\n",
       "      <td>2.362154</td>\n",
       "    </tr>\n",
       "    <tr>\n",
       "      <th>25</th>\n",
       "      <td>Driving_flag</td>\n",
       "      <td>1.873253</td>\n",
       "    </tr>\n",
       "    <tr>\n",
       "      <th>35</th>\n",
       "      <td>state_name_cnt</td>\n",
       "      <td>1.835231</td>\n",
       "    </tr>\n",
       "    <tr>\n",
       "      <th>33</th>\n",
       "      <td>district_name_cnt</td>\n",
       "      <td>1.788397</td>\n",
       "    </tr>\n",
       "    <tr>\n",
       "      <th>1</th>\n",
       "      <td>bsr_activity_cd</td>\n",
       "      <td>1.758898</td>\n",
       "    </tr>\n",
       "    <tr>\n",
       "      <th>30</th>\n",
       "      <td>scheme_cd_cnt</td>\n",
       "      <td>1.684040</td>\n",
       "    </tr>\n",
       "    <tr>\n",
       "      <th>20</th>\n",
       "      <td>DELINQUENT.ACCTS.IN.LAST.SIX.MONTHS</td>\n",
       "      <td>1.514127</td>\n",
       "    </tr>\n",
       "    <tr>\n",
       "      <th>40</th>\n",
       "      <td>module_id_cdcc</td>\n",
       "      <td>1.513929</td>\n",
       "    </tr>\n",
       "    <tr>\n",
       "      <th>13</th>\n",
       "      <td>SEC.OVERDUE.ACCTS</td>\n",
       "      <td>1.504805</td>\n",
       "    </tr>\n",
       "    <tr>\n",
       "      <th>31</th>\n",
       "      <td>industry_name_cnt</td>\n",
       "      <td>1.343140</td>\n",
       "    </tr>\n",
       "    <tr>\n",
       "      <th>18</th>\n",
       "      <td>SEC.INSTAL.AMT</td>\n",
       "      <td>1.154416</td>\n",
       "    </tr>\n",
       "    <tr>\n",
       "      <th>34</th>\n",
       "      <td>region_name_cnt</td>\n",
       "      <td>1.129653</td>\n",
       "    </tr>\n",
       "    <tr>\n",
       "      <th>2</th>\n",
       "      <td>bsr_org_cd</td>\n",
       "      <td>1.110446</td>\n",
       "    </tr>\n",
       "    <tr>\n",
       "      <th>32</th>\n",
       "      <td>branch_name_cnt</td>\n",
       "      <td>1.094226</td>\n",
       "    </tr>\n",
       "    <tr>\n",
       "      <th>28</th>\n",
       "      <td>Age_of_Customer</td>\n",
       "      <td>1.084861</td>\n",
       "    </tr>\n",
       "    <tr>\n",
       "      <th>26</th>\n",
       "      <td>Passport_flag</td>\n",
       "      <td>1.061138</td>\n",
       "    </tr>\n",
       "    <tr>\n",
       "      <th>17</th>\n",
       "      <td>PRIMARY.INSTAL.AMT</td>\n",
       "      <td>1.054119</td>\n",
       "    </tr>\n",
       "    <tr>\n",
       "      <th>23</th>\n",
       "      <td>PAN_flag</td>\n",
       "      <td>1.053258</td>\n",
       "    </tr>\n",
       "    <tr>\n",
       "      <th>41</th>\n",
       "      <td>Employment.Type_Self employed</td>\n",
       "      <td>1.038507</td>\n",
       "    </tr>\n",
       "    <tr>\n",
       "      <th>29</th>\n",
       "      <td>Age_of_Loan</td>\n",
       "      <td>1.015268</td>\n",
       "    </tr>\n",
       "    <tr>\n",
       "      <th>36</th>\n",
       "      <td>open_dt_day_cnt</td>\n",
       "      <td>1.001634</td>\n",
       "    </tr>\n",
       "    <tr>\n",
       "      <th>21</th>\n",
       "      <td>MobileNo_Avl_Flag</td>\n",
       "      <td>0.000000</td>\n",
       "    </tr>\n",
       "  </tbody>\n",
       "</table>\n",
       "</div>"
      ],
      "text/plain": [
       "                                            variables          VIF\n",
       "0                                          sme_sector          inf\n",
       "37                               sector_name_Services          inf\n",
       "9                               PRI.SANCTIONED.AMOUNT  2164.906611\n",
       "10                               PRI.DISBURSED.AMOUNT  2163.117365\n",
       "15                              SEC.SANCTIONED.AMOUNT   802.249584\n",
       "16                               SEC.DISBURSED.AMOUNT   801.121742\n",
       "27                                  PERFORM_CNS.SCORE   173.101181\n",
       "44  PERFORM_CNS.SCORE.DESCRIPTION_Simplified_Not S...    94.657130\n",
       "3                                    disbursed_amount    36.036852\n",
       "4                                          asset_cost    33.723685\n",
       "38                                 sme_category_MICRO    27.339095\n",
       "39                                 sme_category_SMALL    27.196203\n",
       "46  PERFORM_CNS.SCORE.DESCRIPTION_Simplified_Very ...    26.566668\n",
       "8                                 PRI.CURRENT.BALANCE    15.944042\n",
       "5                                                 ltv    15.199669\n",
       "14                                SEC.CURRENT.BALANCE    10.438448\n",
       "22                                        Aadhar_flag     7.103182\n",
       "42  PERFORM_CNS.SCORE.DESCRIPTION_Simplified_Low Risk     6.860687\n",
       "24                                       VoterID_flag     6.312264\n",
       "12                                   SEC.ACTIVE.ACCTS     5.054779\n",
       "11                                    SEC.NO.OF.ACCTS     4.893010\n",
       "45  PERFORM_CNS.SCORE.DESCRIPTION_Simplified_Very ...     3.849725\n",
       "6                                    PRI.ACTIVE.ACCTS     3.761274\n",
       "43  PERFORM_CNS.SCORE.DESCRIPTION_Simplified_Mediu...     3.228191\n",
       "19                       NEW.ACCTS.IN.LAST.SIX.MONTHS     2.398062\n",
       "7                                   PRI.OVERDUE.ACCTS     2.362154\n",
       "25                                       Driving_flag     1.873253\n",
       "35                                     state_name_cnt     1.835231\n",
       "33                                  district_name_cnt     1.788397\n",
       "1                                     bsr_activity_cd     1.758898\n",
       "30                                      scheme_cd_cnt     1.684040\n",
       "20                DELINQUENT.ACCTS.IN.LAST.SIX.MONTHS     1.514127\n",
       "40                                    module_id_cdcc      1.513929\n",
       "13                                  SEC.OVERDUE.ACCTS     1.504805\n",
       "31                                  industry_name_cnt     1.343140\n",
       "18                                     SEC.INSTAL.AMT     1.154416\n",
       "34                                    region_name_cnt     1.129653\n",
       "2                                          bsr_org_cd     1.110446\n",
       "32                                    branch_name_cnt     1.094226\n",
       "28                                    Age_of_Customer     1.084861\n",
       "26                                      Passport_flag     1.061138\n",
       "17                                 PRIMARY.INSTAL.AMT     1.054119\n",
       "23                                           PAN_flag     1.053258\n",
       "41                      Employment.Type_Self employed     1.038507\n",
       "29                                        Age_of_Loan     1.015268\n",
       "36                                    open_dt_day_cnt     1.001634\n",
       "21                                  MobileNo_Avl_Flag     0.000000"
      ]
     },
     "execution_count": 126,
     "metadata": {
      "tags": []
     },
     "output_type": "execute_result"
    }
   ],
   "source": [
    "vif_df = vif_df.sort_values('VIF', ascending=False)\n",
    "vif_df"
   ]
  },
  {
   "cell_type": "markdown",
   "metadata": {
    "id": "daPjHaJ4wUdQ"
   },
   "source": [
    "If there is perfect correlation, then VIF = infinity. A large value of VIF indicates that there is a correlation between the variables"
   ]
  },
  {
   "cell_type": "code",
   "execution_count": 125,
   "metadata": {
    "colab": {
     "base_uri": "https://localhost:8080/",
     "height": 870
    },
    "id": "EaWWF2plj3cc",
    "outputId": "143e0290-fd5e-4417-9dcf-1cfd34d791bd"
   },
   "outputs": [
    {
     "data": {
      "text/plain": [
       "Text(0, 0.5, 'VIF')"
      ]
     },
     "execution_count": 125,
     "metadata": {
      "tags": []
     },
     "output_type": "execute_result"
    },
    {
     "data": {
      "image/png": "[encoded data removed]",
      "text/plain": [
       "<Figure size 3240x720 with 1 Axes>"
      ]
     },
     "metadata": {
      "needs_background": "light",
      "tags": []
     },
     "output_type": "display_data"
    }
   ],
   "source": [
    "plt.figure(figsize=(45,10))\n",
    "g= sns.barplot(x='variables', y=\"VIF\", data=vif_df  )\n",
    "plt.xticks(rotation=45)\n",
    "plt.xlabel('Variable', fontsize=18)\n",
    "plt.ylabel('VIF', fontsize=16)\n",
    "#fig.savefig('test.jpg')"
   ]
  },
  {
   "cell_type": "code",
   "execution_count": 68,
   "metadata": {
    "id": "7_qNvnm6j3jn"
   },
   "outputs": [],
   "source": [
    "# removing the columns with high multicolinearity\n",
    "c =[0,9,15,20,44,46,21]  # some variable not removed as they are important with respect to business perspective\n",
    "X = df.drop(df.columns[c], axis=1)"
   ]
  },
  {
   "cell_type": "markdown",
   "metadata": {
    "id": "5e1tzSMZx3dN"
   },
   "source": [
    "Now only 44 independent varaibles left"
   ]
  },
  {
   "cell_type": "code",
   "execution_count": 69,
   "metadata": {},
   "outputs": [
    {
     "name": "stdout",
     "output_type": "stream",
     "text": [
      "<class 'pandas.core.frame.DataFrame'>\n",
      "RangeIndex: 32191 entries, 0 to 32190\n",
      "Data columns (total 42 columns):\n",
      " #   Column                                                   Non-Null Count  Dtype  \n",
      "---  ------                                                   --------------  -----  \n",
      " 0   bsr_activity_cd                                          32191 non-null  int64  \n",
      " 1   bsr_org_cd                                               32191 non-null  int64  \n",
      " 2   disbursed_amount                                         32191 non-null  int64  \n",
      " 3   asset_cost                                               32191 non-null  int64  \n",
      " 4   ltv                                                      32191 non-null  float64\n",
      " 5   PRI.ACTIVE.ACCTS                                         32191 non-null  int64  \n",
      " 6   PRI.OVERDUE.ACCTS                                        32191 non-null  int64  \n",
      " 7   PRI.CURRENT.BALANCE                                      32191 non-null  int64  \n",
      " 8   PRI.DISBURSED.AMOUNT                                     32191 non-null  int64  \n",
      " 9   SEC.NO.OF.ACCTS                                          32191 non-null  int64  \n",
      " 10  SEC.ACTIVE.ACCTS                                         32191 non-null  int64  \n",
      " 11  SEC.OVERDUE.ACCTS                                        32191 non-null  int64  \n",
      " 12  SEC.CURRENT.BALANCE                                      32191 non-null  int64  \n",
      " 13  SEC.DISBURSED.AMOUNT                                     32191 non-null  int64  \n",
      " 14  PRIMARY.INSTAL.AMT                                       32191 non-null  int64  \n",
      " 15  SEC.INSTAL.AMT                                           32191 non-null  int64  \n",
      " 16  NEW.ACCTS.IN.LAST.SIX.MONTHS                             32191 non-null  int64  \n",
      " 17  MobileNo_Avl_Flag                                        32191 non-null  int64  \n",
      " 18  Aadhar_flag                                              32191 non-null  int64  \n",
      " 19  PAN_flag                                                 32191 non-null  int64  \n",
      " 20  VoterID_flag                                             32191 non-null  int64  \n",
      " 21  Driving_flag                                             32191 non-null  int64  \n",
      " 22  Passport_flag                                            32191 non-null  int64  \n",
      " 23  PERFORM_CNS.SCORE                                        32191 non-null  int64  \n",
      " 24  loan_default                                             32191 non-null  int64  \n",
      " 25  Age_of_Customer                                          32191 non-null  int64  \n",
      " 26  Age_of_Loan                                              32191 non-null  int64  \n",
      " 27  scheme_cd_cnt                                            32191 non-null  int64  \n",
      " 28  industry_name_cnt                                        32191 non-null  int64  \n",
      " 29  branch_name_cnt                                          32191 non-null  int64  \n",
      " 30  district_name_cnt                                        32191 non-null  int64  \n",
      " 31  region_name_cnt                                          32191 non-null  int64  \n",
      " 32  state_name_cnt                                           32191 non-null  int64  \n",
      " 33  open_dt_day_cnt                                          32191 non-null  int64  \n",
      " 34  sector_name_Services                                     32191 non-null  int64  \n",
      " 35  sme_category_MICRO                                       32191 non-null  int64  \n",
      " 36  sme_category_SMALL                                       32191 non-null  int64  \n",
      " 37  module_id_cdcc                                           32191 non-null  int64  \n",
      " 38  Employment.Type_Self employed                            32191 non-null  int64  \n",
      " 39  PERFORM_CNS.SCORE.DESCRIPTION_Simplified_Medium Risk     32191 non-null  int64  \n",
      " 40  PERFORM_CNS.SCORE.DESCRIPTION_Simplified_Very High Risk  32191 non-null  int64  \n",
      " 41  PERFORM_CNS.SCORE.DESCRIPTION_Simplified_Very Low Risk   32191 non-null  int64  \n",
      "dtypes: float64(1), int64(41)\n",
      "memory usage: 10.3 MB\n"
     ]
    }
   ],
   "source": [
    "X.info()"
   ]
  },
  {
   "cell_type": "code",
   "execution_count": 70,
   "metadata": {
    "colab": {
     "base_uri": "https://localhost:8080/"
    },
    "id": "xY9zBkSrj3rk",
    "outputId": "628c19ee-71aa-418b-b2b7-3837293f55c6"
   },
   "outputs": [
    {
     "data": {
      "text/plain": [
       "(32191, 42)"
      ]
     },
     "execution_count": 70,
     "metadata": {},
     "output_type": "execute_result"
    }
   ],
   "source": [
    "X.shape"
   ]
  },
  {
   "cell_type": "markdown",
   "metadata": {
    "id": "GGaX4HIeypUn"
   },
   "source": [
    "Dividing the new data with multicolinear varaibles removed and building the Logistic regressio model\n",
    "\n",
    "---\n",
    "\n"
   ]
  },
  {
   "cell_type": "code",
   "execution_count": 71,
   "metadata": {
    "id": "mAQvReU39VBZ"
   },
   "outputs": [],
   "source": [
    "# Normalize the data\n",
    "from sklearn import preprocessing\n",
    "\n",
    "X_values = X.values #returns a numpy array\n",
    "min_max_scaler = preprocessing.MinMaxScaler()\n",
    "x_scaled = min_max_scaler.fit_transform(X_values)\n",
    "X = pd.DataFrame(x_scaled)"
   ]
  },
  {
   "cell_type": "code",
   "execution_count": 72,
   "metadata": {
    "colab": {
     "base_uri": "https://localhost:8080/"
    },
    "id": "nTFN9TYYxzeC",
    "outputId": "a44491b7-497b-4759-8a23-63fe66f6db94"
   },
   "outputs": [
    {
     "data": {
      "text/plain": [
       "array([[23520,   157],\n",
       "       [ 1841,   234]], dtype=int64)"
      ]
     },
     "execution_count": 72,
     "metadata": {},
     "output_type": "execute_result"
    }
   ],
   "source": [
    "from sklearn.model_selection import train_test_split\n",
    "X_train, X_test, y_train, y_test   = train_test_split(X, y, test_size=0.2, random_state=1)\n",
    "model = LogisticRegression(solver='liblinear', random_state=0)\n",
    "model.fit(X_train,y_train)\n",
    "pred = model.predict(X_train)\n",
    "confusion_matrix(y_train, model.predict(X_train))"
   ]
  },
  {
   "cell_type": "code",
   "execution_count": 73,
   "metadata": {
    "colab": {
     "base_uri": "https://localhost:8080/"
    },
    "id": "5UblkJ8xyX0l",
    "outputId": "b77c1743-e0a8-4f91-c5a8-00a4d43dc415"
   },
   "outputs": [
    {
     "name": "stdout",
     "output_type": "stream",
     "text": [
      "              precision    recall  f1-score   support\n",
      "\n",
      "           0       0.93      0.99      0.96     23677\n",
      "           1       0.60      0.11      0.19      2075\n",
      "\n",
      "    accuracy                           0.92     25752\n",
      "   macro avg       0.76      0.55      0.57     25752\n",
      "weighted avg       0.90      0.92      0.90     25752\n",
      "\n"
     ]
    }
   ],
   "source": [
    "print(classification_report(y_train, pred))"
   ]
  },
  {
   "cell_type": "code",
   "execution_count": 74,
   "metadata": {
    "colab": {
     "base_uri": "https://localhost:8080/",
     "height": 483
    },
    "id": "WX-I1Au9yfJK",
    "outputId": "d4411461-adb8-444d-9076-1d98e3ec3452"
   },
   "outputs": [
    {
     "data": {
      "image/png": "[encoded data removed]",
      "text/plain": [
       "<Figure size 576x576 with 1 Axes>"
      ]
     },
     "metadata": {
      "needs_background": "light"
     },
     "output_type": "display_data"
    }
   ],
   "source": [
    "cm = confusion_matrix(y_train, pred)\n",
    "\n",
    "fig, ax = plt.subplots(figsize=(8, 8))\n",
    "ax.imshow(cm)\n",
    "ax.grid(False)\n",
    "ax.xaxis.set(ticks=(0, 1), ticklabels=('Predicted 0s', 'Predicted 1s'))\n",
    "ax.yaxis.set(ticks=(0, 1), ticklabels=('Actual 0s', 'Actual 1s'))\n",
    "ax.set_ylim(1.5, -0.5)\n",
    "for i in range(2):\n",
    "    for j in range(2):\n",
    "        ax.text(j, i, cm[i, j], ha='center', va='center', color='red')\n",
    "plt.show()"
   ]
  },
  {
   "cell_type": "markdown",
   "metadata": {
    "id": "r3t8yDGgylK_"
   },
   "source": [
    "Test Prediction\n",
    "\n",
    "---\n",
    "\n"
   ]
  },
  {
   "cell_type": "code",
   "execution_count": 75,
   "metadata": {
    "colab": {
     "base_uri": "https://localhost:8080/"
    },
    "id": "6y7aUX1ayYLO",
    "outputId": "7ad9949c-040c-4dd3-f4ec-8583212c4a0e"
   },
   "outputs": [
    {
     "data": {
      "text/plain": [
       "array([[5863,   43],\n",
       "       [ 480,   53]], dtype=int64)"
      ]
     },
     "execution_count": 75,
     "metadata": {},
     "output_type": "execute_result"
    }
   ],
   "source": [
    "pred = model.predict(X_test)\n",
    "confusion_matrix(y_test, model.predict(X_test))"
   ]
  },
  {
   "cell_type": "code",
   "execution_count": 76,
   "metadata": {
    "colab": {
     "base_uri": "https://localhost:8080/",
     "height": 483
    },
    "id": "cc9vSK7FyYUA",
    "outputId": "dc8c8da8-a19e-40ff-ca95-41d00a747fd7"
   },
   "outputs": [
    {
     "data": {
      "image/png": "[encoded data removed]",
      "text/plain": [
       "<Figure size 576x576 with 1 Axes>"
      ]
     },
     "metadata": {
      "needs_background": "light"
     },
     "output_type": "display_data"
    }
   ],
   "source": [
    "cm = confusion_matrix(y_test, pred)\n",
    "\n",
    "fig, ax = plt.subplots(figsize=(8, 8))\n",
    "ax.imshow(cm)\n",
    "ax.grid(False)\n",
    "ax.xaxis.set(ticks=(0, 1), ticklabels=('Predicted 0s', 'Predicted 1s'))\n",
    "ax.yaxis.set(ticks=(0, 1), ticklabels=('Actual 0s', 'Actual 1s'))\n",
    "ax.set_ylim(1.5, -0.5)\n",
    "for i in range(2):\n",
    "    for j in range(2):\n",
    "        ax.text(j, i, cm[i, j], ha='center', va='center', color='red')\n",
    "plt.show()"
   ]
  },
  {
   "cell_type": "code",
   "execution_count": 77,
   "metadata": {
    "colab": {
     "base_uri": "https://localhost:8080/"
    },
    "id": "zlCOipOcyYcu",
    "outputId": "b86bdb0e-2fd3-45b7-9a17-110aa083ad2e"
   },
   "outputs": [
    {
     "name": "stdout",
     "output_type": "stream",
     "text": [
      "              precision    recall  f1-score   support\n",
      "\n",
      "           0       0.92      0.99      0.96      5906\n",
      "           1       0.55      0.10      0.17       533\n",
      "\n",
      "    accuracy                           0.92      6439\n",
      "   macro avg       0.74      0.55      0.56      6439\n",
      "weighted avg       0.89      0.92      0.89      6439\n",
      "\n"
     ]
    }
   ],
   "source": [
    "print(classification_report(y_test, pred))"
   ]
  },
  {
   "cell_type": "code",
   "execution_count": 78,
   "metadata": {
    "id": "woCnBaF48VgT"
   },
   "outputs": [
    {
     "name": "stdout",
     "output_type": "stream",
     "text": [
      "AUC: 0.9104859814390428\n"
     ]
    },
    {
     "data": {
      "image/png": "[encoded data removed]",
      "text/plain": [
       "<Figure size 432x288 with 1 Axes>"
      ]
     },
     "metadata": {
      "needs_background": "light"
     },
     "output_type": "display_data"
    }
   ],
   "source": [
    "from sklearn.metrics import roc_curve\n",
    "from sklearn.metrics import roc_auc_score\n",
    "from sklearn import metrics\n",
    "def plot_roc_curve(fpr, tpr,model):\n",
    "    plt.plot(fpr, tpr, color='orange', label='ROC')\n",
    "    plt.plot([0, 1], [0, 1], color='darkblue', linestyle='--')\n",
    "    auc = metrics.roc_auc_score(y_test, model.predict_proba(X_test)[:,1])\n",
    "    print('AUC:', auc)\n",
    "    plt.xlabel('False Positive Rate')\n",
    "    plt.ylabel('True Positive Rate')\n",
    "    plt.title('Receiver Operating Characteristic (ROC) Curve')\n",
    "    plt.legend()\n",
    "    plt.show( )\n",
    "    \n",
    "fpr, tpr, thresholds = roc_curve(y_test,model.predict_proba(X_test)[:,1] )\n",
    "plot_roc_curve(fpr,tpr,model)"
   ]
  },
  {
   "cell_type": "code",
   "execution_count": 45,
   "metadata": {
    "id": "MnGD5nu88Vp2"
   },
   "outputs": [
    {
     "data": {
      "text/plain": [
       "array([[-4.79935475e-01, -1.13458618e+00, -7.51222509e-02,\n",
       "        -7.31415452e-02, -1.16505190e+00,  3.94122843e-01,\n",
       "         3.40319881e-01,  5.69796537e-02,  1.28662344e-01,\n",
       "         8.41599973e-02,  7.80016386e-02,  1.30042381e-01,\n",
       "        -9.72988202e-02,  4.82143869e-02,  2.56883259e-02,\n",
       "         3.59554086e-03,  2.26555097e-01,  1.22244924e+01,\n",
       "         0.00000000e+00, -1.01680940e+00, -1.64405811e-01,\n",
       "        -8.61593534e-01, -4.26779082e-01, -3.62743462e-02,\n",
       "         1.21711640e+00,  4.35923429e-02, -1.08905773e-01,\n",
       "        -2.23990477e-01, -3.62505745e-01, -3.93346372e-02,\n",
       "        -1.16024669e-01, -1.50692860e-01, -3.64957018e-01,\n",
       "        -1.53602847e-01, -4.87647103e-01, -1.87630141e-01,\n",
       "        -1.36131308e+00, -1.05711022e+00, -3.26844800e-01,\n",
       "        -2.05346280e-01,  2.37433992e-01,  5.20866406e-01,\n",
       "        -8.78806533e-01]])"
      ]
     },
     "execution_count": 45,
     "metadata": {},
     "output_type": "execute_result"
    }
   ],
   "source": [
    "model.coef_"
   ]
  },
  {
   "cell_type": "code",
   "execution_count": 51,
   "metadata": {},
   "outputs": [],
   "source": [
    "coeficient = pd.DataFrame(model.coef_)"
   ]
  },
  {
   "cell_type": "code",
   "execution_count": 53,
   "metadata": {},
   "outputs": [
    {
     "data": {
      "text/html": [
       "<div>\n",
       "<style scoped>\n",
       "    .dataframe tbody tr th:only-of-type {\n",
       "        vertical-align: middle;\n",
       "    }\n",
       "\n",
       "    .dataframe tbody tr th {\n",
       "        vertical-align: top;\n",
       "    }\n",
       "\n",
       "    .dataframe thead th {\n",
       "        text-align: right;\n",
       "    }\n",
       "</style>\n",
       "<table border=\"1\" class=\"dataframe\">\n",
       "  <thead>\n",
       "    <tr style=\"text-align: right;\">\n",
       "      <th></th>\n",
       "      <th>0</th>\n",
       "    </tr>\n",
       "  </thead>\n",
       "  <tbody>\n",
       "    <tr>\n",
       "      <th>0</th>\n",
       "      <td>-0.479935</td>\n",
       "    </tr>\n",
       "    <tr>\n",
       "      <th>1</th>\n",
       "      <td>-1.134586</td>\n",
       "    </tr>\n",
       "    <tr>\n",
       "      <th>2</th>\n",
       "      <td>-0.075122</td>\n",
       "    </tr>\n",
       "    <tr>\n",
       "      <th>3</th>\n",
       "      <td>-0.073142</td>\n",
       "    </tr>\n",
       "    <tr>\n",
       "      <th>4</th>\n",
       "      <td>-1.165052</td>\n",
       "    </tr>\n",
       "    <tr>\n",
       "      <th>5</th>\n",
       "      <td>0.394123</td>\n",
       "    </tr>\n",
       "    <tr>\n",
       "      <th>6</th>\n",
       "      <td>0.340320</td>\n",
       "    </tr>\n",
       "    <tr>\n",
       "      <th>7</th>\n",
       "      <td>0.056980</td>\n",
       "    </tr>\n",
       "    <tr>\n",
       "      <th>8</th>\n",
       "      <td>0.128662</td>\n",
       "    </tr>\n",
       "    <tr>\n",
       "      <th>9</th>\n",
       "      <td>0.084160</td>\n",
       "    </tr>\n",
       "    <tr>\n",
       "      <th>10</th>\n",
       "      <td>0.078002</td>\n",
       "    </tr>\n",
       "    <tr>\n",
       "      <th>11</th>\n",
       "      <td>0.130042</td>\n",
       "    </tr>\n",
       "    <tr>\n",
       "      <th>12</th>\n",
       "      <td>-0.097299</td>\n",
       "    </tr>\n",
       "    <tr>\n",
       "      <th>13</th>\n",
       "      <td>0.048214</td>\n",
       "    </tr>\n",
       "    <tr>\n",
       "      <th>14</th>\n",
       "      <td>0.025688</td>\n",
       "    </tr>\n",
       "    <tr>\n",
       "      <th>15</th>\n",
       "      <td>0.003596</td>\n",
       "    </tr>\n",
       "    <tr>\n",
       "      <th>16</th>\n",
       "      <td>0.226555</td>\n",
       "    </tr>\n",
       "    <tr>\n",
       "      <th>17</th>\n",
       "      <td>12.224492</td>\n",
       "    </tr>\n",
       "    <tr>\n",
       "      <th>18</th>\n",
       "      <td>0.000000</td>\n",
       "    </tr>\n",
       "    <tr>\n",
       "      <th>19</th>\n",
       "      <td>-1.016809</td>\n",
       "    </tr>\n",
       "    <tr>\n",
       "      <th>20</th>\n",
       "      <td>-0.164406</td>\n",
       "    </tr>\n",
       "    <tr>\n",
       "      <th>21</th>\n",
       "      <td>-0.861594</td>\n",
       "    </tr>\n",
       "    <tr>\n",
       "      <th>22</th>\n",
       "      <td>-0.426779</td>\n",
       "    </tr>\n",
       "    <tr>\n",
       "      <th>23</th>\n",
       "      <td>-0.036274</td>\n",
       "    </tr>\n",
       "    <tr>\n",
       "      <th>24</th>\n",
       "      <td>1.217116</td>\n",
       "    </tr>\n",
       "    <tr>\n",
       "      <th>25</th>\n",
       "      <td>0.043592</td>\n",
       "    </tr>\n",
       "    <tr>\n",
       "      <th>26</th>\n",
       "      <td>-0.108906</td>\n",
       "    </tr>\n",
       "    <tr>\n",
       "      <th>27</th>\n",
       "      <td>-0.223990</td>\n",
       "    </tr>\n",
       "    <tr>\n",
       "      <th>28</th>\n",
       "      <td>-0.362506</td>\n",
       "    </tr>\n",
       "    <tr>\n",
       "      <th>29</th>\n",
       "      <td>-0.039335</td>\n",
       "    </tr>\n",
       "    <tr>\n",
       "      <th>30</th>\n",
       "      <td>-0.116025</td>\n",
       "    </tr>\n",
       "    <tr>\n",
       "      <th>31</th>\n",
       "      <td>-0.150693</td>\n",
       "    </tr>\n",
       "    <tr>\n",
       "      <th>32</th>\n",
       "      <td>-0.364957</td>\n",
       "    </tr>\n",
       "    <tr>\n",
       "      <th>33</th>\n",
       "      <td>-0.153603</td>\n",
       "    </tr>\n",
       "    <tr>\n",
       "      <th>34</th>\n",
       "      <td>-0.487647</td>\n",
       "    </tr>\n",
       "    <tr>\n",
       "      <th>35</th>\n",
       "      <td>-0.187630</td>\n",
       "    </tr>\n",
       "    <tr>\n",
       "      <th>36</th>\n",
       "      <td>-1.361313</td>\n",
       "    </tr>\n",
       "    <tr>\n",
       "      <th>37</th>\n",
       "      <td>-1.057110</td>\n",
       "    </tr>\n",
       "    <tr>\n",
       "      <th>38</th>\n",
       "      <td>-0.326845</td>\n",
       "    </tr>\n",
       "    <tr>\n",
       "      <th>39</th>\n",
       "      <td>-0.205346</td>\n",
       "    </tr>\n",
       "    <tr>\n",
       "      <th>40</th>\n",
       "      <td>0.237434</td>\n",
       "    </tr>\n",
       "    <tr>\n",
       "      <th>41</th>\n",
       "      <td>0.520866</td>\n",
       "    </tr>\n",
       "    <tr>\n",
       "      <th>42</th>\n",
       "      <td>-0.878807</td>\n",
       "    </tr>\n",
       "  </tbody>\n",
       "</table>\n",
       "</div>"
      ],
      "text/plain": [
       "            0\n",
       "0   -0.479935\n",
       "1   -1.134586\n",
       "2   -0.075122\n",
       "3   -0.073142\n",
       "4   -1.165052\n",
       "5    0.394123\n",
       "6    0.340320\n",
       "7    0.056980\n",
       "8    0.128662\n",
       "9    0.084160\n",
       "10   0.078002\n",
       "11   0.130042\n",
       "12  -0.097299\n",
       "13   0.048214\n",
       "14   0.025688\n",
       "15   0.003596\n",
       "16   0.226555\n",
       "17  12.224492\n",
       "18   0.000000\n",
       "19  -1.016809\n",
       "20  -0.164406\n",
       "21  -0.861594\n",
       "22  -0.426779\n",
       "23  -0.036274\n",
       "24   1.217116\n",
       "25   0.043592\n",
       "26  -0.108906\n",
       "27  -0.223990\n",
       "28  -0.362506\n",
       "29  -0.039335\n",
       "30  -0.116025\n",
       "31  -0.150693\n",
       "32  -0.364957\n",
       "33  -0.153603\n",
       "34  -0.487647\n",
       "35  -0.187630\n",
       "36  -1.361313\n",
       "37  -1.057110\n",
       "38  -0.326845\n",
       "39  -0.205346\n",
       "40   0.237434\n",
       "41   0.520866\n",
       "42  -0.878807"
      ]
     },
     "execution_count": 53,
     "metadata": {},
     "output_type": "execute_result"
    }
   ],
   "source": [
    "coeficient.T"
   ]
  },
  {
   "cell_type": "code",
   "execution_count": 58,
   "metadata": {},
   "outputs": [
    {
     "data": {
      "text/plain": [
       "RangeIndex(start=0, stop=43, step=1)"
      ]
     },
     "execution_count": 58,
     "metadata": {},
     "output_type": "execute_result"
    }
   ],
   "source": [
    "X.columns"
   ]
  },
  {
   "cell_type": "code",
   "execution_count": 80,
   "metadata": {},
   "outputs": [
    {
     "data": {
      "text/html": [
       "<div>\n",
       "<style scoped>\n",
       "    .dataframe tbody tr th:only-of-type {\n",
       "        vertical-align: middle;\n",
       "    }\n",
       "\n",
       "    .dataframe tbody tr th {\n",
       "        vertical-align: top;\n",
       "    }\n",
       "\n",
       "    .dataframe thead th {\n",
       "        text-align: right;\n",
       "    }\n",
       "</style>\n",
       "<table border=\"1\" class=\"dataframe\">\n",
       "  <thead>\n",
       "    <tr style=\"text-align: right;\">\n",
       "      <th></th>\n",
       "      <th>Variables</th>\n",
       "      <th>Model Coef Value</th>\n",
       "    </tr>\n",
       "  </thead>\n",
       "  <tbody>\n",
       "    <tr>\n",
       "      <th>6</th>\n",
       "      <td>PRI.OVERDUE.ACCTS</td>\n",
       "      <td>13.222337</td>\n",
       "    </tr>\n",
       "    <tr>\n",
       "      <th>5</th>\n",
       "      <td>PRI.ACTIVE.ACCTS</td>\n",
       "      <td>6.542507</td>\n",
       "    </tr>\n",
       "    <tr>\n",
       "      <th>11</th>\n",
       "      <td>SEC.OVERDUE.ACCTS</td>\n",
       "      <td>4.404274</td>\n",
       "    </tr>\n",
       "    <tr>\n",
       "      <th>23</th>\n",
       "      <td>Passport_flag</td>\n",
       "      <td>3.917191</td>\n",
       "    </tr>\n",
       "    <tr>\n",
       "      <th>8</th>\n",
       "      <td>PRI.DISBURSED.AMOUNT</td>\n",
       "      <td>1.842276</td>\n",
       "    </tr>\n",
       "    <tr>\n",
       "      <th>10</th>\n",
       "      <td>SEC.ACTIVE.ACCTS</td>\n",
       "      <td>1.804561</td>\n",
       "    </tr>\n",
       "    <tr>\n",
       "      <th>9</th>\n",
       "      <td>SEC.NO.OF.ACCTS</td>\n",
       "      <td>1.697777</td>\n",
       "    </tr>\n",
       "    <tr>\n",
       "      <th>7</th>\n",
       "      <td>PRI.CURRENT.BALANCE</td>\n",
       "      <td>1.503583</td>\n",
       "    </tr>\n",
       "    <tr>\n",
       "      <th>13</th>\n",
       "      <td>SEC.DISBURSED.AMOUNT</td>\n",
       "      <td>0.827287</td>\n",
       "    </tr>\n",
       "    <tr>\n",
       "      <th>40</th>\n",
       "      <td>PERFORM_CNS.SCORE.DESCRIPTION_Simplified_Mediu...</td>\n",
       "      <td>0.649112</td>\n",
       "    </tr>\n",
       "    <tr>\n",
       "      <th>12</th>\n",
       "      <td>SEC.CURRENT.BALANCE</td>\n",
       "      <td>0.623488</td>\n",
       "    </tr>\n",
       "    <tr>\n",
       "      <th>24</th>\n",
       "      <td>PERFORM_CNS.SCORE</td>\n",
       "      <td>0.418322</td>\n",
       "    </tr>\n",
       "    <tr>\n",
       "      <th>29</th>\n",
       "      <td>industry_name_cnt</td>\n",
       "      <td>0.326979</td>\n",
       "    </tr>\n",
       "    <tr>\n",
       "      <th>25</th>\n",
       "      <td>loan_default</td>\n",
       "      <td>0.186747</td>\n",
       "    </tr>\n",
       "    <tr>\n",
       "      <th>39</th>\n",
       "      <td>Employment.Type_Self employed</td>\n",
       "      <td>0.172082</td>\n",
       "    </tr>\n",
       "    <tr>\n",
       "      <th>22</th>\n",
       "      <td>Driving_flag</td>\n",
       "      <td>0.151072</td>\n",
       "    </tr>\n",
       "    <tr>\n",
       "      <th>26</th>\n",
       "      <td>Age_of_Customer</td>\n",
       "      <td>0.138940</td>\n",
       "    </tr>\n",
       "    <tr>\n",
       "      <th>0</th>\n",
       "      <td>bsr_activity_cd</td>\n",
       "      <td>0.091431</td>\n",
       "    </tr>\n",
       "    <tr>\n",
       "      <th>28</th>\n",
       "      <td>scheme_cd_cnt</td>\n",
       "      <td>0.045633</td>\n",
       "    </tr>\n",
       "    <tr>\n",
       "      <th>33</th>\n",
       "      <td>state_name_cnt</td>\n",
       "      <td>0.031879</td>\n",
       "    </tr>\n",
       "    <tr>\n",
       "      <th>17</th>\n",
       "      <td>Delinquent</td>\n",
       "      <td>0.000000</td>\n",
       "    </tr>\n",
       "    <tr>\n",
       "      <th>37</th>\n",
       "      <td>sme_category_SMALL</td>\n",
       "      <td>-0.006820</td>\n",
       "    </tr>\n",
       "    <tr>\n",
       "      <th>32</th>\n",
       "      <td>region_name_cnt</td>\n",
       "      <td>-0.051364</td>\n",
       "    </tr>\n",
       "    <tr>\n",
       "      <th>34</th>\n",
       "      <td>open_dt_day_cnt</td>\n",
       "      <td>-0.054926</td>\n",
       "    </tr>\n",
       "    <tr>\n",
       "      <th>14</th>\n",
       "      <td>PRIMARY.INSTAL.AMT</td>\n",
       "      <td>-0.078499</td>\n",
       "    </tr>\n",
       "    <tr>\n",
       "      <th>31</th>\n",
       "      <td>district_name_cnt</td>\n",
       "      <td>-0.094857</td>\n",
       "    </tr>\n",
       "    <tr>\n",
       "      <th>38</th>\n",
       "      <td>module_id_cdcc</td>\n",
       "      <td>-0.099263</td>\n",
       "    </tr>\n",
       "    <tr>\n",
       "      <th>19</th>\n",
       "      <td>Aadhar_flag</td>\n",
       "      <td>-0.109859</td>\n",
       "    </tr>\n",
       "    <tr>\n",
       "      <th>30</th>\n",
       "      <td>branch_name_cnt</td>\n",
       "      <td>-0.114017</td>\n",
       "    </tr>\n",
       "    <tr>\n",
       "      <th>27</th>\n",
       "      <td>Age_of_Loan</td>\n",
       "      <td>-0.123701</td>\n",
       "    </tr>\n",
       "    <tr>\n",
       "      <th>15</th>\n",
       "      <td>SEC.INSTAL.AMT</td>\n",
       "      <td>-0.175065</td>\n",
       "    </tr>\n",
       "    <tr>\n",
       "      <th>4</th>\n",
       "      <td>ltv</td>\n",
       "      <td>-0.177960</td>\n",
       "    </tr>\n",
       "    <tr>\n",
       "      <th>3</th>\n",
       "      <td>asset_cost</td>\n",
       "      <td>-0.239510</td>\n",
       "    </tr>\n",
       "    <tr>\n",
       "      <th>2</th>\n",
       "      <td>disbursed_amount</td>\n",
       "      <td>-0.248131</td>\n",
       "    </tr>\n",
       "    <tr>\n",
       "      <th>18</th>\n",
       "      <td>MobileNo_Avl_Flag</td>\n",
       "      <td>-0.291805</td>\n",
       "    </tr>\n",
       "    <tr>\n",
       "      <th>21</th>\n",
       "      <td>VoterID_flag</td>\n",
       "      <td>-0.359755</td>\n",
       "    </tr>\n",
       "    <tr>\n",
       "      <th>20</th>\n",
       "      <td>PAN_flag</td>\n",
       "      <td>-0.409386</td>\n",
       "    </tr>\n",
       "    <tr>\n",
       "      <th>35</th>\n",
       "      <td>sector_name_Services</td>\n",
       "      <td>-0.466293</td>\n",
       "    </tr>\n",
       "    <tr>\n",
       "      <th>1</th>\n",
       "      <td>bsr_org_cd</td>\n",
       "      <td>-0.528781</td>\n",
       "    </tr>\n",
       "    <tr>\n",
       "      <th>36</th>\n",
       "      <td>sme_category_MICRO</td>\n",
       "      <td>-0.561935</td>\n",
       "    </tr>\n",
       "    <tr>\n",
       "      <th>16</th>\n",
       "      <td>NEW.ACCTS.IN.LAST.SIX.MONTHS</td>\n",
       "      <td>-1.009481</td>\n",
       "    </tr>\n",
       "    <tr>\n",
       "      <th>41</th>\n",
       "      <td>PERFORM_CNS.SCORE.DESCRIPTION_Simplified_Very ...</td>\n",
       "      <td>-2.508231</td>\n",
       "    </tr>\n",
       "    <tr>\n",
       "      <th>42</th>\n",
       "      <td>PERFORM_CNS.SCORE.DESCRIPTION_Simplified_Very ...</td>\n",
       "      <td>NaN</td>\n",
       "    </tr>\n",
       "  </tbody>\n",
       "</table>\n",
       "</div>"
      ],
      "text/plain": [
       "                                            Variables  Model Coef Value\n",
       "6                                   PRI.OVERDUE.ACCTS         13.222337\n",
       "5                                    PRI.ACTIVE.ACCTS          6.542507\n",
       "11                                  SEC.OVERDUE.ACCTS          4.404274\n",
       "23                                      Passport_flag          3.917191\n",
       "8                                PRI.DISBURSED.AMOUNT          1.842276\n",
       "10                                   SEC.ACTIVE.ACCTS          1.804561\n",
       "9                                     SEC.NO.OF.ACCTS          1.697777\n",
       "7                                 PRI.CURRENT.BALANCE          1.503583\n",
       "13                               SEC.DISBURSED.AMOUNT          0.827287\n",
       "40  PERFORM_CNS.SCORE.DESCRIPTION_Simplified_Mediu...          0.649112\n",
       "12                                SEC.CURRENT.BALANCE          0.623488\n",
       "24                                  PERFORM_CNS.SCORE          0.418322\n",
       "29                                  industry_name_cnt          0.326979\n",
       "25                                       loan_default          0.186747\n",
       "39                      Employment.Type_Self employed          0.172082\n",
       "22                                       Driving_flag          0.151072\n",
       "26                                    Age_of_Customer          0.138940\n",
       "0                                     bsr_activity_cd          0.091431\n",
       "28                                      scheme_cd_cnt          0.045633\n",
       "33                                     state_name_cnt          0.031879\n",
       "17                                         Delinquent          0.000000\n",
       "37                                 sme_category_SMALL         -0.006820\n",
       "32                                    region_name_cnt         -0.051364\n",
       "34                                    open_dt_day_cnt         -0.054926\n",
       "14                                 PRIMARY.INSTAL.AMT         -0.078499\n",
       "31                                  district_name_cnt         -0.094857\n",
       "38                                    module_id_cdcc          -0.099263\n",
       "19                                        Aadhar_flag         -0.109859\n",
       "30                                    branch_name_cnt         -0.114017\n",
       "27                                        Age_of_Loan         -0.123701\n",
       "15                                     SEC.INSTAL.AMT         -0.175065\n",
       "4                                                 ltv         -0.177960\n",
       "3                                          asset_cost         -0.239510\n",
       "2                                    disbursed_amount         -0.248131\n",
       "18                                  MobileNo_Avl_Flag         -0.291805\n",
       "21                                       VoterID_flag         -0.359755\n",
       "20                                           PAN_flag         -0.409386\n",
       "35                               sector_name_Services         -0.466293\n",
       "1                                          bsr_org_cd         -0.528781\n",
       "36                                 sme_category_MICRO         -0.561935\n",
       "16                       NEW.ACCTS.IN.LAST.SIX.MONTHS         -1.009481\n",
       "41  PERFORM_CNS.SCORE.DESCRIPTION_Simplified_Very ...         -2.508231\n",
       "42  PERFORM_CNS.SCORE.DESCRIPTION_Simplified_Very ...               NaN"
      ]
     },
     "execution_count": 80,
     "metadata": {},
     "output_type": "execute_result"
    }
   ],
   "source": [
    "# removing the columns with high multicolinearity\n",
    "c =[0,9,15,20,44,46]  # some variable not removed as they are important with respect to business perspective\n",
    "X = df.drop(df.columns[c], axis=1)\n",
    "coeficient = pd.DataFrame(model.coef_)\n",
    "model_coeficient = pd.DataFrame()\n",
    "model_coeficient['Variables']= X.columns\n",
    "\n",
    "model_coeficient['Model Coef Value'] = coeficient.T\n",
    "model_coeficient = model_coeficient.sort_values('Model Coef Value', ascending=False)\n",
    "model_coeficient"
   ]
  },
  {
   "cell_type": "code",
   "execution_count": 62,
   "metadata": {},
   "outputs": [
    {
     "data": {
      "text/html": [
       "<div>\n",
       "<style scoped>\n",
       "    .dataframe tbody tr th:only-of-type {\n",
       "        vertical-align: middle;\n",
       "    }\n",
       "\n",
       "    .dataframe tbody tr th {\n",
       "        vertical-align: top;\n",
       "    }\n",
       "\n",
       "    .dataframe thead th {\n",
       "        text-align: right;\n",
       "    }\n",
       "</style>\n",
       "<table border=\"1\" class=\"dataframe\">\n",
       "  <thead>\n",
       "    <tr style=\"text-align: right;\">\n",
       "      <th></th>\n",
       "      <th>Variables</th>\n",
       "      <th>Model Coef Value</th>\n",
       "    </tr>\n",
       "  </thead>\n",
       "  <tbody>\n",
       "    <tr>\n",
       "      <th>0</th>\n",
       "      <td>bsr_activity_cd</td>\n",
       "      <td>-0.479935</td>\n",
       "    </tr>\n",
       "    <tr>\n",
       "      <th>1</th>\n",
       "      <td>bsr_org_cd</td>\n",
       "      <td>-1.134586</td>\n",
       "    </tr>\n",
       "    <tr>\n",
       "      <th>2</th>\n",
       "      <td>disbursed_amount</td>\n",
       "      <td>-0.075122</td>\n",
       "    </tr>\n",
       "    <tr>\n",
       "      <th>3</th>\n",
       "      <td>asset_cost</td>\n",
       "      <td>-0.073142</td>\n",
       "    </tr>\n",
       "    <tr>\n",
       "      <th>4</th>\n",
       "      <td>ltv</td>\n",
       "      <td>-1.165052</td>\n",
       "    </tr>\n",
       "  </tbody>\n",
       "</table>\n",
       "</div>"
      ],
      "text/plain": [
       "          Variables  Model Coef Value\n",
       "0   bsr_activity_cd         -0.479935\n",
       "1        bsr_org_cd         -1.134586\n",
       "2  disbursed_amount         -0.075122\n",
       "3        asset_cost         -0.073142\n",
       "4               ltv         -1.165052"
      ]
     },
     "execution_count": 62,
     "metadata": {},
     "output_type": "execute_result"
    }
   ],
   "source": [
    "model_coeficient.head()"
   ]
  },
  {
   "cell_type": "code",
   "execution_count": null,
   "metadata": {
    "id": "vzqkHg0u8Vy3"
   },
   "outputs": [],
   "source": [
    "plt.figure(figsize=(45,10))\n",
    "g= sns.barplot(x='variables', y=\"VIF\", data=vif_df  )\n",
    "plt.xticks(rotation=45)\n",
    "plt.xlabel('Variable', fontsize=18)\n",
    "plt.ylabel('VIF', fontsize=16)"
   ]
  },
  {
   "cell_type": "markdown",
   "metadata": {
    "id": "pCfcnhd_8V75"
   },
   "source": [
    "#### Random Forest"
   ]
  },
  {
   "cell_type": "code",
   "execution_count": 81,
   "metadata": {
    "id": "9bN2UI_E8WEJ"
   },
   "outputs": [
    {
     "name": "stdout",
     "output_type": "stream",
     "text": [
      "RF train roc-auc: 1.0\n",
      "RF test roc-auc: 1.0\n",
      "              precision    recall  f1-score   support\n",
      "\n",
      "           0       1.00      1.00      1.00     23677\n",
      "           1       1.00      1.00      1.00      2075\n",
      "\n",
      "    accuracy                           1.00     25752\n",
      "   macro avg       1.00      1.00      1.00     25752\n",
      "weighted avg       1.00      1.00      1.00     25752\n",
      "\n",
      "              precision    recall  f1-score   support\n",
      "\n",
      "           0       1.00      1.00      1.00      5906\n",
      "           1       1.00      1.00      1.00       533\n",
      "\n",
      "    accuracy                           1.00      6439\n",
      "   macro avg       1.00      1.00      1.00      6439\n",
      "weighted avg       1.00      1.00      1.00      6439\n",
      "\n"
     ]
    },
    {
     "data": {
      "image/png": "[encoded data removed]",
      "text/plain": [
       "<Figure size 504x504 with 1 Axes>"
      ]
     },
     "metadata": {
      "needs_background": "light"
     },
     "output_type": "display_data"
    },
    {
     "name": "stdout",
     "output_type": "stream",
     "text": [
      "AUC: 1.0\n"
     ]
    },
    {
     "data": {
      "image/png": "[encoded data removed]",
      "text/plain": [
       "<Figure size 432x288 with 1 Axes>"
      ]
     },
     "metadata": {
      "needs_background": "light"
     },
     "output_type": "display_data"
    }
   ],
   "source": [
    "from sklearn.model_selection import train_test_split\n",
    "X_train, X_test, y_train, y_test   = train_test_split(X, y, test_size=0.2, random_state=1)\n",
    "\n",
    "## Apply RandomForestClassifier\n",
    "from sklearn.ensemble import RandomForestClassifier\n",
    "rf_model = RandomForestClassifier()\n",
    "rf_model.fit(X_train, y_train)\n",
    "ytrain_pred = rf_model.predict_proba(X_train)\n",
    "print('RF train roc-auc: {}'.format(roc_auc_score(y_train, ytrain_pred[:,1])))\n",
    "ytest_pred = rf_model.predict_proba(X_test)\n",
    "print('RF test roc-auc: {}'.format(roc_auc_score(y_test, ytest_pred[:,1])))\n",
    "\n",
    "from sklearn.metrics import classification_report\n",
    "# Train Prediction classification report\n",
    "print(classification_report(y_train, rf_model.predict(X_train)))\n",
    "\n",
    "# Test Prediction classification report\n",
    "print(classification_report(y_test, rf_model.predict(X_test)))\n",
    "\n",
    "# Making the Confusion Matrix\n",
    "from sklearn.metrics import confusion_matrix\n",
    "cm = confusion_matrix(y_test, rf_model.predict(X_test))\n",
    "fig, ax = plt.subplots(figsize=(7, 7))\n",
    "ax.imshow(cm)\n",
    "ax.grid(False)\n",
    "ax.xaxis.set(ticks=(0, 1), ticklabels=('Predicted 0s', 'Predicted 1s'))\n",
    "ax.yaxis.set(ticks=(0, 1), ticklabels=('Actual 0s', 'Actual 1s'))\n",
    "ax.set_ylim(1.5, -0.5)\n",
    "for i in range(2):\n",
    "    for j in range(2):\n",
    "        ax.text(j, i, cm[i, j], ha='center', va='center', color='red')\n",
    "plt.show()\n",
    "\n",
    "from sklearn import metrics\n",
    "def plot_roc_curve(fpr, tpr,model):\n",
    "    plt.plot(fpr, tpr, color='orange', label='ROC')\n",
    "    plt.plot([0, 1], [0, 1], color='darkblue', linestyle='--')\n",
    "    auc = metrics.roc_auc_score(y_test, model.predict_proba(X_test)[:,1])\n",
    "    print('AUC:', auc)\n",
    "    plt.xlabel('False Positive Rate')\n",
    "    plt.ylabel('True Positive Rate')\n",
    "    plt.title('Receiver Operating Characteristic (ROC) Curve')\n",
    "    plt.legend()\n",
    "    plt.show( )\n",
    "    \n",
    "fpr, tpr, thresholds = roc_curve(y_test,rf_model.predict_proba(X_test)[:,1] )\n",
    "plot_roc_curve(fpr,tpr,rf_model)"
   ]
  },
  {
   "cell_type": "code",
   "execution_count": null,
   "metadata": {
    "id": "B4pHsOfb8WKj"
   },
   "outputs": [],
   "source": []
  }
 ],
 "metadata": {
  "colab": {
   "name": "Delinquency Prediction Logistic Regression V1.1.ipynb",
   "provenance": []
  },
  "kernelspec": {
   "display_name": "Python 3",
   "language": "python",
   "name": "python3"
  },
  "language_info": {
   "codemirror_mode": {
    "name": "ipython",
    "version": 3
   },
   "file_extension": ".py",
   "mimetype": "text/x-python",
   "name": "python",
   "nbconvert_exporter": "python",
   "pygments_lexer": "ipython3",
   "version": "3.7.6"
  }
 },
 "nbformat": 4,
 "nbformat_minor": 1
}
