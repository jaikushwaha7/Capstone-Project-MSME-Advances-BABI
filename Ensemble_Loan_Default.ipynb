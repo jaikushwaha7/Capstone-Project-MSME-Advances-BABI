{
  "nbformat": 4,
  "nbformat_minor": 0,
  "metadata": {
    "colab": {
      "name": "Ensemble_Loan_Default.ipynb",
      "provenance": []
    },
    "kernelspec": {
      "name": "python3",
      "display_name": "Python 3"
    }
  },
  "cells": [
    {
      "cell_type": "code",
      "metadata": {
        "colab": {
          "base_uri": "https://localhost:8080/",
          "height": 35
        },
        "id": "nuqIi7z2Oj0X",
        "outputId": "8a97f4d4-2756-4aca-c79b-dadc30463e2f"
      },
      "source": [
        "pwd"
      ],
      "execution_count": 1,
      "outputs": [
        {
          "output_type": "execute_result",
          "data": {
            "application/vnd.google.colaboratory.intrinsic+json": {
              "type": "string"
            },
            "text/plain": [
              "'/content'"
            ]
          },
          "metadata": {
            "tags": []
          },
          "execution_count": 1
        }
      ]
    },
    {
      "cell_type": "code",
      "metadata": {
        "colab": {
          "base_uri": "https://localhost:8080/"
        },
        "id": "dTR7P_NsOtHE",
        "outputId": "86a7d3b9-24c5-468d-9ea3-2db08bddd25a"
      },
      "source": [
        "# Load the Drive helper and mount\n",
        "from google.colab import drive\n",
        "drive.mount('/content/drive')"
      ],
      "execution_count": 2,
      "outputs": [
        {
          "output_type": "stream",
          "text": [
            "Mounted at /content/drive\n"
          ],
          "name": "stdout"
        }
      ]
    },
    {
      "cell_type": "code",
      "metadata": {
        "id": "0m7817SLO36u"
      },
      "source": [
        "import os\n",
        "#folder = os.path.join('/content/drive/My Drive/`Capstone Data`')\n",
        "os.chdir(r\"drive/My Drive/Capstone Data\")"
      ],
      "execution_count": 3,
      "outputs": []
    },
    {
      "cell_type": "code",
      "metadata": {
        "id": "9UadZCjWO31h"
      },
      "source": [
        "import matplotlib.pyplot as plt\n",
        "import numpy as np\n",
        "from sklearn.linear_model import LogisticRegression\n",
        "from sklearn.metrics import classification_report, confusion_matrix\n",
        "import pandas as pd\n",
        "df=pd.read_csv(\"MSME Data Modified_v1.9_featureEngineered.csv\")"
      ],
      "execution_count": 4,
      "outputs": []
    },
    {
      "cell_type": "code",
      "metadata": {
        "id": "nCE33X_9O3yz"
      },
      "source": [
        "# Normalize the data\n",
        "from sklearn import preprocessing\n",
        "from sklearn.preprocessing import MinMaxScaler\n",
        "from sklearn.preprocessing import minmax_scale\n",
        "from sklearn.preprocessing import MaxAbsScaler\n",
        "from sklearn.preprocessing import StandardScaler\n",
        "from sklearn.preprocessing import RobustScaler\n",
        "from sklearn.preprocessing import Normalizer\n",
        "from sklearn.preprocessing import QuantileTransformer\n",
        "from sklearn.preprocessing import PowerTransformer"
      ],
      "execution_count": 10,
      "outputs": []
    },
    {
      "cell_type": "code",
      "metadata": {
        "colab": {
          "base_uri": "https://localhost:8080/"
        },
        "id": "0c9xXRx3UO8M",
        "outputId": "f1005d10-9c77-4985-9217-8b9c75d44adb"
      },
      "source": [
        "!pip install catboost"
      ],
      "execution_count": 7,
      "outputs": [
        {
          "output_type": "stream",
          "text": [
            "Collecting catboost\n",
            "\u001b[?25l  Downloading https://files.pythonhosted.org/packages/7e/c1/c1c4707013f9e2f8a96899dd3a87f66c9167d6d776a6dc8fe7ec8678d446/catboost-0.24.3-cp36-none-manylinux1_x86_64.whl (66.3MB)\n",
            "\u001b[K     |████████████████████████████████| 66.3MB 55kB/s \n",
            "\u001b[?25hRequirement already satisfied: matplotlib in /usr/local/lib/python3.6/dist-packages (from catboost) (3.2.2)\n",
            "Requirement already satisfied: pandas>=0.24.0 in /usr/local/lib/python3.6/dist-packages (from catboost) (1.1.4)\n",
            "Requirement already satisfied: scipy in /usr/local/lib/python3.6/dist-packages (from catboost) (1.4.1)\n",
            "Requirement already satisfied: plotly in /usr/local/lib/python3.6/dist-packages (from catboost) (4.4.1)\n",
            "Requirement already satisfied: six in /usr/local/lib/python3.6/dist-packages (from catboost) (1.15.0)\n",
            "Requirement already satisfied: numpy>=1.16.0 in /usr/local/lib/python3.6/dist-packages (from catboost) (1.18.5)\n",
            "Requirement already satisfied: graphviz in /usr/local/lib/python3.6/dist-packages (from catboost) (0.10.1)\n",
            "Requirement already satisfied: cycler>=0.10 in /usr/local/lib/python3.6/dist-packages (from matplotlib->catboost) (0.10.0)\n",
            "Requirement already satisfied: kiwisolver>=1.0.1 in /usr/local/lib/python3.6/dist-packages (from matplotlib->catboost) (1.3.1)\n",
            "Requirement already satisfied: pyparsing!=2.0.4,!=2.1.2,!=2.1.6,>=2.0.1 in /usr/local/lib/python3.6/dist-packages (from matplotlib->catboost) (2.4.7)\n",
            "Requirement already satisfied: python-dateutil>=2.1 in /usr/local/lib/python3.6/dist-packages (from matplotlib->catboost) (2.8.1)\n",
            "Requirement already satisfied: pytz>=2017.2 in /usr/local/lib/python3.6/dist-packages (from pandas>=0.24.0->catboost) (2018.9)\n",
            "Requirement already satisfied: retrying>=1.3.3 in /usr/local/lib/python3.6/dist-packages (from plotly->catboost) (1.3.3)\n",
            "Installing collected packages: catboost\n",
            "Successfully installed catboost-0.24.3\n"
          ],
          "name": "stdout"
        }
      ]
    },
    {
      "cell_type": "code",
      "metadata": {
        "id": "mHNBCRQxO3wH"
      },
      "source": [
        "from sklearn.tree import DecisionTreeClassifier\n",
        "from sklearn.ensemble import RandomForestClassifier\n",
        "from sklearn.svm import SVC\n",
        "from sklearn.model_selection import cross_val_score\n",
        "from sklearn.model_selection import RepeatedStratifiedKFold\n",
        "from sklearn.ensemble import VotingClassifier\n",
        "from sklearn.pipeline import Pipeline\n",
        "from sklearn.neighbors import KNeighborsClassifier\n",
        "from sklearn.naive_bayes import GaussianNB\n",
        "from catboost import CatBoostClassifier\n",
        "from lightgbm import LGBMClassifier\n",
        "from xgboost import XGBClassifier"
      ],
      "execution_count": 8,
      "outputs": []
    },
    {
      "cell_type": "code",
      "metadata": {
        "id": "R1k8UEPLO3tx"
      },
      "source": [
        "# get models\n",
        "# get a voting ensemble of models\n",
        "# define the base models\n",
        "models = list()\n",
        "\n",
        "decision_tree = Pipeline([('Scaler', RobustScaler()),('cart', DecisionTreeClassifier())])\n",
        "models.append(('decision', decision_tree))\n",
        "\n",
        "randomforest = Pipeline([('Scaler', RobustScaler()),('rf', RandomForestClassifier())])\n",
        "models.append(('randomforest', randomforest))\n",
        "\n",
        "svc = Pipeline([('Scaler', RobustScaler()),('svc', SVC())])\n",
        "models.append(('svc', svc))\n",
        "\n",
        "knn = Pipeline([('Scaler', RobustScaler()),('knn', KNeighborsClassifier())])\n",
        "models.append(('knn', knn))\n",
        "\n",
        "gnb = Pipeline([('Scaler', RobustScaler()),('nb', GaussianNB())])\n",
        "models.append(('knn', knn))\n",
        "\n",
        "cat = Pipeline([('Scaler', RobustScaler()),('cb', CatBoostClassifier(iterations=10))])\n",
        "models.append(('cat', cat))\n",
        "\n",
        "lgb = Pipeline([('Scaler', RobustScaler()),('lgbm', LGBMClassifier())])\n",
        "models.append(('lgb', lgb))\n",
        "\n",
        "xgb = Pipeline([('Scaler', RobustScaler()),('xgb',  XGBClassifier())])\n",
        "models.append(('xgb', xgb))\n",
        "\n",
        "# define the voting ensemble\n",
        "ensemble = VotingClassifier(estimators=models, voting='hard')"
      ],
      "execution_count": 22,
      "outputs": []
    },
    {
      "cell_type": "code",
      "metadata": {
        "colab": {
          "base_uri": "https://localhost:8080/"
        },
        "id": "KMyQ9r6kO3rF",
        "outputId": "7d2ad546-f800-4995-dba2-b0ff653300b9"
      },
      "source": [
        "models"
      ],
      "execution_count": 23,
      "outputs": [
        {
          "output_type": "execute_result",
          "data": {
            "text/plain": [
              "[('decision', Pipeline(memory=None,\n",
              "           steps=[('Scaler',\n",
              "                   RobustScaler(copy=True, quantile_range=(25.0, 75.0),\n",
              "                                with_centering=True, with_scaling=True)),\n",
              "                  ('cart',\n",
              "                   DecisionTreeClassifier(ccp_alpha=0.0, class_weight=None,\n",
              "                                          criterion='gini', max_depth=None,\n",
              "                                          max_features=None, max_leaf_nodes=None,\n",
              "                                          min_impurity_decrease=0.0,\n",
              "                                          min_impurity_split=None,\n",
              "                                          min_samples_leaf=1, min_samples_split=2,\n",
              "                                          min_weight_fraction_leaf=0.0,\n",
              "                                          presort='deprecated', random_state=None,\n",
              "                                          splitter='best'))],\n",
              "           verbose=False)), ('randomforest', Pipeline(memory=None,\n",
              "           steps=[('Scaler',\n",
              "                   RobustScaler(copy=True, quantile_range=(25.0, 75.0),\n",
              "                                with_centering=True, with_scaling=True)),\n",
              "                  ('rf',\n",
              "                   RandomForestClassifier(bootstrap=True, ccp_alpha=0.0,\n",
              "                                          class_weight=None, criterion='gini',\n",
              "                                          max_depth=None, max_features='auto',\n",
              "                                          max_leaf_nodes=None, max_samples=None,\n",
              "                                          min_impurity_decrease=0.0,\n",
              "                                          min_impurity_split=None,\n",
              "                                          min_samples_leaf=1, min_samples_split=2,\n",
              "                                          min_weight_fraction_leaf=0.0,\n",
              "                                          n_estimators=100, n_jobs=None,\n",
              "                                          oob_score=False, random_state=None,\n",
              "                                          verbose=0, warm_start=False))],\n",
              "           verbose=False)), ('svc', Pipeline(memory=None,\n",
              "           steps=[('Scaler',\n",
              "                   RobustScaler(copy=True, quantile_range=(25.0, 75.0),\n",
              "                                with_centering=True, with_scaling=True)),\n",
              "                  ('svc',\n",
              "                   SVC(C=1.0, break_ties=False, cache_size=200, class_weight=None,\n",
              "                       coef0=0.0, decision_function_shape='ovr', degree=3,\n",
              "                       gamma='scale', kernel='rbf', max_iter=-1,\n",
              "                       probability=False, random_state=None, shrinking=True,\n",
              "                       tol=0.001, verbose=False))],\n",
              "           verbose=False)), ('knn', Pipeline(memory=None,\n",
              "           steps=[('Scaler',\n",
              "                   RobustScaler(copy=True, quantile_range=(25.0, 75.0),\n",
              "                                with_centering=True, with_scaling=True)),\n",
              "                  ('knn',\n",
              "                   KNeighborsClassifier(algorithm='auto', leaf_size=30,\n",
              "                                        metric='minkowski', metric_params=None,\n",
              "                                        n_jobs=None, n_neighbors=5, p=2,\n",
              "                                        weights='uniform'))],\n",
              "           verbose=False)), ('knn', Pipeline(memory=None,\n",
              "           steps=[('Scaler',\n",
              "                   RobustScaler(copy=True, quantile_range=(25.0, 75.0),\n",
              "                                with_centering=True, with_scaling=True)),\n",
              "                  ('knn',\n",
              "                   KNeighborsClassifier(algorithm='auto', leaf_size=30,\n",
              "                                        metric='minkowski', metric_params=None,\n",
              "                                        n_jobs=None, n_neighbors=5, p=2,\n",
              "                                        weights='uniform'))],\n",
              "           verbose=False)), ('cat', Pipeline(memory=None,\n",
              "           steps=[('Scaler',\n",
              "                   RobustScaler(copy=True, quantile_range=(25.0, 75.0),\n",
              "                                with_centering=True, with_scaling=True)),\n",
              "                  ('cb',\n",
              "                   <catboost.core.CatBoostClassifier object at 0x7f516f2418d0>)],\n",
              "           verbose=False)), ('lgb', Pipeline(memory=None,\n",
              "           steps=[('Scaler',\n",
              "                   RobustScaler(copy=True, quantile_range=(25.0, 75.0),\n",
              "                                with_centering=True, with_scaling=True)),\n",
              "                  ('lgbm',\n",
              "                   LGBMClassifier(boosting_type='gbdt', class_weight=None,\n",
              "                                  colsample_bytree=1.0, importance_type='split',\n",
              "                                  learning_rate=0.1, max_depth=-1,\n",
              "                                  min_child_samples=20, min_child_weight=0.001,\n",
              "                                  min_split_gain=0.0, n_estimators=100, n_jobs=-1,\n",
              "                                  num_leaves=31, objective=None,\n",
              "                                  random_state=None, reg_alpha=0.0,\n",
              "                                  reg_lambda=0.0, silent=True, subsample=1.0,\n",
              "                                  subsample_for_bin=200000, subsample_freq=0))],\n",
              "           verbose=False)), ('xgb', Pipeline(memory=None,\n",
              "           steps=[('Scaler',\n",
              "                   RobustScaler(copy=True, quantile_range=(25.0, 75.0),\n",
              "                                with_centering=True, with_scaling=True)),\n",
              "                  ('xgb',\n",
              "                   XGBClassifier(base_score=0.5, booster='gbtree',\n",
              "                                 colsample_bylevel=1, colsample_bynode=1,\n",
              "                                 colsample_bytree=1, gamma=0, learning_rate=0.1,\n",
              "                                 max_delta_step=0, max_depth=3,\n",
              "                                 min_child_weight=1, missing=None,\n",
              "                                 n_estimators=100, n_jobs=1, nthread=None,\n",
              "                                 objective='binary:logistic', random_state=0,\n",
              "                                 reg_alpha=0, reg_lambda=1, scale_pos_weight=1,\n",
              "                                 seed=None, silent=None, subsample=1,\n",
              "                                 verbosity=1))],\n",
              "           verbose=False))]"
            ]
          },
          "metadata": {
            "tags": []
          },
          "execution_count": 23
        }
      ]
    },
    {
      "cell_type": "code",
      "metadata": {
        "colab": {
          "base_uri": "https://localhost:8080/"
        },
        "id": "zV46ulZNO3ov",
        "outputId": "ca179a3f-41b3-4774-8da7-195ae007ea79"
      },
      "source": [
        "\n",
        "ensemble"
      ],
      "execution_count": 24,
      "outputs": [
        {
          "output_type": "execute_result",
          "data": {
            "text/plain": [
              "VotingClassifier(estimators=[('decision',\n",
              "                              Pipeline(memory=None,\n",
              "                                       steps=[('Scaler',\n",
              "                                               RobustScaler(copy=True,\n",
              "                                                            quantile_range=(25.0,\n",
              "                                                                            75.0),\n",
              "                                                            with_centering=True,\n",
              "                                                            with_scaling=True)),\n",
              "                                              ('cart',\n",
              "                                               DecisionTreeClassifier(ccp_alpha=0.0,\n",
              "                                                                      class_weight=None,\n",
              "                                                                      criterion='gini',\n",
              "                                                                      max_depth=None,\n",
              "                                                                      max_features=None,\n",
              "                                                                      max_leaf_nodes=None,\n",
              "                                                                      min_impurity_decrease=0.0,\n",
              "                                                                      min_impurity_split=Non...\n",
              "                                                             colsample_bytree=1,\n",
              "                                                             gamma=0,\n",
              "                                                             learning_rate=0.1,\n",
              "                                                             max_delta_step=0,\n",
              "                                                             max_depth=3,\n",
              "                                                             min_child_weight=1,\n",
              "                                                             missing=None,\n",
              "                                                             n_estimators=100,\n",
              "                                                             n_jobs=1,\n",
              "                                                             nthread=None,\n",
              "                                                             objective='binary:logistic',\n",
              "                                                             random_state=0,\n",
              "                                                             reg_alpha=0,\n",
              "                                                             reg_lambda=1,\n",
              "                                                             scale_pos_weight=1,\n",
              "                                                             seed=None,\n",
              "                                                             silent=None,\n",
              "                                                             subsample=1,\n",
              "                                                             verbosity=1))],\n",
              "                                       verbose=False))],\n",
              "                 flatten_transform=True, n_jobs=None, voting='hard',\n",
              "                 weights=None)"
            ]
          },
          "metadata": {
            "tags": []
          },
          "execution_count": 24
        }
      ]
    },
    {
      "cell_type": "code",
      "metadata": {
        "colab": {
          "base_uri": "https://localhost:8080/"
        },
        "id": "z8Gp61r9O3jL",
        "outputId": "87eb703c-1647-4627-8893-a9c75ffe699e"
      },
      "source": [
        "# Split the data into X & y\n",
        "\n",
        "X = df.drop('loan_default', axis = 1).values\n",
        "y = df['loan_default']\n",
        "\n",
        "y = y.astype(int)\n",
        "\n",
        "print(X.shape)\n",
        "print(y.shape)"
      ],
      "execution_count": 25,
      "outputs": [
        {
          "output_type": "stream",
          "text": [
            "(32191, 48)\n",
            "(32191,)\n"
          ],
          "name": "stdout"
        }
      ]
    },
    {
      "cell_type": "code",
      "metadata": {
        "colab": {
          "base_uri": "https://localhost:8080/"
        },
        "id": "J9ugxFGnVp5y",
        "outputId": "e80ff281-d6ef-494b-f93d-0031b2592b66"
      },
      "source": [
        "# Hold-out validation\n",
        "from sklearn.model_selection import train_test_split\n",
        "# first one\n",
        "X_train, X_test, y_train, y_test = train_test_split(X, y, train_size = 0.8, test_size=0.2, random_state=15)\n",
        "\n",
        "# Second one\n",
        "X_train, X_valid, y_train, y_valid = train_test_split(X_train, y_train, train_size = 0.9, test_size=0.1, random_state=15)\n",
        "\n",
        "print(X_train.shape)\n",
        "print(X_test.shape)\n",
        "print(X_valid.shape)\n",
        "\n",
        "print(y_train.shape)\n",
        "print(y_test.shape)\n",
        "print(y_valid.shape)"
      ],
      "execution_count": 15,
      "outputs": [
        {
          "output_type": "stream",
          "text": [
            "(23176, 48)\n",
            "(6439, 48)\n",
            "(2576, 48)\n",
            "(23176,)\n",
            "(6439,)\n",
            "(2576,)\n"
          ],
          "name": "stdout"
        }
      ]
    },
    {
      "cell_type": "code",
      "metadata": {
        "id": "6W2aN2aCWcU3"
      },
      "source": [
        "from sklearn.model_selection import KFold\n",
        "import warnings\n",
        "warnings.filterwarnings(\"ignore\")"
      ],
      "execution_count": 30,
      "outputs": []
    },
    {
      "cell_type": "code",
      "metadata": {
        "colab": {
          "base_uri": "https://localhost:8080/"
        },
        "id": "fT_TXUjyYEN3",
        "outputId": "db0d2e82-2c5d-4c0d-b402-55bffd285615"
      },
      "source": [
        "results = []\n",
        "names = []\n",
        "for name, model in models:\n",
        "    kfold = KFold(n_splits=10, random_state=21)\n",
        "    cv_results = cross_val_score(model, X_train, y_train, cv=kfold, scoring='roc_auc')\n",
        "    results.append(cv_results)\n",
        "    names.append(name)\n",
        "    msg = \"%s: %f (%f)\" % (name, cv_results.mean(), cv_results.std())\n",
        "    print(msg)"
      ],
      "execution_count": 31,
      "outputs": [
        {
          "output_type": "stream",
          "text": [
            "decision: 0.521385 (0.014104)\n",
            "randomforest: 0.614707 (0.015493)\n",
            "svc: 0.528741 (0.036764)\n",
            "knn: 0.550815 (0.017114)\n",
            "knn: 0.550815 (0.017114)\n",
            "Learning rate set to 0.5\n",
            "0:\tlearn: 0.5547339\ttotal: 67.3ms\tremaining: 606ms\n",
            "1:\tlearn: 0.5223394\ttotal: 84.2ms\tremaining: 337ms\n",
            "2:\tlearn: 0.5115639\ttotal: 101ms\tremaining: 236ms\n",
            "3:\tlearn: 0.5065892\ttotal: 119ms\tremaining: 178ms\n",
            "4:\tlearn: 0.5035042\ttotal: 136ms\tremaining: 136ms\n",
            "5:\tlearn: 0.5017186\ttotal: 154ms\tremaining: 102ms\n",
            "6:\tlearn: 0.4998442\ttotal: 171ms\tremaining: 73.5ms\n",
            "7:\tlearn: 0.4989428\ttotal: 192ms\tremaining: 47.9ms\n",
            "8:\tlearn: 0.4976419\ttotal: 209ms\tremaining: 23.2ms\n",
            "9:\tlearn: 0.4962595\ttotal: 227ms\tremaining: 0us\n",
            "Learning rate set to 0.5\n",
            "0:\tlearn: 0.5552209\ttotal: 16.5ms\tremaining: 149ms\n",
            "1:\tlearn: 0.5225091\ttotal: 33.3ms\tremaining: 133ms\n",
            "2:\tlearn: 0.5123161\ttotal: 50.1ms\tremaining: 117ms\n",
            "3:\tlearn: 0.5074397\ttotal: 67.4ms\tremaining: 101ms\n",
            "4:\tlearn: 0.5048446\ttotal: 85.4ms\tremaining: 85.4ms\n",
            "5:\tlearn: 0.5030425\ttotal: 102ms\tremaining: 68.3ms\n",
            "6:\tlearn: 0.5006089\ttotal: 121ms\tremaining: 51.8ms\n",
            "7:\tlearn: 0.4989212\ttotal: 138ms\tremaining: 34.6ms\n",
            "8:\tlearn: 0.4974886\ttotal: 158ms\tremaining: 17.5ms\n",
            "9:\tlearn: 0.4962750\ttotal: 183ms\tremaining: 0us\n",
            "Learning rate set to 0.5\n",
            "0:\tlearn: 0.5552981\ttotal: 16.6ms\tremaining: 149ms\n",
            "1:\tlearn: 0.5232859\ttotal: 32.9ms\tremaining: 132ms\n",
            "2:\tlearn: 0.5124899\ttotal: 49.5ms\tremaining: 116ms\n",
            "3:\tlearn: 0.5067816\ttotal: 67.1ms\tremaining: 101ms\n",
            "4:\tlearn: 0.5035528\ttotal: 86.3ms\tremaining: 86.3ms\n",
            "5:\tlearn: 0.5008820\ttotal: 106ms\tremaining: 70.7ms\n",
            "6:\tlearn: 0.4992581\ttotal: 123ms\tremaining: 52.8ms\n",
            "7:\tlearn: 0.4984689\ttotal: 140ms\tremaining: 35.1ms\n",
            "8:\tlearn: 0.4976705\ttotal: 158ms\tremaining: 17.5ms\n",
            "9:\tlearn: 0.4969028\ttotal: 174ms\tremaining: 0us\n",
            "Learning rate set to 0.5\n",
            "0:\tlearn: 0.5551712\ttotal: 16.9ms\tremaining: 152ms\n",
            "1:\tlearn: 0.5220460\ttotal: 39.2ms\tremaining: 157ms\n",
            "2:\tlearn: 0.5124971\ttotal: 56.3ms\tremaining: 131ms\n",
            "3:\tlearn: 0.5072014\ttotal: 73.2ms\tremaining: 110ms\n",
            "4:\tlearn: 0.5044283\ttotal: 90.9ms\tremaining: 90.9ms\n",
            "5:\tlearn: 0.5024037\ttotal: 108ms\tremaining: 71.8ms\n",
            "6:\tlearn: 0.5005781\ttotal: 125ms\tremaining: 53.6ms\n",
            "7:\tlearn: 0.4992313\ttotal: 142ms\tremaining: 35.6ms\n",
            "8:\tlearn: 0.4984053\ttotal: 162ms\tremaining: 18ms\n",
            "9:\tlearn: 0.4971928\ttotal: 181ms\tremaining: 0us\n",
            "Learning rate set to 0.5\n",
            "0:\tlearn: 0.5558154\ttotal: 19.7ms\tremaining: 178ms\n",
            "1:\tlearn: 0.5230518\ttotal: 37.3ms\tremaining: 149ms\n",
            "2:\tlearn: 0.5138828\ttotal: 53.9ms\tremaining: 126ms\n",
            "3:\tlearn: 0.5083533\ttotal: 71.5ms\tremaining: 107ms\n",
            "4:\tlearn: 0.5052850\ttotal: 89.2ms\tremaining: 89.2ms\n",
            "5:\tlearn: 0.5036366\ttotal: 106ms\tremaining: 70.8ms\n",
            "6:\tlearn: 0.5013998\ttotal: 124ms\tremaining: 53.2ms\n",
            "7:\tlearn: 0.5000211\ttotal: 141ms\tremaining: 35.3ms\n",
            "8:\tlearn: 0.4996424\ttotal: 157ms\tremaining: 17.5ms\n",
            "9:\tlearn: 0.4987331\ttotal: 174ms\tremaining: 0us\n",
            "Learning rate set to 0.5\n",
            "0:\tlearn: 0.5555716\ttotal: 17ms\tremaining: 153ms\n",
            "1:\tlearn: 0.5234422\ttotal: 33.4ms\tremaining: 134ms\n",
            "2:\tlearn: 0.5120769\ttotal: 51ms\tremaining: 119ms\n",
            "3:\tlearn: 0.5069274\ttotal: 69.2ms\tremaining: 104ms\n",
            "4:\tlearn: 0.5040320\ttotal: 86.8ms\tremaining: 86.8ms\n",
            "5:\tlearn: 0.5021054\ttotal: 104ms\tremaining: 69.4ms\n",
            "6:\tlearn: 0.5006256\ttotal: 122ms\tremaining: 52.2ms\n",
            "7:\tlearn: 0.4992738\ttotal: 139ms\tremaining: 34.7ms\n",
            "8:\tlearn: 0.4984151\ttotal: 155ms\tremaining: 17.3ms\n",
            "9:\tlearn: 0.4973632\ttotal: 172ms\tremaining: 0us\n",
            "Learning rate set to 0.5\n",
            "0:\tlearn: 0.5545269\ttotal: 16.6ms\tremaining: 149ms\n",
            "1:\tlearn: 0.5213780\ttotal: 33.6ms\tremaining: 134ms\n",
            "2:\tlearn: 0.5117814\ttotal: 51.3ms\tremaining: 120ms\n",
            "3:\tlearn: 0.5063525\ttotal: 68.4ms\tremaining: 103ms\n",
            "4:\tlearn: 0.5038596\ttotal: 84.9ms\tremaining: 84.9ms\n",
            "5:\tlearn: 0.5016906\ttotal: 103ms\tremaining: 68.5ms\n",
            "6:\tlearn: 0.4998701\ttotal: 120ms\tremaining: 51.6ms\n",
            "7:\tlearn: 0.4972796\ttotal: 141ms\tremaining: 35.3ms\n",
            "8:\tlearn: 0.4966550\ttotal: 162ms\tremaining: 18ms\n",
            "9:\tlearn: 0.4949769\ttotal: 180ms\tremaining: 0us\n",
            "Learning rate set to 0.5\n",
            "0:\tlearn: 0.5549937\ttotal: 16.7ms\tremaining: 150ms\n",
            "1:\tlearn: 0.5220080\ttotal: 33.4ms\tremaining: 134ms\n",
            "2:\tlearn: 0.5129920\ttotal: 50ms\tremaining: 117ms\n",
            "3:\tlearn: 0.5072133\ttotal: 69.5ms\tremaining: 104ms\n",
            "4:\tlearn: 0.5043858\ttotal: 88.7ms\tremaining: 88.7ms\n",
            "5:\tlearn: 0.5024222\ttotal: 106ms\tremaining: 70.5ms\n",
            "6:\tlearn: 0.5004433\ttotal: 123ms\tremaining: 52.9ms\n",
            "7:\tlearn: 0.4988219\ttotal: 140ms\tremaining: 35.1ms\n",
            "8:\tlearn: 0.4983233\ttotal: 156ms\tremaining: 17.3ms\n",
            "9:\tlearn: 0.4968082\ttotal: 174ms\tremaining: 0us\n",
            "Learning rate set to 0.5\n",
            "0:\tlearn: 0.5551280\ttotal: 20.8ms\tremaining: 187ms\n",
            "1:\tlearn: 0.5221095\ttotal: 38.3ms\tremaining: 153ms\n",
            "2:\tlearn: 0.5127909\ttotal: 65.6ms\tremaining: 153ms\n",
            "3:\tlearn: 0.5069096\ttotal: 83.5ms\tremaining: 125ms\n",
            "4:\tlearn: 0.5044351\ttotal: 103ms\tremaining: 103ms\n",
            "5:\tlearn: 0.5024163\ttotal: 120ms\tremaining: 79.8ms\n",
            "6:\tlearn: 0.5006170\ttotal: 138ms\tremaining: 59.1ms\n",
            "7:\tlearn: 0.4993466\ttotal: 155ms\tremaining: 38.7ms\n",
            "8:\tlearn: 0.4985042\ttotal: 172ms\tremaining: 19.1ms\n",
            "9:\tlearn: 0.4967303\ttotal: 197ms\tremaining: 0us\n",
            "Learning rate set to 0.5\n",
            "0:\tlearn: 0.5553786\ttotal: 16.6ms\tremaining: 150ms\n",
            "1:\tlearn: 0.5231664\ttotal: 32.8ms\tremaining: 131ms\n",
            "2:\tlearn: 0.5122217\ttotal: 50ms\tremaining: 117ms\n",
            "3:\tlearn: 0.5063967\ttotal: 67.8ms\tremaining: 102ms\n",
            "4:\tlearn: 0.5042794\ttotal: 85ms\tremaining: 85ms\n",
            "5:\tlearn: 0.5024461\ttotal: 102ms\tremaining: 68.1ms\n",
            "6:\tlearn: 0.5005197\ttotal: 120ms\tremaining: 51.4ms\n",
            "7:\tlearn: 0.4995510\ttotal: 137ms\tremaining: 34.2ms\n",
            "8:\tlearn: 0.4986560\ttotal: 154ms\tremaining: 17.1ms\n",
            "9:\tlearn: 0.4973487\ttotal: 171ms\tremaining: 0us\n",
            "cat: 0.631412 (0.012632)\n",
            "lgb: 0.627323 (0.016210)\n",
            "xgb: 0.637178 (0.016852)\n"
          ],
          "name": "stdout"
        }
      ]
    },
    {
      "cell_type": "code",
      "metadata": {
        "id": "5ICRdvruVl82"
      },
      "source": [
        "cv = KFold(n_splits=10, random_state=21)\n",
        "n_scores = cross_val_score(ensemble, X_train, y_train, scoring='roc_auc', cv=cv)"
      ],
      "execution_count": 34,
      "outputs": []
    },
    {
      "cell_type": "code",
      "metadata": {
        "colab": {
          "base_uri": "https://localhost:8080/"
        },
        "id": "u9ZyhPwMWA77",
        "outputId": "a279a151-2ff6-48e3-de39-1a9111d6c6d7"
      },
      "source": [
        "n_scores"
      ],
      "execution_count": 35,
      "outputs": [
        {
          "output_type": "execute_result",
          "data": {
            "text/plain": [
              "array([nan, nan, nan, nan, nan, nan, nan, nan, nan, nan])"
            ]
          },
          "metadata": {
            "tags": []
          },
          "execution_count": 35
        }
      ]
    },
    {
      "cell_type": "code",
      "metadata": {
        "id": "oz6Uh4rBVl6e"
      },
      "source": [
        "import pickle\n",
        "# open a file, where you ant to store the data\n",
        "file = open('random_forest_clf_loan_default_model1.pkl', 'wb')\n",
        "\n",
        "# dump information to that file\n",
        "pickle.dump(rf_random, file)"
      ],
      "execution_count": null,
      "outputs": []
    },
    {
      "cell_type": "code",
      "metadata": {
        "id": "gR1ToxidVl3n"
      },
      "source": [
        ""
      ],
      "execution_count": null,
      "outputs": []
    },
    {
      "cell_type": "code",
      "metadata": {
        "id": "2dhECU52Vl1Z"
      },
      "source": [
        ""
      ],
      "execution_count": null,
      "outputs": []
    },
    {
      "cell_type": "code",
      "metadata": {
        "id": "HlFKZsezVlzO"
      },
      "source": [
        ""
      ],
      "execution_count": null,
      "outputs": []
    },
    {
      "cell_type": "code",
      "metadata": {
        "id": "vtlqm0ADVlw-"
      },
      "source": [
        ""
      ],
      "execution_count": null,
      "outputs": []
    },
    {
      "cell_type": "code",
      "metadata": {
        "id": "phTqCZGoVlun"
      },
      "source": [
        ""
      ],
      "execution_count": null,
      "outputs": []
    },
    {
      "cell_type": "code",
      "metadata": {
        "id": "0C4j_JLfVlsB"
      },
      "source": [
        ""
      ],
      "execution_count": null,
      "outputs": []
    }
  ]
}