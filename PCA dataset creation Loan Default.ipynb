{
 "cells": [
  {
   "cell_type": "code",
   "execution_count": 1,
   "metadata": {},
   "outputs": [],
   "source": [
    "# Part 1 - Data Preprocessing\n",
    "\n",
    "# Importing the libraries\n",
    "import numpy as np\n",
    "import matplotlib.pyplot as plt\n",
    "import pandas as pd"
   ]
  },
  {
   "cell_type": "code",
   "execution_count": 2,
   "metadata": {},
   "outputs": [],
   "source": [
    "# Importing the dataset\n",
    "import pandas as pd\n",
    "df=pd.read_csv(\"MSME Data Modified_PCA_Feat_Engg_30_v1.2.csv\")\n",
    "df_featengg = pd.read_csv(\"MSME Data Modified_v1.9_featureEngineered.csv\")\n",
    "df_knn_imputed = pd.read_csv('MSME Data Modified_v1.6_impute_knn.csv')\n"
   ]
  },
  {
   "cell_type": "code",
   "execution_count": 3,
   "metadata": {},
   "outputs": [],
   "source": [
    "# data mining libaries\n",
    "from sklearn.tree import DecisionTreeClassifier\n",
    "from sklearn.ensemble import RandomForestClassifier\n",
    "from sklearn.preprocessing import LabelEncoder\n",
    "from sklearn.decomposition import PCA#, FastICA\n",
    "from sklearn.model_selection import train_test_split, KFold, StratifiedKFold, GridSearchCV, learning_curve\n",
    "from sklearn import svm\n",
    "from sklearn.linear_model import LogisticRegression\n",
    "from sklearn.neighbors import KNeighborsClassifier\n",
    "from sklearn.metrics import roc_curve, auc, confusion_matrix, accuracy_score, f1_score, precision_score, recall_score, roc_auc_score\n",
    "\n",
    "from imblearn.pipeline import make_pipeline, Pipeline\n",
    "from imblearn.over_sampling import SMOTE"
   ]
  },
  {
   "cell_type": "code",
   "execution_count": 4,
   "metadata": {},
   "outputs": [
    {
     "name": "stdout",
     "output_type": "stream",
     "text": [
      "<class 'pandas.core.frame.DataFrame'>\n",
      "RangeIndex: 32191 entries, 0 to 32190\n",
      "Data columns (total 47 columns):\n",
      " #   Column                                    Non-Null Count  Dtype  \n",
      "---  ------                                    --------------  -----  \n",
      " 0   ConsumerID                                32191 non-null  int64  \n",
      " 1   ac_no                                     32191 non-null  int64  \n",
      " 2   ac_title                                  32191 non-null  object \n",
      " 3   open_dt                                   32191 non-null  object \n",
      " 4   sme_sector                                32191 non-null  int64  \n",
      " 5   sector_name                               32191 non-null  object \n",
      " 6   sme_category                              32191 non-null  object \n",
      " 7   module_id                                 32191 non-null  object \n",
      " 8   scheme_cd                                 32191 non-null  object \n",
      " 9   bsr_activity_cd                           32191 non-null  int64  \n",
      " 10  industry_name                             32191 non-null  object \n",
      " 11  bsr_org_cd                                32191 non-null  int64  \n",
      " 12  branch_name                               32191 non-null  object \n",
      " 13  district_name                             32191 non-null  object \n",
      " 14  region_name                               32191 non-null  object \n",
      " 15  state_name                                32191 non-null  object \n",
      " 16  disbursed_amount                          32191 non-null  int64  \n",
      " 17  asset_cost                                32191 non-null  int64  \n",
      " 18  ltv                                       32191 non-null  float64\n",
      " 19  PRI.ACTIVE.ACCTS                          32191 non-null  int64  \n",
      " 20  PRI.OVERDUE.ACCTS                         32191 non-null  int64  \n",
      " 21  PRI.CURRENT.BALANCE                       32191 non-null  int64  \n",
      " 22  PRI.SANCTIONED.AMOUNT                     32191 non-null  int64  \n",
      " 23  PRI.DISBURSED.AMOUNT                      32191 non-null  int64  \n",
      " 24  SEC.NO.OF.ACCTS                           32191 non-null  int64  \n",
      " 25  SEC.ACTIVE.ACCTS                          32191 non-null  int64  \n",
      " 26  SEC.OVERDUE.ACCTS                         32191 non-null  int64  \n",
      " 27  SEC.CURRENT.BALANCE                       32191 non-null  int64  \n",
      " 28  SEC.SANCTIONED.AMOUNT                     32191 non-null  int64  \n",
      " 29  SEC.DISBURSED.AMOUNT                      32191 non-null  int64  \n",
      " 30  PRIMARY.INSTAL.AMT                        32191 non-null  int64  \n",
      " 31  SEC.INSTAL.AMT                            32191 non-null  int64  \n",
      " 32  NEW.ACCTS.IN.LAST.SIX.MONTHS              32191 non-null  int64  \n",
      " 33  DELINQUENT.ACCTS.IN.LAST.SIX.MONTHS       32191 non-null  int64  \n",
      " 34  Delinquent                                32191 non-null  int64  \n",
      " 35  Date.of.Birth                             32191 non-null  object \n",
      " 36  Employment.Type                           32191 non-null  object \n",
      " 37  MobileNo_Avl_Flag                         32191 non-null  int64  \n",
      " 38  Aadhar_flag                               32191 non-null  int64  \n",
      " 39  PAN_flag                                  32191 non-null  int64  \n",
      " 40  VoterID_flag                              32191 non-null  int64  \n",
      " 41  Driving_flag                              32191 non-null  int64  \n",
      " 42  Passport_flag                             32191 non-null  int64  \n",
      " 43  PERFORM_CNS.SCORE                         32191 non-null  int64  \n",
      " 44  PERFORM_CNS.SCORE.DESCRIPTION             32191 non-null  object \n",
      " 45  loan_default                              32191 non-null  int64  \n",
      " 46  PERFORM_CNS.SCORE.DESCRIPTION_Simplified  32191 non-null  object \n",
      "dtypes: float64(1), int64(31), object(15)\n",
      "memory usage: 11.5+ MB\n"
     ]
    }
   ],
   "source": [
    "df_knn_imputed.info()"
   ]
  },
  {
   "cell_type": "code",
   "execution_count": null,
   "metadata": {},
   "outputs": [],
   "source": [
    "c = 45  # loan default column\n",
    "X = df_knn_imputef.drop(df.columns[c], axis =1)\n",
    "y = df['loan_default'].astype(int)"
   ]
  },
  {
   "cell_type": "code",
   "execution_count": null,
   "metadata": {},
   "outputs": [],
   "source": []
  },
  {
   "cell_type": "code",
   "execution_count": null,
   "metadata": {},
   "outputs": [],
   "source": []
  },
  {
   "cell_type": "code",
   "execution_count": null,
   "metadata": {},
   "outputs": [],
   "source": []
  },
  {
   "cell_type": "code",
   "execution_count": null,
   "metadata": {},
   "outputs": [],
   "source": []
  },
  {
   "cell_type": "code",
   "execution_count": null,
   "metadata": {},
   "outputs": [],
   "source": []
  },
  {
   "cell_type": "code",
   "execution_count": null,
   "metadata": {},
   "outputs": [],
   "source": []
  },
  {
   "cell_type": "code",
   "execution_count": null,
   "metadata": {},
   "outputs": [],
   "source": []
  },
  {
   "cell_type": "code",
   "execution_count": null,
   "metadata": {},
   "outputs": [],
   "source": []
  },
  {
   "cell_type": "code",
   "execution_count": null,
   "metadata": {},
   "outputs": [],
   "source": []
  },
  {
   "cell_type": "code",
   "execution_count": null,
   "metadata": {},
   "outputs": [],
   "source": []
  },
  {
   "cell_type": "code",
   "execution_count": null,
   "metadata": {},
   "outputs": [],
   "source": []
  },
  {
   "cell_type": "code",
   "execution_count": null,
   "metadata": {},
   "outputs": [],
   "source": []
  },
  {
   "cell_type": "code",
   "execution_count": null,
   "metadata": {},
   "outputs": [],
   "source": []
  },
  {
   "cell_type": "code",
   "execution_count": null,
   "metadata": {},
   "outputs": [],
   "source": []
  },
  {
   "cell_type": "code",
   "execution_count": null,
   "metadata": {},
   "outputs": [],
   "source": []
  },
  {
   "cell_type": "code",
   "execution_count": null,
   "metadata": {},
   "outputs": [],
   "source": []
  },
  {
   "cell_type": "code",
   "execution_count": null,
   "metadata": {},
   "outputs": [],
   "source": []
  },
  {
   "cell_type": "code",
   "execution_count": null,
   "metadata": {},
   "outputs": [],
   "source": []
  },
  {
   "cell_type": "code",
   "execution_count": null,
   "metadata": {},
   "outputs": [],
   "source": []
  },
  {
   "cell_type": "code",
   "execution_count": null,
   "metadata": {},
   "outputs": [],
   "source": []
  },
  {
   "cell_type": "code",
   "execution_count": null,
   "metadata": {},
   "outputs": [],
   "source": []
  },
  {
   "cell_type": "code",
   "execution_count": null,
   "metadata": {},
   "outputs": [],
   "source": []
  },
  {
   "cell_type": "code",
   "execution_count": null,
   "metadata": {},
   "outputs": [],
   "source": []
  }
 ],
 "metadata": {
  "kernelspec": {
   "display_name": "python3.7",
   "language": "python",
   "name": "python3.7"
  },
  "language_info": {
   "codemirror_mode": {
    "name": "ipython",
    "version": 3
   },
   "file_extension": ".py",
   "mimetype": "text/x-python",
   "name": "python",
   "nbconvert_exporter": "python",
   "pygments_lexer": "ipython3",
   "version": "3.7.6"
  }
 },
 "nbformat": 4,
 "nbformat_minor": 4
}
