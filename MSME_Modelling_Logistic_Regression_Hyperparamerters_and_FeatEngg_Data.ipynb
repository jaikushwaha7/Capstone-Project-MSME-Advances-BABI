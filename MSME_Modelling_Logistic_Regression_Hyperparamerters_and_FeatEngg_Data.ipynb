{
 "cells": [
  {
   "cell_type": "code",
   "execution_count": 1,
   "metadata": {
    "colab": {
     "base_uri": "https://localhost:8080/"
    },
    "id": "9Ph5CZ_p71d2",
    "outputId": "d4eab3dc-1867-4fd7-aec0-cfa039102222"
   },
   "outputs": [
    {
     "name": "stdout",
     "output_type": "stream",
     "text": [
      "Mounted at /content/drive\n"
     ]
    }
   ],
   "source": [
    "# Load the Drive helper and mount\n",
    "from google.colab import drive\n",
    "drive.mount('/content/drive')"
   ]
  },
  {
   "cell_type": "code",
   "execution_count": 2,
   "metadata": {
    "id": "nUVyHIyB8Y2p"
   },
   "outputs": [],
   "source": [
    "import os\n",
    "os.chdir(\"drive/My Drive/Capstone Data\")"
   ]
  },
  {
   "cell_type": "code",
   "execution_count": 3,
   "metadata": {
    "id": "yf6IKCYB8Y0F"
   },
   "outputs": [],
   "source": [
    "import pandas as pd\n",
    "df=pd.read_csv(\"MSME Data Modified_v1.10_clean_withoutNA_ImpFeatures10.csv\")"
   ]
  },
  {
   "cell_type": "code",
   "execution_count": 4,
   "metadata": {
    "id": "Teh6NMOq8YyL"
   },
   "outputs": [],
   "source": [
    "import numpy as np\n",
    "from sklearn.preprocessing import StandardScaler\n",
    "from sklearn.preprocessing import RobustScaler\n",
    "from sklearn.model_selection import train_test_split\n",
    "from sklearn.model_selection import GridSearchCV\n",
    "from sklearn.linear_model import LogisticRegression\n",
    "from sklearn.pipeline import make_pipeline"
   ]
  },
  {
   "cell_type": "code",
   "execution_count": null,
   "metadata": {
    "id": "cZEuMI9E-Du0"
   },
   "outputs": [],
   "source": [
    "# do not show any warnings\n",
    "import warnings\n",
    "warnings.filterwarnings('ignore')"
   ]
  },
  {
   "cell_type": "code",
   "execution_count": 5,
   "metadata": {
    "colab": {
     "base_uri": "https://localhost:8080/"
    },
    "id": "UfRGY5SC8xcP",
    "outputId": "f586bdcf-3f9f-489f-98de-a553b1a149c5"
   },
   "outputs": [
    {
     "name": "stdout",
     "output_type": "stream",
     "text": [
      "<class 'pandas.core.frame.DataFrame'>\n",
      "RangeIndex: 32191 entries, 0 to 32190\n",
      "Data columns (total 12 columns):\n",
      " #   Column            Non-Null Count  Dtype  \n",
      "---  ------            --------------  -----  \n",
      " 0   Unnamed: 0        32191 non-null  int64  \n",
      " 1   branch_name       32191 non-null  float64\n",
      " 2   ltv               32191 non-null  float64\n",
      " 3   disbursed_amount  32191 non-null  int64  \n",
      " 4   asset_cost        32191 non-null  int64  \n",
      " 5   district_name     32191 non-null  float64\n",
      " 6   region_name       32191 non-null  float64\n",
      " 7   industry_name     32191 non-null  float64\n",
      " 8   bsr_activity_cd   32191 non-null  int64  \n",
      " 9   state_name        32191 non-null  float64\n",
      " 10  bsr_org_cd        32191 non-null  float64\n",
      " 11  loan_default      32191 non-null  int64  \n",
      "dtypes: float64(7), int64(5)\n",
      "memory usage: 2.9 MB\n"
     ]
    }
   ],
   "source": [
    "df.info()"
   ]
  },
  {
   "cell_type": "code",
   "execution_count": 6,
   "metadata": {
    "id": "aX2P4CUr8YwD"
   },
   "outputs": [],
   "source": [
    "#c = 11\n",
    "X=df.iloc[:,:11]\n",
    "#X=df.drop(df.columns[], axis=1)\n",
    "y=df['loan_default'].astype(int)"
   ]
  },
  {
   "cell_type": "code",
   "execution_count": 7,
   "metadata": {
    "colab": {
     "base_uri": "https://localhost:8080/"
    },
    "id": "LRoA0zB-8Ysp",
    "outputId": "4ebc96fd-fcaa-4ed3-e2b7-96415b4ff9bc"
   },
   "outputs": [
    {
     "name": "stderr",
     "output_type": "stream",
     "text": [
      "/usr/local/lib/python3.6/dist-packages/sklearn/svm/_base.py:947: ConvergenceWarning: Liblinear failed to converge, increase the number of iterations.\n",
      "  \"the number of iterations.\", ConvergenceWarning)\n",
      "/usr/local/lib/python3.6/dist-packages/sklearn/svm/_base.py:947: ConvergenceWarning: Liblinear failed to converge, increase the number of iterations.\n",
      "  \"the number of iterations.\", ConvergenceWarning)\n",
      "/usr/local/lib/python3.6/dist-packages/sklearn/svm/_base.py:947: ConvergenceWarning: Liblinear failed to converge, increase the number of iterations.\n",
      "  \"the number of iterations.\", ConvergenceWarning)\n",
      "/usr/local/lib/python3.6/dist-packages/sklearn/svm/_base.py:947: ConvergenceWarning: Liblinear failed to converge, increase the number of iterations.\n",
      "  \"the number of iterations.\", ConvergenceWarning)\n",
      "/usr/local/lib/python3.6/dist-packages/sklearn/svm/_base.py:947: ConvergenceWarning: Liblinear failed to converge, increase the number of iterations.\n",
      "  \"the number of iterations.\", ConvergenceWarning)\n",
      "/usr/local/lib/python3.6/dist-packages/sklearn/svm/_base.py:947: ConvergenceWarning: Liblinear failed to converge, increase the number of iterations.\n",
      "  \"the number of iterations.\", ConvergenceWarning)\n",
      "/usr/local/lib/python3.6/dist-packages/sklearn/svm/_base.py:947: ConvergenceWarning: Liblinear failed to converge, increase the number of iterations.\n",
      "  \"the number of iterations.\", ConvergenceWarning)\n",
      "/usr/local/lib/python3.6/dist-packages/sklearn/svm/_base.py:947: ConvergenceWarning: Liblinear failed to converge, increase the number of iterations.\n",
      "  \"the number of iterations.\", ConvergenceWarning)\n",
      "/usr/local/lib/python3.6/dist-packages/sklearn/svm/_base.py:947: ConvergenceWarning: Liblinear failed to converge, increase the number of iterations.\n",
      "  \"the number of iterations.\", ConvergenceWarning)\n",
      "/usr/local/lib/python3.6/dist-packages/sklearn/svm/_base.py:947: ConvergenceWarning: Liblinear failed to converge, increase the number of iterations.\n",
      "  \"the number of iterations.\", ConvergenceWarning)\n",
      "/usr/local/lib/python3.6/dist-packages/sklearn/svm/_base.py:947: ConvergenceWarning: Liblinear failed to converge, increase the number of iterations.\n",
      "  \"the number of iterations.\", ConvergenceWarning)\n",
      "/usr/local/lib/python3.6/dist-packages/sklearn/svm/_base.py:947: ConvergenceWarning: Liblinear failed to converge, increase the number of iterations.\n",
      "  \"the number of iterations.\", ConvergenceWarning)\n",
      "/usr/local/lib/python3.6/dist-packages/sklearn/svm/_base.py:947: ConvergenceWarning: Liblinear failed to converge, increase the number of iterations.\n",
      "  \"the number of iterations.\", ConvergenceWarning)\n",
      "/usr/local/lib/python3.6/dist-packages/sklearn/svm/_base.py:947: ConvergenceWarning: Liblinear failed to converge, increase the number of iterations.\n",
      "  \"the number of iterations.\", ConvergenceWarning)\n",
      "/usr/local/lib/python3.6/dist-packages/sklearn/svm/_base.py:947: ConvergenceWarning: Liblinear failed to converge, increase the number of iterations.\n",
      "  \"the number of iterations.\", ConvergenceWarning)\n",
      "/usr/local/lib/python3.6/dist-packages/sklearn/svm/_base.py:947: ConvergenceWarning: Liblinear failed to converge, increase the number of iterations.\n",
      "  \"the number of iterations.\", ConvergenceWarning)\n",
      "/usr/local/lib/python3.6/dist-packages/sklearn/svm/_base.py:947: ConvergenceWarning: Liblinear failed to converge, increase the number of iterations.\n",
      "  \"the number of iterations.\", ConvergenceWarning)\n",
      "/usr/local/lib/python3.6/dist-packages/sklearn/svm/_base.py:947: ConvergenceWarning: Liblinear failed to converge, increase the number of iterations.\n",
      "  \"the number of iterations.\", ConvergenceWarning)\n",
      "/usr/local/lib/python3.6/dist-packages/sklearn/svm/_base.py:947: ConvergenceWarning: Liblinear failed to converge, increase the number of iterations.\n",
      "  \"the number of iterations.\", ConvergenceWarning)\n",
      "/usr/local/lib/python3.6/dist-packages/sklearn/svm/_base.py:947: ConvergenceWarning: Liblinear failed to converge, increase the number of iterations.\n",
      "  \"the number of iterations.\", ConvergenceWarning)\n",
      "/usr/local/lib/python3.6/dist-packages/sklearn/svm/_base.py:947: ConvergenceWarning: Liblinear failed to converge, increase the number of iterations.\n",
      "  \"the number of iterations.\", ConvergenceWarning)\n",
      "/usr/local/lib/python3.6/dist-packages/sklearn/svm/_base.py:947: ConvergenceWarning: Liblinear failed to converge, increase the number of iterations.\n",
      "  \"the number of iterations.\", ConvergenceWarning)\n"
     ]
    }
   ],
   "source": [
    "\n",
    "# Choose between the two scalers:\n",
    "# scaler = RobustScaler()\n",
    "scaler = StandardScaler()  \n",
    "\n",
    "C_values = [0.001, 0.01, 0.05, 0.1, 1., 100.]\n",
    "\n",
    "X_train, X_test, y_train, y_test = train_test_split(X, y, random_state=0)\n",
    "\n",
    "###########################################\n",
    "# Version A: Proper scaling with pipeline #\n",
    "###########################################\n",
    "\n",
    "param_grid = {'logisticregression__C': C_values}\n",
    "\n",
    "logReg = LogisticRegression(fit_intercept=True, \n",
    "                            penalty='l1', \n",
    "                            solver='liblinear', \n",
    "                            tol=0.0001, \n",
    "                            max_iter=1000, \n",
    "                            random_state=0)\n",
    "\n",
    "# Create a pipeline that scales, then runs logistic regression\n",
    "pipeline = make_pipeline(scaler, logReg)\n",
    "\n",
    "vA = GridSearchCV(pipeline, param_grid=param_grid,\n",
    "                     scoring='roc_auc', cv=10, refit=True)\n",
    "vA.fit(X_train, y_train)\n",
    "\n",
    "# Get coefficients\n",
    "coefA = vA.best_estimator_.named_steps['logisticregression'].coef_\n",
    "\n",
    "###############################\n",
    "# Version B: Improper scaling #     \n",
    "###############################\n",
    "\n",
    "param_grid = {'C': C_values}\n",
    "\n",
    "X_train_scaled = scaler.fit_transform(X_train)\n",
    "\n",
    "vB = GridSearchCV(logReg, param_grid=param_grid,\n",
    "                     scoring='roc_auc', cv=10, refit=True)\n",
    "vB.fit(X_train_scaled, y_train)\n",
    "\n",
    "# Get coefficients\n",
    "coefB = vB.best_estimator_.coef_\n",
    "\n",
    "\n",
    "# Compare coefficients\n",
    "# (Assertion will pass for StandardScaler, but \n",
    "# fail for RobustScaler)\n",
    "assert np.array_equal(coefA, coefB)"
   ]
  },
  {
   "cell_type": "code",
   "execution_count": 9,
   "metadata": {
    "id": "MSG6PH5FnzRP"
   },
   "outputs": [],
   "source": [
    "# Saving model to disk\n",
    "import pickle\n",
    "pickle.dump(vA, open('model_log_reg_hyper_1.pkl','wb'))\n",
    "pickle.dump(vA, open('model_log_reg_hyper_scaled_2.pkl','wb'))"
   ]
  },
  {
   "cell_type": "code",
   "execution_count": 12,
   "metadata": {
    "id": "oE0wHw4FohGI"
   },
   "outputs": [],
   "source": [
    "from sklearn.metrics import classification_report, confusion_matrix"
   ]
  },
  {
   "cell_type": "markdown",
   "metadata": {
    "id": "ZqoqRrXepGw2"
   },
   "source": [
    "Using model A"
   ]
  },
  {
   "cell_type": "code",
   "execution_count": 16,
   "metadata": {
    "colab": {
     "base_uri": "https://localhost:8080/"
    },
    "id": "1HOkxffD8Yqs",
    "outputId": "00482a4c-0ac7-4d46-d1a1-0adff03b9d30"
   },
   "outputs": [
    {
     "data": {
      "text/plain": [
       "array([[18836,     1],\n",
       "       [ 5246,    60]])"
      ]
     },
     "execution_count": 16,
     "metadata": {
      "tags": []
     },
     "output_type": "execute_result"
    }
   ],
   "source": [
    "pred = vA.predict(X_train)\n",
    "confusion_matrix(y_train, vA.predict(X_train))"
   ]
  },
  {
   "cell_type": "code",
   "execution_count": 18,
   "metadata": {
    "colab": {
     "base_uri": "https://localhost:8080/"
    },
    "id": "I38X-cwModU4",
    "outputId": "bb5dc12a-0962-4185-dcaf-b83dc5e07784"
   },
   "outputs": [
    {
     "name": "stdout",
     "output_type": "stream",
     "text": [
      "              precision    recall  f1-score   support\n",
      "\n",
      "           0       0.78      1.00      0.88     18837\n",
      "           1       0.98      0.01      0.02      5306\n",
      "\n",
      "    accuracy                           0.78     24143\n",
      "   macro avg       0.88      0.51      0.45     24143\n",
      "weighted avg       0.83      0.78      0.69     24143\n",
      "\n"
     ]
    }
   ],
   "source": [
    "print(classification_report(y_train, pred))"
   ]
  },
  {
   "cell_type": "code",
   "execution_count": 14,
   "metadata": {
    "colab": {
     "base_uri": "https://localhost:8080/"
    },
    "id": "UsMOHkBb8Yoe",
    "outputId": "350fd3a7-6853-4e02-a71d-089f80a343d4"
   },
   "outputs": [
    {
     "data": {
      "text/plain": [
       "array([[6314,    0],\n",
       "       [1704,   30]])"
      ]
     },
     "execution_count": 14,
     "metadata": {
      "tags": []
     },
     "output_type": "execute_result"
    }
   ],
   "source": [
    "pred = vA.predict(X_test)\n",
    "confusion_matrix(y_test, vA.predict(X_test))"
   ]
  },
  {
   "cell_type": "code",
   "execution_count": 15,
   "metadata": {
    "colab": {
     "base_uri": "https://localhost:8080/"
    },
    "id": "LfPUpYiW8YmQ",
    "outputId": "52c3e5d0-5358-41db-d71b-c03104b52eeb"
   },
   "outputs": [
    {
     "name": "stdout",
     "output_type": "stream",
     "text": [
      "              precision    recall  f1-score   support\n",
      "\n",
      "           0       0.79      1.00      0.88      6314\n",
      "           1       1.00      0.02      0.03      1734\n",
      "\n",
      "    accuracy                           0.79      8048\n",
      "   macro avg       0.89      0.51      0.46      8048\n",
      "weighted avg       0.83      0.79      0.70      8048\n",
      "\n"
     ]
    }
   ],
   "source": [
    "print(classification_report(y_test, pred))"
   ]
  },
  {
   "cell_type": "markdown",
   "metadata": {
    "id": "ZgvbUXyYpAxZ"
   },
   "source": [
    "Using Model B"
   ]
  },
  {
   "cell_type": "code",
   "execution_count": 20,
   "metadata": {
    "colab": {
     "base_uri": "https://localhost:8080/"
    },
    "id": "FYBcZWZx8Yj0",
    "outputId": "195113e4-09db-429a-edf3-a2b92cde2c58"
   },
   "outputs": [
    {
     "data": {
      "text/plain": [
       "array([[    0, 18837],\n",
       "       [    0,  5306]])"
      ]
     },
     "execution_count": 20,
     "metadata": {
      "tags": []
     },
     "output_type": "execute_result"
    }
   ],
   "source": [
    "pred = vB.predict(X_train)\n",
    "confusion_matrix(y_train, vB.predict(X_train))"
   ]
  },
  {
   "cell_type": "code",
   "execution_count": 21,
   "metadata": {
    "colab": {
     "base_uri": "https://localhost:8080/"
    },
    "id": "9uUYIycG8YhI",
    "outputId": "367fe5d6-17b3-487d-aff1-dce3c3761aba"
   },
   "outputs": [
    {
     "name": "stdout",
     "output_type": "stream",
     "text": [
      "              precision    recall  f1-score   support\n",
      "\n",
      "           0       0.00      0.00      0.00     18837\n",
      "           1       0.22      1.00      0.36      5306\n",
      "\n",
      "    accuracy                           0.22     24143\n",
      "   macro avg       0.11      0.50      0.18     24143\n",
      "weighted avg       0.05      0.22      0.08     24143\n",
      "\n"
     ]
    },
    {
     "name": "stderr",
     "output_type": "stream",
     "text": [
      "/usr/local/lib/python3.6/dist-packages/sklearn/metrics/_classification.py:1272: UndefinedMetricWarning: Precision and F-score are ill-defined and being set to 0.0 in labels with no predicted samples. Use `zero_division` parameter to control this behavior.\n",
      "  _warn_prf(average, modifier, msg_start, len(result))\n"
     ]
    }
   ],
   "source": [
    "print(classification_report(y_train, pred))"
   ]
  },
  {
   "cell_type": "code",
   "execution_count": 22,
   "metadata": {
    "colab": {
     "base_uri": "https://localhost:8080/"
    },
    "id": "nRjYJisY8Ydq",
    "outputId": "12f9f905-6f9d-4468-a73b-247292c8b45e"
   },
   "outputs": [
    {
     "data": {
      "text/plain": [
       "array([[   0, 6314],\n",
       "       [   0, 1734]])"
      ]
     },
     "execution_count": 22,
     "metadata": {
      "tags": []
     },
     "output_type": "execute_result"
    }
   ],
   "source": [
    "pred = vB.predict(X_test)\n",
    "confusion_matrix(y_test, vB.predict(X_test))"
   ]
  },
  {
   "cell_type": "code",
   "execution_count": 23,
   "metadata": {
    "colab": {
     "base_uri": "https://localhost:8080/"
    },
    "id": "-ZR1oTwq8Yar",
    "outputId": "2c9c1d86-eaf1-4192-c4da-c421f78b0c80"
   },
   "outputs": [
    {
     "name": "stdout",
     "output_type": "stream",
     "text": [
      "              precision    recall  f1-score   support\n",
      "\n",
      "           0       0.00      0.00      0.00      6314\n",
      "           1       0.22      1.00      0.35      1734\n",
      "\n",
      "    accuracy                           0.22      8048\n",
      "   macro avg       0.11      0.50      0.18      8048\n",
      "weighted avg       0.05      0.22      0.08      8048\n",
      "\n"
     ]
    },
    {
     "name": "stderr",
     "output_type": "stream",
     "text": [
      "/usr/local/lib/python3.6/dist-packages/sklearn/metrics/_classification.py:1272: UndefinedMetricWarning: Precision and F-score are ill-defined and being set to 0.0 in labels with no predicted samples. Use `zero_division` parameter to control this behavior.\n",
      "  _warn_prf(average, modifier, msg_start, len(result))\n"
     ]
    }
   ],
   "source": [
    "print(classification_report(y_test, pred))"
   ]
  },
  {
   "cell_type": "code",
   "execution_count": null,
   "metadata": {
    "id": "kRUmhYZk8YYX"
   },
   "outputs": [],
   "source": []
  }
 ],
 "metadata": {
  "colab": {
   "collapsed_sections": [],
   "name": "MSME Modelling Logistic_Regression_Hyperparamerters and FeatEngg_Data.ipynb",
   "provenance": []
  },
  "kernelspec": {
   "display_name": "Python 3",
   "language": "python",
   "name": "python3"
  },
  "language_info": {
   "codemirror_mode": {
    "name": "ipython",
    "version": 3
   },
   "file_extension": ".py",
   "mimetype": "text/x-python",
   "name": "python",
   "nbconvert_exporter": "python",
   "pygments_lexer": "ipython3",
   "version": "3.7.6"
  }
 },
 "nbformat": 4,
 "nbformat_minor": 1
}
